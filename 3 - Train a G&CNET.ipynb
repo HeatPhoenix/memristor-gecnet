{
 "cells": [
  {
   "cell_type": "code",
   "execution_count": 24,
   "id": "3dbcf443",
   "metadata": {},
   "outputs": [
    {
     "name": "stdout",
     "output_type": "stream",
     "text": [
      "The autoreload extension is already loaded. To reload it, use:\n",
      "  %reload_ext autoreload\n"
     ]
    }
   ],
   "source": [
    "# Core imports\n",
    "from mycore import ast2station_rotating, ast2station_rotating2\n",
    "\n",
    "# PyTorch and ML\n",
    "import torch\n",
    "import torch.nn as nn\n",
    "from torch.utils.data import DataLoader, Dataset\n",
    "from sklearn.model_selection import train_test_split\n",
    "from sklearn.utils import shuffle\n",
    "from sklearn.preprocessing import StandardScaler\n",
    "\n",
    "# Main imports\n",
    "import heyoka as hy\n",
    "import pykep as pk\n",
    "import pandas as pd\n",
    "\n",
    "# Usual imports\n",
    "import time\n",
    "import numpy as np\n",
    "import pickle as pkl\n",
    "import matplotlib as mpl\n",
    "import matplotlib.pyplot as plt\n",
    "from tqdm import tqdm\n",
    "from mpl_toolkits.mplot3d import Axes3D\n",
    "import copy\n",
    "\n",
    "# Jupyter setup\n",
    "%matplotlib notebook\n",
    "%matplotlib inline\n",
    "%load_ext autoreload\n",
    "%autoreload 2"
   ]
  },
  {
   "cell_type": "markdown",
   "id": "6fd0041b",
   "metadata": {},
   "source": [
    "# Load the dataset\n",
    "The file nominal_bundle....pk is created in the previous notebook\n"
   ]
  },
  {
   "cell_type": "code",
   "execution_count": 25,
   "id": "72d5a168",
   "metadata": {
    "scrolled": true
   },
   "outputs": [],
   "source": [
    "dataset_name=\"data/training_50000_100_[0.001, 0.001, 0.08, 0.08]_[1.0, 1.0, 1.0, 1.0].pk\"\n",
    "with open(dataset_name, \"rb\") as file:\n",
    "    data = pkl.load(file)\n",
    "np.random.shuffle(data)"
   ]
  },
  {
   "cell_type": "code",
   "execution_count": 26,
   "id": "00ce12dd",
   "metadata": {},
   "outputs": [
    {
     "name": "stdout",
     "output_type": "stream",
     "text": [
      "PyTorch detected CUDA\n",
      "Training on : cuda:2\n"
     ]
    }
   ],
   "source": [
    "if torch.cuda.is_available():\n",
    "    print(\"PyTorch detected CUDA\")\n",
    "    device = torch.device(\"cuda:2\")\n",
    "else: \n",
    "    print(\"PyTorch DIN NOT detect CUDA\")\n",
    "    device = torch.device(\"cpu\")\n",
    "print(\"Training on :\", device)"
   ]
  },
  {
   "cell_type": "markdown",
   "id": "82952aa7",
   "metadata": {},
   "source": [
    "# Model definition"
   ]
  },
  {
   "cell_type": "code",
   "execution_count": 27,
   "id": "cd0238b8",
   "metadata": {},
   "outputs": [
    {
     "data": {
      "text/plain": [
       "Sequential(\n",
       "  (0): Linear(in_features=6, out_features=128, bias=True)\n",
       "  (1): Softplus(beta=1, threshold=20)\n",
       "  (2): Linear(in_features=128, out_features=128, bias=True)\n",
       "  (3): Softplus(beta=1, threshold=20)\n",
       "  (4): Linear(in_features=128, out_features=128, bias=True)\n",
       "  (5): Softplus(beta=1, threshold=20)\n",
       "  (6): Linear(in_features=128, out_features=3, bias=True)\n",
       ")"
      ]
     },
     "metadata": {},
     "output_type": "display_data"
    },
    {
     "name": "stdout",
     "output_type": "stream",
     "text": [
      "Amount of weights/parameters: 34307\n"
     ]
    }
   ],
   "source": [
    "# A FFNN with continuous activation functions (softplus)\n",
    "#128 neurons, one less hidden layer\n",
    "neurons = 128\n",
    "model = nn.Sequential(\n",
    "          nn.Linear(6,neurons),\n",
    "          nn.Softplus(),\n",
    "          nn.Linear(neurons,neurons),\n",
    "          nn.Softplus(),  \n",
    "          nn.Linear(neurons,neurons),\n",
    "          nn.Softplus(),  \n",
    "          nn.Linear(neurons,3),\n",
    "        )\n",
    "\n",
    "model = model.cuda(device)\n",
    "\n",
    "# Kaiming_normal initialization method\n",
    "def initial_weights(m):\n",
    "    \"\"\"\n",
    "    - Initializes weights in each layer according to 'He initialization'.\n",
    "    Args:\n",
    "        m   (torch.nn.Linear):         - Neural network layers\n",
    "    Returns:\n",
    "        None\n",
    "    \"\"\"\n",
    "    if type(m) == torch.nn.Linear:\n",
    "        torch.nn.init.kaiming_normal_(m.weight)\n",
    "\n",
    "# Initialize the weights\n",
    "_ = model.apply(initial_weights)\n",
    "\n",
    "display(model)\n",
    "print(\"Amount of weights/parameters:\", sum([w.numel() for w in model.parameters() if w.requires_grad]))"
   ]
  },
  {
   "cell_type": "markdown",
   "id": "4eb269c9",
   "metadata": {},
   "source": [
    "# Dataset split and preparation"
   ]
  },
  {
   "cell_type": "code",
   "execution_count": 28,
   "id": "69a0e71f",
   "metadata": {},
   "outputs": [],
   "source": [
    "# We split the whole dataset into training and testing\n",
    "X_TRAIN, X_VALIDATION, Y_TRAIN, Y_VALIDATION = train_test_split(data.reshape(-1,10)[:,:6], data.reshape(-1,10)[:,6:9], train_size=0.8)\n",
    "X_TRAIN = torch.tensor(X_TRAIN, device = device)\n",
    "X_VALIDATION = torch.tensor(X_VALIDATION, device = device)\n",
    "Y_TRAIN = torch.tensor(Y_TRAIN, device = device)\n",
    "Y_VALIDATION = torch.tensor(Y_VALIDATION, device = device)"
   ]
  },
  {
   "cell_type": "markdown",
   "id": "6271244b",
   "metadata": {},
   "source": [
    "# Optimizer and Loss"
   ]
  },
  {
   "cell_type": "code",
   "execution_count": 29,
   "id": "d0d44df4",
   "metadata": {},
   "outputs": [],
   "source": [
    "# The loss is the cosine of the angle between the predicted and the actual thrust vector\n",
    "cosine_similarity = torch.nn.CosineSimilarity(dim=1, eps=1e-8)\n",
    "# This first loss is directly in degrees\n",
    "def loss1(ground_truth, prediction):    \n",
    "    return torch.mean(torch.arccos(cosine_similarity(ground_truth, prediction))) / np.pi * 180\n",
    "# This is the loss used in the paper with Ekin\n",
    "def loss2(ground_truth, prediction):    \n",
    "    return 1 - torch.mean(cosine_similarity(ground_truth, prediction))\n",
    "loss = loss2\n",
    "\n",
    "# Setup for the optimizer\n",
    "learning_rate = 1e-4*0.5\n",
    "optimizer = torch.optim.Adam(model.parameters(), lr=learning_rate, betas=(0.9, 0.999), eps=1e-8, weight_decay=0.0, amsgrad=True)\n",
    "scheduler = torch.optim.lr_scheduler.ReduceLROnPlateau(optimizer, mode='min', factor=0.9, patience=10, verbose=True, threshold=0.005, threshold_mode='rel', cooldown=0, min_lr=0, eps=1e-08)\n",
    "\n",
    "# Lists used to plot loss over epochs\n",
    "loss_list = []\n",
    "loss_val_list = []"
   ]
  },
  {
   "cell_type": "markdown",
   "id": "1d5b5b78",
   "metadata": {},
   "source": [
    "# Training loop"
   ]
  },
  {
   "cell_type": "code",
   "execution_count": 30,
   "id": "a64c4ced",
   "metadata": {
    "scrolled": true
   },
   "outputs": [
    {
     "name": "stdout",
     "output_type": "stream",
     "text": [
      "Training batchsize = 4096\n",
      "Epoch 1/300, Current learning rate: 5e-05, Time remaining: -\n"
     ]
    },
    {
     "name": "stderr",
     "output_type": "stream",
     "text": [
      "100%|██████████| 3906/3906 [00:13<00:00, 280.96it/s]\n"
     ]
    },
    {
     "name": "stdout",
     "output_type": "stream",
     "text": [
      "Updating best model!\n",
      "loss = 0.07214149, loss validation = 0.07350860 \n",
      "\n",
      "Epoch 2/300, Current learning rate: 5e-05, Time remaining: 1.34 h\n"
     ]
    },
    {
     "name": "stderr",
     "output_type": "stream",
     "text": [
      "100%|██████████| 3906/3906 [00:13<00:00, 287.37it/s]\n"
     ]
    },
    {
     "name": "stdout",
     "output_type": "stream",
     "text": [
      "Updating best model!\n",
      "loss = 0.05204957, loss validation = 0.05998030 \n",
      "\n",
      "Epoch 3/300, Current learning rate: 5e-05, Time remaining: 1.28 h\n"
     ]
    },
    {
     "name": "stderr",
     "output_type": "stream",
     "text": [
      "100%|██████████| 3906/3906 [00:13<00:00, 285.62it/s]\n"
     ]
    },
    {
     "name": "stdout",
     "output_type": "stream",
     "text": [
      "Updating best model!\n",
      "loss = 0.04805789, loss validation = 0.04770515 \n",
      "\n",
      "Epoch 4/300, Current learning rate: 5e-05, Time remaining: 1.35 h\n"
     ]
    },
    {
     "name": "stderr",
     "output_type": "stream",
     "text": [
      "100%|██████████| 3906/3906 [00:13<00:00, 295.30it/s]\n"
     ]
    },
    {
     "name": "stdout",
     "output_type": "stream",
     "text": [
      "loss = 0.04768579, loss validation = 0.04937642 \n",
      "\n",
      "Epoch 5/300, Current learning rate: 5e-05, Time remaining: 1.27 h\n"
     ]
    },
    {
     "name": "stderr",
     "output_type": "stream",
     "text": [
      "100%|██████████| 3906/3906 [00:13<00:00, 293.45it/s]\n"
     ]
    },
    {
     "name": "stdout",
     "output_type": "stream",
     "text": [
      "Updating best model!\n",
      "loss = 0.04747730, loss validation = 0.04279860 \n",
      "\n",
      "Epoch 6/300, Current learning rate: 5e-05, Time remaining: 1.28 h\n"
     ]
    },
    {
     "name": "stderr",
     "output_type": "stream",
     "text": [
      "100%|██████████| 3906/3906 [00:11<00:00, 354.09it/s]\n"
     ]
    },
    {
     "name": "stdout",
     "output_type": "stream",
     "text": [
      "Updating best model!\n",
      "loss = 0.04133415, loss validation = 0.04079509 \n",
      "\n",
      "Epoch 7/300, Current learning rate: 5e-05, Time remaining: 1.05 h\n"
     ]
    },
    {
     "name": "stderr",
     "output_type": "stream",
     "text": [
      "100%|██████████| 3906/3906 [00:10<00:00, 363.94it/s]\n"
     ]
    },
    {
     "name": "stdout",
     "output_type": "stream",
     "text": [
      "loss = 0.04575699, loss validation = 0.04929621 \n",
      "\n",
      "Epoch 8/300, Current learning rate: 5e-05, Time remaining: 59.33 min\n"
     ]
    },
    {
     "name": "stderr",
     "output_type": "stream",
     "text": [
      "100%|██████████| 3906/3906 [00:10<00:00, 366.58it/s]\n"
     ]
    },
    {
     "name": "stdout",
     "output_type": "stream",
     "text": [
      "loss = 0.03995230, loss validation = 0.04558014 \n",
      "\n",
      "Epoch 9/300, Current learning rate: 5e-05, Time remaining: 58.62 min\n"
     ]
    },
    {
     "name": "stderr",
     "output_type": "stream",
     "text": [
      "100%|██████████| 3906/3906 [00:10<00:00, 373.95it/s]\n"
     ]
    },
    {
     "name": "stdout",
     "output_type": "stream",
     "text": [
      "loss = 0.04494857, loss validation = 0.04128433 \n",
      "\n",
      "Epoch 10/300, Current learning rate: 5e-05, Time remaining: 57.35 min\n"
     ]
    },
    {
     "name": "stderr",
     "output_type": "stream",
     "text": [
      "100%|██████████| 3906/3906 [00:10<00:00, 367.71it/s]\n"
     ]
    },
    {
     "name": "stdout",
     "output_type": "stream",
     "text": [
      "Updating best model!\n",
      "loss = 0.04027929, loss validation = 0.03678854 \n",
      "\n",
      "Epoch 11/300, Current learning rate: 5e-05, Time remaining: 58.16 min\n"
     ]
    },
    {
     "name": "stderr",
     "output_type": "stream",
     "text": [
      "100%|██████████| 3906/3906 [00:10<00:00, 383.80it/s]\n"
     ]
    },
    {
     "name": "stdout",
     "output_type": "stream",
     "text": [
      "loss = 0.03504928, loss validation = 0.03950282 \n",
      "\n",
      "Epoch 12/300, Current learning rate: 5e-05, Time remaining: 55.78 min\n"
     ]
    },
    {
     "name": "stderr",
     "output_type": "stream",
     "text": [
      "100%|██████████| 3906/3906 [00:10<00:00, 370.58it/s]\n"
     ]
    },
    {
     "name": "stdout",
     "output_type": "stream",
     "text": [
      "Updating best model!\n",
      "loss = 0.04235108, loss validation = 0.03582753 \n",
      "\n",
      "Epoch 13/300, Current learning rate: 5e-05, Time remaining: 57.39 min\n"
     ]
    },
    {
     "name": "stderr",
     "output_type": "stream",
     "text": [
      "100%|██████████| 3906/3906 [00:10<00:00, 359.63it/s]\n"
     ]
    },
    {
     "name": "stdout",
     "output_type": "stream",
     "text": [
      "loss = 0.03776196, loss validation = 0.03644980 \n",
      "\n",
      "Epoch 14/300, Current learning rate: 5e-05, Time remaining: 58.64 min\n"
     ]
    },
    {
     "name": "stderr",
     "output_type": "stream",
     "text": [
      "100%|██████████| 3906/3906 [00:11<00:00, 353.15it/s]\n"
     ]
    },
    {
     "name": "stdout",
     "output_type": "stream",
     "text": [
      "loss = 0.04234348, loss validation = 0.03663511 \n",
      "\n",
      "Epoch 15/300, Current learning rate: 5e-05, Time remaining: 59.44 min\n"
     ]
    },
    {
     "name": "stderr",
     "output_type": "stream",
     "text": [
      "100%|██████████| 3906/3906 [00:10<00:00, 356.51it/s]\n"
     ]
    },
    {
     "name": "stdout",
     "output_type": "stream",
     "text": [
      "Updating best model!\n",
      "loss = 0.03761326, loss validation = 0.03528866 \n",
      "\n",
      "Epoch 16/300, Current learning rate: 5e-05, Time remaining: 59.12 min\n"
     ]
    },
    {
     "name": "stderr",
     "output_type": "stream",
     "text": [
      "100%|██████████| 3906/3906 [00:11<00:00, 353.51it/s]\n"
     ]
    },
    {
     "name": "stdout",
     "output_type": "stream",
     "text": [
      "loss = 0.03509410, loss validation = 0.03938141 \n",
      "\n",
      "Epoch 17/300, Current learning rate: 5e-05, Time remaining: 58.93 min\n"
     ]
    },
    {
     "name": "stderr",
     "output_type": "stream",
     "text": [
      "100%|██████████| 3906/3906 [00:11<00:00, 353.42it/s]\n"
     ]
    },
    {
     "name": "stdout",
     "output_type": "stream",
     "text": [
      "Updating best model!\n",
      "loss = 0.03484381, loss validation = 0.02615760 \n",
      "\n",
      "Epoch 18/300, Current learning rate: 5e-05, Time remaining: 59.12 min\n"
     ]
    },
    {
     "name": "stderr",
     "output_type": "stream",
     "text": [
      "100%|██████████| 3906/3906 [00:10<00:00, 362.74it/s]\n"
     ]
    },
    {
     "name": "stdout",
     "output_type": "stream",
     "text": [
      "loss = 0.02815920, loss validation = 0.04100339 \n",
      "\n",
      "Epoch 19/300, Current learning rate: 5e-05, Time remaining: 57.4 min\n"
     ]
    },
    {
     "name": "stderr",
     "output_type": "stream",
     "text": [
      "100%|██████████| 3906/3906 [00:10<00:00, 371.02it/s]\n"
     ]
    },
    {
     "name": "stdout",
     "output_type": "stream",
     "text": [
      "loss = 0.03257844, loss validation = 0.03383782 \n",
      "\n",
      "Epoch 20/300, Current learning rate: 5e-05, Time remaining: 55.91 min\n"
     ]
    },
    {
     "name": "stderr",
     "output_type": "stream",
     "text": [
      "100%|██████████| 3906/3906 [00:11<00:00, 350.78it/s]\n"
     ]
    },
    {
     "name": "stdout",
     "output_type": "stream",
     "text": [
      "loss = 0.03698322, loss validation = 0.03015657 \n",
      "\n",
      "Epoch 21/300, Current learning rate: 5e-05, Time remaining: 58.43 min\n"
     ]
    },
    {
     "name": "stderr",
     "output_type": "stream",
     "text": [
      "100%|██████████| 3906/3906 [00:11<00:00, 345.10it/s]\n"
     ]
    },
    {
     "name": "stdout",
     "output_type": "stream",
     "text": [
      "loss = 0.03182772, loss validation = 0.03052188 \n",
      "\n",
      "Epoch 22/300, Current learning rate: 5e-05, Time remaining: 59.53 min\n"
     ]
    },
    {
     "name": "stderr",
     "output_type": "stream",
     "text": [
      "100%|██████████| 3906/3906 [00:10<00:00, 355.58it/s]\n"
     ]
    },
    {
     "name": "stdout",
     "output_type": "stream",
     "text": [
      "loss = 0.02922926, loss validation = 0.03479717 \n",
      "\n",
      "Epoch 23/300, Current learning rate: 5e-05, Time remaining: 57.6 min\n"
     ]
    },
    {
     "name": "stderr",
     "output_type": "stream",
     "text": [
      "100%|██████████| 3906/3906 [00:10<00:00, 374.01it/s]\n"
     ]
    },
    {
     "name": "stdout",
     "output_type": "stream",
     "text": [
      "loss = 0.02561554, loss validation = 0.03059360 \n",
      "\n",
      "Epoch 24/300, Current learning rate: 5e-05, Time remaining: 54.77 min\n"
     ]
    },
    {
     "name": "stderr",
     "output_type": "stream",
     "text": [
      "100%|██████████| 3906/3906 [00:11<00:00, 353.07it/s]\n"
     ]
    },
    {
     "name": "stdout",
     "output_type": "stream",
     "text": [
      "loss = 0.03257665, loss validation = 0.03045972 \n",
      "\n",
      "Epoch 25/300, Current learning rate: 5e-05, Time remaining: 57.69 min\n"
     ]
    },
    {
     "name": "stderr",
     "output_type": "stream",
     "text": [
      "100%|██████████| 3906/3906 [00:11<00:00, 348.16it/s]\n"
     ]
    },
    {
     "name": "stdout",
     "output_type": "stream",
     "text": [
      "loss = 0.03198498, loss validation = 0.02841136 \n",
      "\n",
      "Epoch 26/300, Current learning rate: 5e-05, Time remaining: 57.91 min\n"
     ]
    },
    {
     "name": "stderr",
     "output_type": "stream",
     "text": [
      "100%|██████████| 3906/3906 [00:10<00:00, 359.36it/s]\n"
     ]
    },
    {
     "name": "stdout",
     "output_type": "stream",
     "text": [
      "loss = 0.02861251, loss validation = 0.02768514 \n",
      "\n",
      "Epoch 27/300, Current learning rate: 5e-05, Time remaining: 56.16 min\n"
     ]
    },
    {
     "name": "stderr",
     "output_type": "stream",
     "text": [
      "100%|██████████| 3906/3906 [00:11<00:00, 344.24it/s]\n"
     ]
    },
    {
     "name": "stdout",
     "output_type": "stream",
     "text": [
      "loss = 0.03012686, loss validation = 0.02665393 \n",
      "\n",
      "Epoch 28/300, Current learning rate: 5e-05, Time remaining: 58.19 min\n"
     ]
    },
    {
     "name": "stderr",
     "output_type": "stream",
     "text": [
      "100%|██████████| 3906/3906 [00:11<00:00, 354.27it/s]\n"
     ]
    },
    {
     "name": "stdout",
     "output_type": "stream",
     "text": [
      "Epoch 00028: reducing learning rate of group 0 to 4.5000e-05.\n",
      "loss = 0.03120356, loss validation = 0.03303489 \n",
      "\n",
      "Epoch 29/300, Current learning rate: 4.5e-05, Time remaining: 56.56 min\n"
     ]
    },
    {
     "name": "stderr",
     "output_type": "stream",
     "text": [
      "100%|██████████| 3906/3906 [00:10<00:00, 363.31it/s]\n"
     ]
    },
    {
     "name": "stdout",
     "output_type": "stream",
     "text": [
      "loss = 0.02824923, loss validation = 0.02977037 \n",
      "\n",
      "Epoch 30/300, Current learning rate: 4.5e-05, Time remaining: 55.02 min\n"
     ]
    },
    {
     "name": "stderr",
     "output_type": "stream",
     "text": [
      "100%|██████████| 3906/3906 [00:10<00:00, 355.22it/s]\n"
     ]
    },
    {
     "name": "stdout",
     "output_type": "stream",
     "text": [
      "Updating best model!\n",
      "loss = 0.02726139, loss validation = 0.02587768 \n",
      "\n",
      "Epoch 31/300, Current learning rate: 4.5e-05, Time remaining: 56.1 min\n"
     ]
    },
    {
     "name": "stderr",
     "output_type": "stream",
     "text": [
      "100%|██████████| 3906/3906 [00:10<00:00, 362.09it/s]\n"
     ]
    },
    {
     "name": "stdout",
     "output_type": "stream",
     "text": [
      "Updating best model!\n",
      "loss = 0.02288919, loss validation = 0.02253608 \n",
      "\n",
      "Epoch 32/300, Current learning rate: 4.5e-05, Time remaining: 55.17 min\n"
     ]
    },
    {
     "name": "stderr",
     "output_type": "stream",
     "text": [
      "100%|██████████| 3906/3906 [00:11<00:00, 352.43it/s]\n"
     ]
    },
    {
     "name": "stdout",
     "output_type": "stream",
     "text": [
      "loss = 0.02664015, loss validation = 0.02943851 \n",
      "\n",
      "Epoch 33/300, Current learning rate: 4.5e-05, Time remaining: 56.03 min\n"
     ]
    },
    {
     "name": "stderr",
     "output_type": "stream",
     "text": [
      "100%|██████████| 3906/3906 [00:10<00:00, 360.72it/s]\n"
     ]
    },
    {
     "name": "stdout",
     "output_type": "stream",
     "text": [
      "loss = 0.02756383, loss validation = 0.03136336 \n",
      "\n",
      "Epoch 34/300, Current learning rate: 4.5e-05, Time remaining: 54.74 min\n"
     ]
    },
    {
     "name": "stderr",
     "output_type": "stream",
     "text": [
      "100%|██████████| 3906/3906 [00:10<00:00, 360.13it/s]\n"
     ]
    },
    {
     "name": "stdout",
     "output_type": "stream",
     "text": [
      "loss = 0.02441814, loss validation = 0.02384582 \n",
      "\n",
      "Epoch 35/300, Current learning rate: 4.5e-05, Time remaining: 54.48 min\n"
     ]
    },
    {
     "name": "stderr",
     "output_type": "stream",
     "text": [
      "100%|██████████| 3906/3906 [00:10<00:00, 363.06it/s]\n"
     ]
    },
    {
     "name": "stdout",
     "output_type": "stream",
     "text": [
      "loss = 0.02406022, loss validation = 0.02747358 \n",
      "\n",
      "Epoch 36/300, Current learning rate: 4.5e-05, Time remaining: 53.93 min\n"
     ]
    },
    {
     "name": "stderr",
     "output_type": "stream",
     "text": [
      "100%|██████████| 3906/3906 [00:10<00:00, 373.65it/s]\n"
     ]
    },
    {
     "name": "stdout",
     "output_type": "stream",
     "text": [
      "loss = 0.02548219, loss validation = 0.02674178 \n",
      "\n",
      "Epoch 37/300, Current learning rate: 4.5e-05, Time remaining: 52.32 min\n"
     ]
    },
    {
     "name": "stderr",
     "output_type": "stream",
     "text": [
      "100%|██████████| 3906/3906 [00:10<00:00, 359.21it/s]\n"
     ]
    },
    {
     "name": "stdout",
     "output_type": "stream",
     "text": [
      "loss = 0.02448362, loss validation = 0.02824446 \n",
      "\n",
      "Epoch 38/300, Current learning rate: 4.5e-05, Time remaining: 54.02 min\n"
     ]
    },
    {
     "name": "stderr",
     "output_type": "stream",
     "text": [
      "100%|██████████| 3906/3906 [00:11<00:00, 351.20it/s]\n"
     ]
    },
    {
     "name": "stdout",
     "output_type": "stream",
     "text": [
      "Updating best model!\n",
      "loss = 0.02161139, loss validation = 0.02114671 \n",
      "\n",
      "Epoch 39/300, Current learning rate: 4.5e-05, Time remaining: 54.84 min\n"
     ]
    },
    {
     "name": "stderr",
     "output_type": "stream",
     "text": [
      "100%|██████████| 3906/3906 [00:10<00:00, 355.73it/s]\n"
     ]
    },
    {
     "name": "stdout",
     "output_type": "stream",
     "text": [
      "loss = 0.02190465, loss validation = 0.02891469 \n",
      "\n",
      "Epoch 40/300, Current learning rate: 4.5e-05, Time remaining: 54.17 min\n"
     ]
    },
    {
     "name": "stderr",
     "output_type": "stream",
     "text": [
      "100%|██████████| 3906/3906 [00:10<00:00, 359.75it/s]\n"
     ]
    },
    {
     "name": "stdout",
     "output_type": "stream",
     "text": [
      "loss = 0.02622464, loss validation = 0.02288310 \n",
      "\n",
      "Epoch 41/300, Current learning rate: 4.5e-05, Time remaining: 53.57 min\n"
     ]
    },
    {
     "name": "stderr",
     "output_type": "stream",
     "text": [
      "100%|██████████| 3906/3906 [00:11<00:00, 347.96it/s]\n"
     ]
    },
    {
     "name": "stdout",
     "output_type": "stream",
     "text": [
      "loss = 0.02521303, loss validation = 0.02297373 \n",
      "\n",
      "Epoch 42/300, Current learning rate: 4.5e-05, Time remaining: 54.98 min\n"
     ]
    },
    {
     "name": "stderr",
     "output_type": "stream",
     "text": [
      "100%|██████████| 3906/3906 [00:11<00:00, 352.89it/s]\n"
     ]
    },
    {
     "name": "stdout",
     "output_type": "stream",
     "text": [
      "loss = 0.02321530, loss validation = 0.02185912 \n",
      "\n",
      "Epoch 43/300, Current learning rate: 4.5e-05, Time remaining: 54.1 min\n"
     ]
    },
    {
     "name": "stderr",
     "output_type": "stream",
     "text": [
      "100%|██████████| 3906/3906 [00:10<00:00, 366.70it/s]\n"
     ]
    },
    {
     "name": "stdout",
     "output_type": "stream",
     "text": [
      "loss = 0.02044390, loss validation = 0.02715874 \n",
      "\n",
      "Epoch 44/300, Current learning rate: 4.5e-05, Time remaining: 51.74 min\n"
     ]
    },
    {
     "name": "stderr",
     "output_type": "stream",
     "text": [
      "100%|██████████| 3906/3906 [00:10<00:00, 361.18it/s]\n"
     ]
    },
    {
     "name": "stdout",
     "output_type": "stream",
     "text": [
      "loss = 0.02146266, loss validation = 0.02349609 \n",
      "\n",
      "Epoch 45/300, Current learning rate: 4.5e-05, Time remaining: 52.4 min\n"
     ]
    },
    {
     "name": "stderr",
     "output_type": "stream",
     "text": [
      "100%|██████████| 3906/3906 [00:10<00:00, 362.38it/s]\n"
     ]
    },
    {
     "name": "stdout",
     "output_type": "stream",
     "text": [
      "loss = 0.02085602, loss validation = 0.02213206 \n",
      "\n",
      "Epoch 46/300, Current learning rate: 4.5e-05, Time remaining: 51.96 min\n"
     ]
    },
    {
     "name": "stderr",
     "output_type": "stream",
     "text": [
      "100%|██████████| 3906/3906 [00:11<00:00, 354.01it/s]\n"
     ]
    },
    {
     "name": "stdout",
     "output_type": "stream",
     "text": [
      "loss = 0.02403334, loss validation = 0.02220060 \n",
      "\n",
      "Epoch 47/300, Current learning rate: 4.5e-05, Time remaining: 53.97 min\n"
     ]
    },
    {
     "name": "stderr",
     "output_type": "stream",
     "text": [
      "100%|██████████| 3906/3906 [00:10<00:00, 361.17it/s]\n"
     ]
    },
    {
     "name": "stdout",
     "output_type": "stream",
     "text": [
      "Updating best model!\n",
      "loss = 0.02090216, loss validation = 0.01912355 \n",
      "\n",
      "Epoch 48/300, Current learning rate: 4.5e-05, Time remaining: 51.98 min\n"
     ]
    },
    {
     "name": "stderr",
     "output_type": "stream",
     "text": [
      "100%|██████████| 3906/3906 [00:11<00:00, 351.62it/s]\n"
     ]
    },
    {
     "name": "stdout",
     "output_type": "stream",
     "text": [
      "loss = 0.02446246, loss validation = 0.02516387 \n",
      "\n",
      "Epoch 49/300, Current learning rate: 4.5e-05, Time remaining: 52.74 min\n"
     ]
    },
    {
     "name": "stderr",
     "output_type": "stream",
     "text": [
      "100%|██████████| 3906/3906 [00:10<00:00, 362.45it/s]\n"
     ]
    },
    {
     "name": "stdout",
     "output_type": "stream",
     "text": [
      "loss = 0.02355215, loss validation = 0.02513895 \n",
      "\n",
      "Epoch 50/300, Current learning rate: 4.5e-05, Time remaining: 51.15 min\n"
     ]
    },
    {
     "name": "stderr",
     "output_type": "stream",
     "text": [
      "100%|██████████| 3906/3906 [00:11<00:00, 350.71it/s]\n"
     ]
    },
    {
     "name": "stdout",
     "output_type": "stream",
     "text": [
      "loss = 0.02077611, loss validation = 0.02072309 \n",
      "\n",
      "Epoch 51/300, Current learning rate: 4.5e-05, Time remaining: 52.14 min\n"
     ]
    },
    {
     "name": "stderr",
     "output_type": "stream",
     "text": [
      "100%|██████████| 3906/3906 [00:10<00:00, 364.17it/s]\n"
     ]
    },
    {
     "name": "stdout",
     "output_type": "stream",
     "text": [
      "loss = 0.02311685, loss validation = 0.02040136 \n",
      "\n",
      "Epoch 52/300, Current learning rate: 4.5e-05, Time remaining: 51.12 min\n"
     ]
    },
    {
     "name": "stderr",
     "output_type": "stream",
     "text": [
      "100%|██████████| 3906/3906 [00:11<00:00, 351.76it/s]\n"
     ]
    },
    {
     "name": "stdout",
     "output_type": "stream",
     "text": [
      "Updating best model!\n",
      "loss = 0.02028469, loss validation = 0.01802686 \n",
      "\n",
      "Epoch 53/300, Current learning rate: 4.5e-05, Time remaining: 51.67 min\n"
     ]
    },
    {
     "name": "stderr",
     "output_type": "stream",
     "text": [
      "100%|██████████| 3906/3906 [00:11<00:00, 354.63it/s]\n"
     ]
    },
    {
     "name": "stdout",
     "output_type": "stream",
     "text": [
      "loss = 0.02358659, loss validation = 0.02660365 \n",
      "\n",
      "Epoch 54/300, Current learning rate: 4.5e-05, Time remaining: 51.14 min\n"
     ]
    },
    {
     "name": "stderr",
     "output_type": "stream",
     "text": [
      "100%|██████████| 3906/3906 [00:11<00:00, 336.51it/s]\n"
     ]
    },
    {
     "name": "stdout",
     "output_type": "stream",
     "text": [
      "loss = 0.02181813, loss validation = 0.02050586 \n",
      "\n",
      "Epoch 55/300, Current learning rate: 4.5e-05, Time remaining: 53.81 min\n"
     ]
    },
    {
     "name": "stderr",
     "output_type": "stream",
     "text": [
      "100%|██████████| 3906/3906 [00:11<00:00, 352.86it/s]\n"
     ]
    },
    {
     "name": "stdout",
     "output_type": "stream",
     "text": [
      "loss = 0.02169956, loss validation = 0.02122891 \n",
      "\n",
      "Epoch 56/300, Current learning rate: 4.5e-05, Time remaining: 51.01 min\n"
     ]
    },
    {
     "name": "stderr",
     "output_type": "stream",
     "text": [
      "100%|██████████| 3906/3906 [00:10<00:00, 371.57it/s]\n"
     ]
    },
    {
     "name": "stdout",
     "output_type": "stream",
     "text": [
      "loss = 0.02161752, loss validation = 0.02466307 \n",
      "\n",
      "Epoch 57/300, Current learning rate: 4.5e-05, Time remaining: 48.54 min\n"
     ]
    },
    {
     "name": "stderr",
     "output_type": "stream",
     "text": [
      "100%|██████████| 3906/3906 [00:11<00:00, 343.63it/s]\n"
     ]
    },
    {
     "name": "stdout",
     "output_type": "stream",
     "text": [
      "loss = 0.04419559, loss validation = 0.02956109 \n",
      "\n",
      "Epoch 58/300, Current learning rate: 4.5e-05, Time remaining: 51.83 min\n"
     ]
    },
    {
     "name": "stderr",
     "output_type": "stream",
     "text": [
      "100%|██████████| 3906/3906 [00:10<00:00, 357.82it/s]\n"
     ]
    },
    {
     "name": "stdout",
     "output_type": "stream",
     "text": [
      "loss = 0.02318811, loss validation = 0.02117291 \n",
      "\n",
      "Epoch 59/300, Current learning rate: 4.5e-05, Time remaining: 49.67 min\n"
     ]
    },
    {
     "name": "stderr",
     "output_type": "stream",
     "text": [
      "100%|██████████| 3906/3906 [00:11<00:00, 332.70it/s]\n"
     ]
    },
    {
     "name": "stdout",
     "output_type": "stream",
     "text": [
      "loss = 0.02075523, loss validation = 0.02105297 \n",
      "\n",
      "Epoch 60/300, Current learning rate: 4.5e-05, Time remaining: 52.84 min\n"
     ]
    },
    {
     "name": "stderr",
     "output_type": "stream",
     "text": [
      "100%|██████████| 3906/3906 [00:10<00:00, 364.06it/s]\n"
     ]
    },
    {
     "name": "stdout",
     "output_type": "stream",
     "text": [
      "loss = 0.02349579, loss validation = 0.02043622 \n",
      "\n",
      "Epoch 61/300, Current learning rate: 4.5e-05, Time remaining: 48.49 min\n"
     ]
    },
    {
     "name": "stderr",
     "output_type": "stream",
     "text": [
      "100%|██████████| 3906/3906 [00:10<00:00, 364.19it/s]\n"
     ]
    },
    {
     "name": "stdout",
     "output_type": "stream",
     "text": [
      "loss = 0.02612473, loss validation = 0.02256046 \n",
      "\n",
      "Epoch 62/300, Current learning rate: 4.5e-05, Time remaining: 48.38 min\n"
     ]
    },
    {
     "name": "stderr",
     "output_type": "stream",
     "text": [
      "100%|██████████| 3906/3906 [00:11<00:00, 354.38it/s]\n"
     ]
    },
    {
     "name": "stdout",
     "output_type": "stream",
     "text": [
      "loss = 0.01754573, loss validation = 0.02191875 \n",
      "\n",
      "Epoch 63/300, Current learning rate: 4.5e-05, Time remaining: 49.67 min\n"
     ]
    },
    {
     "name": "stderr",
     "output_type": "stream",
     "text": [
      "100%|██████████| 3906/3906 [00:10<00:00, 357.32it/s]\n"
     ]
    },
    {
     "name": "stdout",
     "output_type": "stream",
     "text": [
      "Epoch 00063: reducing learning rate of group 0 to 4.0500e-05.\n",
      "loss = 0.02009852, loss validation = 0.02072271 \n",
      "\n",
      "Epoch 64/300, Current learning rate: 4.05e-05, Time remaining: 48.7 min\n"
     ]
    },
    {
     "name": "stderr",
     "output_type": "stream",
     "text": [
      "100%|██████████| 3906/3906 [00:11<00:00, 354.30it/s]\n"
     ]
    },
    {
     "name": "stdout",
     "output_type": "stream",
     "text": [
      "loss = 0.02080224, loss validation = 0.01826652 \n",
      "\n",
      "Epoch 65/300, Current learning rate: 4.05e-05, Time remaining: 48.93 min\n"
     ]
    },
    {
     "name": "stderr",
     "output_type": "stream",
     "text": [
      "100%|██████████| 3906/3906 [00:11<00:00, 339.65it/s]\n"
     ]
    },
    {
     "name": "stdout",
     "output_type": "stream",
     "text": [
      "loss = 0.01882244, loss validation = 0.02072361 \n",
      "\n",
      "Epoch 66/300, Current learning rate: 4.05e-05, Time remaining: 50.98 min\n"
     ]
    },
    {
     "name": "stderr",
     "output_type": "stream",
     "text": [
      "100%|██████████| 3906/3906 [00:11<00:00, 352.54it/s]\n"
     ]
    },
    {
     "name": "stdout",
     "output_type": "stream",
     "text": [
      "loss = 0.02140214, loss validation = 0.02240258 \n",
      "\n",
      "Epoch 67/300, Current learning rate: 4.05e-05, Time remaining: 48.95 min\n"
     ]
    },
    {
     "name": "stderr",
     "output_type": "stream",
     "text": [
      "100%|██████████| 3906/3906 [00:11<00:00, 351.74it/s]\n"
     ]
    },
    {
     "name": "stdout",
     "output_type": "stream",
     "text": [
      "loss = 0.02282904, loss validation = 0.02053066 \n",
      "\n",
      "Epoch 68/300, Current learning rate: 4.05e-05, Time remaining: 48.8 min\n"
     ]
    },
    {
     "name": "stderr",
     "output_type": "stream",
     "text": [
      "100%|██████████| 3906/3906 [00:11<00:00, 354.10it/s]\n"
     ]
    },
    {
     "name": "stdout",
     "output_type": "stream",
     "text": [
      "Updating best model!\n",
      "loss = 0.01862454, loss validation = 0.01793631 \n",
      "\n",
      "Epoch 69/300, Current learning rate: 4.05e-05, Time remaining: 48.21 min\n"
     ]
    },
    {
     "name": "stderr",
     "output_type": "stream",
     "text": [
      "100%|██████████| 3906/3906 [00:11<00:00, 352.44it/s]\n"
     ]
    },
    {
     "name": "stdout",
     "output_type": "stream",
     "text": [
      "loss = 0.02047420, loss validation = 0.02282079 \n",
      "\n",
      "Epoch 70/300, Current learning rate: 4.05e-05, Time remaining: 48.24 min\n"
     ]
    },
    {
     "name": "stderr",
     "output_type": "stream",
     "text": [
      "100%|██████████| 3906/3906 [00:11<00:00, 349.14it/s]\n"
     ]
    },
    {
     "name": "stdout",
     "output_type": "stream",
     "text": [
      "loss = 0.01658967, loss validation = 0.02068991 \n",
      "\n",
      "Epoch 71/300, Current learning rate: 4.05e-05, Time remaining: 48.44 min\n"
     ]
    },
    {
     "name": "stderr",
     "output_type": "stream",
     "text": [
      "100%|██████████| 3906/3906 [00:11<00:00, 340.47it/s]\n"
     ]
    },
    {
     "name": "stdout",
     "output_type": "stream",
     "text": [
      "loss = 0.03186371, loss validation = 0.02356905 \n",
      "\n",
      "Epoch 72/300, Current learning rate: 4.05e-05, Time remaining: 49.52 min\n"
     ]
    },
    {
     "name": "stderr",
     "output_type": "stream",
     "text": [
      "100%|██████████| 3906/3906 [00:11<00:00, 346.18it/s]\n"
     ]
    },
    {
     "name": "stdout",
     "output_type": "stream",
     "text": [
      "loss = 0.01980102, loss validation = 0.01929214 \n",
      "\n",
      "Epoch 73/300, Current learning rate: 4.05e-05, Time remaining: 48.59 min\n"
     ]
    },
    {
     "name": "stderr",
     "output_type": "stream",
     "text": [
      "100%|██████████| 3906/3906 [00:11<00:00, 340.59it/s]\n"
     ]
    },
    {
     "name": "stdout",
     "output_type": "stream",
     "text": [
      "loss = 0.01622007, loss validation = 0.01969088 \n",
      "\n",
      "Epoch 74/300, Current learning rate: 4.05e-05, Time remaining: 49.1 min\n"
     ]
    },
    {
     "name": "stderr",
     "output_type": "stream",
     "text": [
      "100%|██████████| 3906/3906 [00:11<00:00, 351.63it/s]\n"
     ]
    },
    {
     "name": "stdout",
     "output_type": "stream",
     "text": [
      "loss = 0.01913147, loss validation = 0.02760535 \n",
      "\n",
      "Epoch 75/300, Current learning rate: 4.05e-05, Time remaining: 47.64 min\n"
     ]
    },
    {
     "name": "stderr",
     "output_type": "stream",
     "text": [
      "100%|██████████| 3906/3906 [00:11<00:00, 352.01it/s]\n"
     ]
    },
    {
     "name": "stdout",
     "output_type": "stream",
     "text": [
      "Updating best model!\n",
      "loss = 0.01921223, loss validation = 0.01684673 \n",
      "\n",
      "Epoch 76/300, Current learning rate: 4.05e-05, Time remaining: 46.92 min\n"
     ]
    },
    {
     "name": "stderr",
     "output_type": "stream",
     "text": [
      "100%|██████████| 3906/3906 [00:10<00:00, 379.53it/s]\n"
     ]
    },
    {
     "name": "stdout",
     "output_type": "stream",
     "text": [
      "loss = 0.01776434, loss validation = 0.02288866 \n",
      "\n",
      "Epoch 77/300, Current learning rate: 4.05e-05, Time remaining: 43.64 min\n"
     ]
    },
    {
     "name": "stderr",
     "output_type": "stream",
     "text": [
      "100%|██████████| 3906/3906 [00:10<00:00, 368.40it/s]\n"
     ]
    },
    {
     "name": "stdout",
     "output_type": "stream",
     "text": [
      "Updating best model!\n",
      "loss = 0.02048263, loss validation = 0.01641000 \n",
      "\n",
      "Epoch 78/300, Current learning rate: 4.05e-05, Time remaining: 44.61 min\n"
     ]
    },
    {
     "name": "stderr",
     "output_type": "stream",
     "text": [
      "100%|██████████| 3906/3906 [00:10<00:00, 366.25it/s]\n"
     ]
    },
    {
     "name": "stdout",
     "output_type": "stream",
     "text": [
      "loss = 0.01742563, loss validation = 0.01854163 \n",
      "\n",
      "Epoch 79/300, Current learning rate: 4.05e-05, Time remaining: 44.64 min\n"
     ]
    },
    {
     "name": "stderr",
     "output_type": "stream",
     "text": [
      "100%|██████████| 3906/3906 [00:10<00:00, 366.42it/s]\n"
     ]
    },
    {
     "name": "stdout",
     "output_type": "stream",
     "text": [
      "loss = 0.02053135, loss validation = 0.01753961 \n",
      "\n",
      "Epoch 80/300, Current learning rate: 4.05e-05, Time remaining: 44.52 min\n"
     ]
    },
    {
     "name": "stderr",
     "output_type": "stream",
     "text": [
      "100%|██████████| 3906/3906 [00:10<00:00, 357.34it/s]\n"
     ]
    },
    {
     "name": "stdout",
     "output_type": "stream",
     "text": [
      "loss = 0.01723738, loss validation = 0.01861181 \n",
      "\n",
      "Epoch 81/300, Current learning rate: 4.05e-05, Time remaining: 45.42 min\n"
     ]
    },
    {
     "name": "stderr",
     "output_type": "stream",
     "text": [
      "100%|██████████| 3906/3906 [00:10<00:00, 355.56it/s]\n"
     ]
    },
    {
     "name": "stdout",
     "output_type": "stream",
     "text": [
      "loss = 0.01919244, loss validation = 0.01964545 \n",
      "\n",
      "Epoch 82/300, Current learning rate: 4.05e-05, Time remaining: 45.46 min\n"
     ]
    },
    {
     "name": "stderr",
     "output_type": "stream",
     "text": [
      "100%|██████████| 3906/3906 [00:10<00:00, 362.11it/s]\n"
     ]
    },
    {
     "name": "stdout",
     "output_type": "stream",
     "text": [
      "loss = 0.01812080, loss validation = 0.01645732 \n",
      "\n",
      "Epoch 83/300, Current learning rate: 4.05e-05, Time remaining: 44.54 min\n"
     ]
    },
    {
     "name": "stderr",
     "output_type": "stream",
     "text": [
      "100%|██████████| 3906/3906 [00:11<00:00, 344.50it/s]\n"
     ]
    },
    {
     "name": "stdout",
     "output_type": "stream",
     "text": [
      "Updating best model!\n",
      "loss = 0.01463283, loss validation = 0.01508935 \n",
      "\n",
      "Epoch 84/300, Current learning rate: 4.05e-05, Time remaining: 46.33 min\n"
     ]
    },
    {
     "name": "stderr",
     "output_type": "stream",
     "text": [
      "100%|██████████| 3906/3906 [00:11<00:00, 354.12it/s]\n"
     ]
    },
    {
     "name": "stdout",
     "output_type": "stream",
     "text": [
      "Updating best model!\n",
      "loss = 0.01600042, loss validation = 0.01465412 \n",
      "\n",
      "Epoch 85/300, Current learning rate: 4.05e-05, Time remaining: 45.03 min\n"
     ]
    },
    {
     "name": "stderr",
     "output_type": "stream",
     "text": [
      "100%|██████████| 3906/3906 [00:11<00:00, 351.65it/s]\n"
     ]
    },
    {
     "name": "stdout",
     "output_type": "stream",
     "text": [
      "loss = 0.01711373, loss validation = 0.01642072 \n",
      "\n",
      "Epoch 86/300, Current learning rate: 4.05e-05, Time remaining: 44.97 min\n"
     ]
    },
    {
     "name": "stderr",
     "output_type": "stream",
     "text": [
      "100%|██████████| 3906/3906 [00:10<00:00, 357.82it/s]\n"
     ]
    },
    {
     "name": "stdout",
     "output_type": "stream",
     "text": [
      "loss = 0.01351428, loss validation = 0.01834685 \n",
      "\n",
      "Epoch 87/300, Current learning rate: 4.05e-05, Time remaining: 44.14 min\n"
     ]
    },
    {
     "name": "stderr",
     "output_type": "stream",
     "text": [
      "100%|██████████| 3906/3906 [00:11<00:00, 350.17it/s]\n"
     ]
    },
    {
     "name": "stdout",
     "output_type": "stream",
     "text": [
      "loss = 0.01712575, loss validation = 0.01844629 \n",
      "\n",
      "Epoch 88/300, Current learning rate: 4.05e-05, Time remaining: 44.7 min\n"
     ]
    },
    {
     "name": "stderr",
     "output_type": "stream",
     "text": [
      "100%|██████████| 3906/3906 [00:11<00:00, 351.15it/s]\n"
     ]
    },
    {
     "name": "stdout",
     "output_type": "stream",
     "text": [
      "loss = 0.01651444, loss validation = 0.01601618 \n",
      "\n",
      "Epoch 89/300, Current learning rate: 4.05e-05, Time remaining: 44.6 min\n"
     ]
    },
    {
     "name": "stderr",
     "output_type": "stream",
     "text": [
      "100%|██████████| 3906/3906 [00:11<00:00, 347.44it/s]\n"
     ]
    },
    {
     "name": "stdout",
     "output_type": "stream",
     "text": [
      "loss = 0.01648335, loss validation = 0.01634793 \n",
      "\n",
      "Epoch 90/300, Current learning rate: 4.05e-05, Time remaining: 45.06 min\n"
     ]
    },
    {
     "name": "stderr",
     "output_type": "stream",
     "text": [
      "100%|██████████| 3906/3906 [00:11<00:00, 349.20it/s]\n"
     ]
    },
    {
     "name": "stdout",
     "output_type": "stream",
     "text": [
      "loss = 0.01672242, loss validation = 0.01789484 \n",
      "\n",
      "Epoch 91/300, Current learning rate: 4.05e-05, Time remaining: 44.42 min\n"
     ]
    },
    {
     "name": "stderr",
     "output_type": "stream",
     "text": [
      "100%|██████████| 3906/3906 [00:11<00:00, 346.36it/s]\n"
     ]
    },
    {
     "name": "stdout",
     "output_type": "stream",
     "text": [
      "loss = 0.01728397, loss validation = 0.01591044 \n",
      "\n",
      "Epoch 92/300, Current learning rate: 4.05e-05, Time remaining: 44.43 min\n"
     ]
    },
    {
     "name": "stderr",
     "output_type": "stream",
     "text": [
      "100%|██████████| 3906/3906 [00:11<00:00, 326.43it/s]\n"
     ]
    },
    {
     "name": "stdout",
     "output_type": "stream",
     "text": [
      "loss = 0.01553890, loss validation = 0.01504685 \n",
      "\n",
      "Epoch 93/300, Current learning rate: 4.05e-05, Time remaining: 46.64 min\n"
     ]
    },
    {
     "name": "stderr",
     "output_type": "stream",
     "text": [
      "100%|██████████| 3906/3906 [00:11<00:00, 336.10it/s]\n"
     ]
    },
    {
     "name": "stdout",
     "output_type": "stream",
     "text": [
      "Updating best model!\n",
      "loss = 0.01462680, loss validation = 0.01346639 \n",
      "\n",
      "Epoch 94/300, Current learning rate: 4.05e-05, Time remaining: 45.36 min\n"
     ]
    },
    {
     "name": "stderr",
     "output_type": "stream",
     "text": [
      "100%|██████████| 3906/3906 [00:11<00:00, 336.51it/s]\n"
     ]
    },
    {
     "name": "stdout",
     "output_type": "stream",
     "text": [
      "loss = 0.01692416, loss validation = 0.01867891 \n",
      "\n",
      "Epoch 95/300, Current learning rate: 4.05e-05, Time remaining: 44.84 min\n"
     ]
    },
    {
     "name": "stderr",
     "output_type": "stream",
     "text": [
      "100%|██████████| 3906/3906 [00:11<00:00, 332.55it/s]\n"
     ]
    },
    {
     "name": "stdout",
     "output_type": "stream",
     "text": [
      "loss = 0.01421879, loss validation = 0.01465261 \n",
      "\n",
      "Epoch 96/300, Current learning rate: 4.05e-05, Time remaining: 45.17 min\n"
     ]
    },
    {
     "name": "stderr",
     "output_type": "stream",
     "text": [
      "100%|██████████| 3906/3906 [00:11<00:00, 343.70it/s]\n"
     ]
    },
    {
     "name": "stdout",
     "output_type": "stream",
     "text": [
      "loss = 0.01729368, loss validation = 0.01735167 \n",
      "\n",
      "Epoch 97/300, Current learning rate: 4.05e-05, Time remaining: 43.54 min\n"
     ]
    },
    {
     "name": "stderr",
     "output_type": "stream",
     "text": [
      "100%|██████████| 3906/3906 [00:11<00:00, 354.41it/s]\n"
     ]
    },
    {
     "name": "stdout",
     "output_type": "stream",
     "text": [
      "Updating best model!\n",
      "loss = 0.01399302, loss validation = 0.01322987 \n",
      "\n",
      "Epoch 98/300, Current learning rate: 4.05e-05, Time remaining: 42.58 min\n"
     ]
    },
    {
     "name": "stderr",
     "output_type": "stream",
     "text": [
      "100%|██████████| 3906/3906 [00:11<00:00, 327.27it/s]\n"
     ]
    },
    {
     "name": "stdout",
     "output_type": "stream",
     "text": [
      "loss = 0.01579716, loss validation = 0.01432543 \n",
      "\n",
      "Epoch 99/300, Current learning rate: 4.05e-05, Time remaining: 45.13 min\n"
     ]
    },
    {
     "name": "stderr",
     "output_type": "stream",
     "text": [
      "100%|██████████| 3906/3906 [00:11<00:00, 347.32it/s]\n"
     ]
    },
    {
     "name": "stdout",
     "output_type": "stream",
     "text": [
      "loss = 0.01923819, loss validation = 0.02066673 \n",
      "\n",
      "Epoch 100/300, Current learning rate: 4.05e-05, Time remaining: 42.56 min\n"
     ]
    },
    {
     "name": "stderr",
     "output_type": "stream",
     "text": [
      "100%|██████████| 3906/3906 [00:11<00:00, 350.94it/s]\n"
     ]
    },
    {
     "name": "stdout",
     "output_type": "stream",
     "text": [
      "Updating best model!\n",
      "loss = 0.01532621, loss validation = 0.01314265 \n",
      "\n",
      "Epoch 101/300, Current learning rate: 4.05e-05, Time remaining: 41.96 min\n"
     ]
    },
    {
     "name": "stderr",
     "output_type": "stream",
     "text": [
      "100%|██████████| 3906/3906 [00:11<00:00, 347.59it/s]\n"
     ]
    },
    {
     "name": "stdout",
     "output_type": "stream",
     "text": [
      "loss = 0.01391186, loss validation = 0.01882759 \n",
      "\n",
      "Epoch 102/300, Current learning rate: 4.05e-05, Time remaining: 42.2 min\n"
     ]
    },
    {
     "name": "stderr",
     "output_type": "stream",
     "text": [
      "100%|██████████| 3906/3906 [00:11<00:00, 341.08it/s]\n"
     ]
    },
    {
     "name": "stdout",
     "output_type": "stream",
     "text": [
      "loss = 0.01407541, loss validation = 0.01380287 \n",
      "\n",
      "Epoch 103/300, Current learning rate: 4.05e-05, Time remaining: 42.72 min\n"
     ]
    },
    {
     "name": "stderr",
     "output_type": "stream",
     "text": [
      "100%|██████████| 3906/3906 [00:11<00:00, 349.93it/s]\n"
     ]
    },
    {
     "name": "stdout",
     "output_type": "stream",
     "text": [
      "Updating best model!\n",
      "loss = 0.01178618, loss validation = 0.01235400 \n",
      "\n",
      "Epoch 104/300, Current learning rate: 4.05e-05, Time remaining: 41.37 min\n"
     ]
    },
    {
     "name": "stderr",
     "output_type": "stream",
     "text": [
      "100%|██████████| 3906/3906 [00:10<00:00, 363.43it/s]\n"
     ]
    },
    {
     "name": "stdout",
     "output_type": "stream",
     "text": [
      "loss = 0.01698985, loss validation = 0.01551074 \n",
      "\n",
      "Epoch 105/300, Current learning rate: 4.05e-05, Time remaining: 39.85 min\n"
     ]
    },
    {
     "name": "stderr",
     "output_type": "stream",
     "text": [
      "100%|██████████| 3906/3906 [00:10<00:00, 362.32it/s]\n"
     ]
    },
    {
     "name": "stdout",
     "output_type": "stream",
     "text": [
      "Updating best model!\n",
      "loss = 0.01276491, loss validation = 0.01180016 \n",
      "\n",
      "Epoch 106/300, Current learning rate: 4.05e-05, Time remaining: 39.58 min\n"
     ]
    },
    {
     "name": "stderr",
     "output_type": "stream",
     "text": [
      "100%|██████████| 3906/3906 [00:11<00:00, 347.22it/s]\n"
     ]
    },
    {
     "name": "stdout",
     "output_type": "stream",
     "text": [
      "loss = 0.01263413, loss validation = 0.01354031 \n",
      "\n",
      "Epoch 107/300, Current learning rate: 4.05e-05, Time remaining: 40.96 min\n"
     ]
    },
    {
     "name": "stderr",
     "output_type": "stream",
     "text": [
      "100%|██████████| 3906/3906 [00:10<00:00, 361.00it/s]\n"
     ]
    },
    {
     "name": "stdout",
     "output_type": "stream",
     "text": [
      "loss = 0.01480221, loss validation = 0.01429830 \n",
      "\n",
      "Epoch 108/300, Current learning rate: 4.05e-05, Time remaining: 39.5 min\n"
     ]
    },
    {
     "name": "stderr",
     "output_type": "stream",
     "text": [
      "100%|██████████| 3906/3906 [00:10<00:00, 355.78it/s]\n"
     ]
    },
    {
     "name": "stdout",
     "output_type": "stream",
     "text": [
      "loss = 0.01644038, loss validation = 0.01291971 \n",
      "\n",
      "Epoch 109/300, Current learning rate: 4.05e-05, Time remaining: 39.84 min\n"
     ]
    },
    {
     "name": "stderr",
     "output_type": "stream",
     "text": [
      "100%|██████████| 3906/3906 [00:10<00:00, 362.77it/s]\n"
     ]
    },
    {
     "name": "stdout",
     "output_type": "stream",
     "text": [
      "loss = 0.01215059, loss validation = 0.01257183 \n",
      "\n",
      "Epoch 110/300, Current learning rate: 4.05e-05, Time remaining: 38.96 min\n"
     ]
    },
    {
     "name": "stderr",
     "output_type": "stream",
     "text": [
      "100%|██████████| 3906/3906 [00:10<00:00, 361.53it/s]\n"
     ]
    },
    {
     "name": "stdout",
     "output_type": "stream",
     "text": [
      "loss = 0.01360417, loss validation = 0.01302252 \n",
      "\n",
      "Epoch 111/300, Current learning rate: 4.05e-05, Time remaining: 38.66 min\n"
     ]
    },
    {
     "name": "stderr",
     "output_type": "stream",
     "text": [
      "100%|██████████| 3906/3906 [00:10<00:00, 363.13it/s]\n"
     ]
    },
    {
     "name": "stdout",
     "output_type": "stream",
     "text": [
      "Updating best model!\n",
      "loss = 0.01042838, loss validation = 0.01092835 \n",
      "\n",
      "Epoch 112/300, Current learning rate: 4.05e-05, Time remaining: 38.3 min\n"
     ]
    },
    {
     "name": "stderr",
     "output_type": "stream",
     "text": [
      "100%|██████████| 3906/3906 [00:11<00:00, 354.66it/s]\n"
     ]
    },
    {
     "name": "stdout",
     "output_type": "stream",
     "text": [
      "loss = 0.01097424, loss validation = 0.01257633 \n",
      "\n",
      "Epoch 113/300, Current learning rate: 4.05e-05, Time remaining: 39.11 min\n"
     ]
    },
    {
     "name": "stderr",
     "output_type": "stream",
     "text": [
      "100%|██████████| 3906/3906 [00:10<00:00, 358.50it/s]\n"
     ]
    },
    {
     "name": "stdout",
     "output_type": "stream",
     "text": [
      "loss = 0.01362239, loss validation = 0.01346583 \n",
      "\n",
      "Epoch 114/300, Current learning rate: 4.05e-05, Time remaining: 38.51 min\n"
     ]
    },
    {
     "name": "stderr",
     "output_type": "stream",
     "text": [
      "100%|██████████| 3906/3906 [00:10<00:00, 358.97it/s]\n"
     ]
    },
    {
     "name": "stdout",
     "output_type": "stream",
     "text": [
      "loss = 0.01317466, loss validation = 0.01296284 \n",
      "\n",
      "Epoch 115/300, Current learning rate: 4.05e-05, Time remaining: 38.12 min\n"
     ]
    },
    {
     "name": "stderr",
     "output_type": "stream",
     "text": [
      "100%|██████████| 3906/3906 [00:11<00:00, 351.86it/s]\n"
     ]
    },
    {
     "name": "stdout",
     "output_type": "stream",
     "text": [
      "loss = 0.01282813, loss validation = 0.01205806 \n",
      "\n",
      "Epoch 116/300, Current learning rate: 4.05e-05, Time remaining: 38.8 min\n"
     ]
    },
    {
     "name": "stderr",
     "output_type": "stream",
     "text": [
      "100%|██████████| 3906/3906 [00:11<00:00, 353.59it/s]\n"
     ]
    },
    {
     "name": "stdout",
     "output_type": "stream",
     "text": [
      "loss = 0.01209720, loss validation = 0.01214010 \n",
      "\n",
      "Epoch 117/300, Current learning rate: 4.05e-05, Time remaining: 38.22 min\n"
     ]
    },
    {
     "name": "stderr",
     "output_type": "stream",
     "text": [
      "100%|██████████| 3906/3906 [00:11<00:00, 339.74it/s]\n"
     ]
    },
    {
     "name": "stdout",
     "output_type": "stream",
     "text": [
      "loss = 0.01018334, loss validation = 0.01279347 \n",
      "\n",
      "Epoch 118/300, Current learning rate: 4.05e-05, Time remaining: 39.63 min\n"
     ]
    },
    {
     "name": "stderr",
     "output_type": "stream",
     "text": [
      "100%|██████████| 3906/3906 [00:11<00:00, 349.35it/s]\n"
     ]
    },
    {
     "name": "stdout",
     "output_type": "stream",
     "text": [
      "loss = 0.01152825, loss validation = 0.01266927 \n",
      "\n",
      "Epoch 119/300, Current learning rate: 4.05e-05, Time remaining: 38.21 min\n"
     ]
    },
    {
     "name": "stderr",
     "output_type": "stream",
     "text": [
      "100%|██████████| 3906/3906 [00:10<00:00, 358.69it/s]\n"
     ]
    },
    {
     "name": "stdout",
     "output_type": "stream",
     "text": [
      "loss = 0.01502918, loss validation = 0.01155182 \n",
      "\n",
      "Epoch 120/300, Current learning rate: 4.05e-05, Time remaining: 37.18 min\n"
     ]
    },
    {
     "name": "stderr",
     "output_type": "stream",
     "text": [
      "100%|██████████| 3906/3906 [00:10<00:00, 362.76it/s]\n"
     ]
    },
    {
     "name": "stdout",
     "output_type": "stream",
     "text": [
      "Updating best model!\n",
      "loss = 0.01003333, loss validation = 0.01003252 \n",
      "\n",
      "Epoch 121/300, Current learning rate: 4.05e-05, Time remaining: 36.69 min\n"
     ]
    },
    {
     "name": "stderr",
     "output_type": "stream",
     "text": [
      "100%|██████████| 3906/3906 [00:10<00:00, 362.52it/s]\n"
     ]
    },
    {
     "name": "stdout",
     "output_type": "stream",
     "text": [
      "Updating best model!\n",
      "loss = 0.01018878, loss validation = 0.00988885 \n",
      "\n",
      "Epoch 122/300, Current learning rate: 4.05e-05, Time remaining: 36.38 min\n"
     ]
    },
    {
     "name": "stderr",
     "output_type": "stream",
     "text": [
      "100%|██████████| 3906/3906 [00:10<00:00, 361.53it/s]\n"
     ]
    },
    {
     "name": "stdout",
     "output_type": "stream",
     "text": [
      "loss = 0.00967560, loss validation = 0.01032949 \n",
      "\n",
      "Epoch 123/300, Current learning rate: 4.05e-05, Time remaining: 36.2 min\n"
     ]
    },
    {
     "name": "stderr",
     "output_type": "stream",
     "text": [
      "100%|██████████| 3906/3906 [00:10<00:00, 367.38it/s]\n"
     ]
    },
    {
     "name": "stdout",
     "output_type": "stream",
     "text": [
      "loss = 0.01103934, loss validation = 0.01030328 \n",
      "\n",
      "Epoch 124/300, Current learning rate: 4.05e-05, Time remaining: 35.56 min\n"
     ]
    },
    {
     "name": "stderr",
     "output_type": "stream",
     "text": [
      "100%|██████████| 3906/3906 [00:10<00:00, 371.38it/s]\n"
     ]
    },
    {
     "name": "stdout",
     "output_type": "stream",
     "text": [
      "loss = 0.01260906, loss validation = 0.01316824 \n",
      "\n",
      "Epoch 125/300, Current learning rate: 4.05e-05, Time remaining: 35.11 min\n"
     ]
    },
    {
     "name": "stderr",
     "output_type": "stream",
     "text": [
      "100%|██████████| 3906/3906 [00:10<00:00, 360.09it/s]\n"
     ]
    },
    {
     "name": "stdout",
     "output_type": "stream",
     "text": [
      "Updating best model!\n",
      "loss = 0.01122553, loss validation = 0.00842643 \n",
      "\n",
      "Epoch 126/300, Current learning rate: 4.05e-05, Time remaining: 35.82 min\n"
     ]
    },
    {
     "name": "stderr",
     "output_type": "stream",
     "text": [
      "100%|██████████| 3906/3906 [00:10<00:00, 360.72it/s]\n"
     ]
    },
    {
     "name": "stdout",
     "output_type": "stream",
     "text": [
      "loss = 0.01410340, loss validation = 0.01359523 \n",
      "\n",
      "Epoch 127/300, Current learning rate: 4.05e-05, Time remaining: 35.58 min\n"
     ]
    },
    {
     "name": "stderr",
     "output_type": "stream",
     "text": [
      "100%|██████████| 3906/3906 [00:11<00:00, 352.83it/s]\n"
     ]
    },
    {
     "name": "stdout",
     "output_type": "stream",
     "text": [
      "loss = 0.01149830, loss validation = 0.01087098 \n",
      "\n",
      "Epoch 128/300, Current learning rate: 4.05e-05, Time remaining: 36.18 min\n"
     ]
    },
    {
     "name": "stderr",
     "output_type": "stream",
     "text": [
      "100%|██████████| 3906/3906 [00:11<00:00, 350.29it/s]\n"
     ]
    },
    {
     "name": "stdout",
     "output_type": "stream",
     "text": [
      "loss = 0.01013132, loss validation = 0.01026582 \n",
      "\n",
      "Epoch 129/300, Current learning rate: 4.05e-05, Time remaining: 36.1 min\n"
     ]
    },
    {
     "name": "stderr",
     "output_type": "stream",
     "text": [
      "100%|██████████| 3906/3906 [00:11<00:00, 351.57it/s]\n"
     ]
    },
    {
     "name": "stdout",
     "output_type": "stream",
     "text": [
      "loss = 0.01108843, loss validation = 0.00964022 \n",
      "\n",
      "Epoch 130/300, Current learning rate: 4.05e-05, Time remaining: 35.84 min\n"
     ]
    },
    {
     "name": "stderr",
     "output_type": "stream",
     "text": [
      "100%|██████████| 3906/3906 [00:10<00:00, 364.31it/s]\n"
     ]
    },
    {
     "name": "stdout",
     "output_type": "stream",
     "text": [
      "loss = 0.00952614, loss validation = 0.01041496 \n",
      "\n",
      "Epoch 131/300, Current learning rate: 4.05e-05, Time remaining: 34.44 min\n"
     ]
    },
    {
     "name": "stderr",
     "output_type": "stream",
     "text": [
      "100%|██████████| 3906/3906 [00:10<00:00, 361.72it/s]\n"
     ]
    },
    {
     "name": "stdout",
     "output_type": "stream",
     "text": [
      "loss = 0.00978645, loss validation = 0.01061453 \n",
      "\n",
      "Epoch 132/300, Current learning rate: 4.05e-05, Time remaining: 34.6 min\n"
     ]
    },
    {
     "name": "stderr",
     "output_type": "stream",
     "text": [
      "100%|██████████| 3906/3906 [00:11<00:00, 345.99it/s]\n"
     ]
    },
    {
     "name": "stdout",
     "output_type": "stream",
     "text": [
      "loss = 0.01268231, loss validation = 0.01170312 \n",
      "\n",
      "Epoch 133/300, Current learning rate: 4.05e-05, Time remaining: 35.63 min\n"
     ]
    },
    {
     "name": "stderr",
     "output_type": "stream",
     "text": [
      "100%|██████████| 3906/3906 [00:10<00:00, 366.75it/s]\n"
     ]
    },
    {
     "name": "stdout",
     "output_type": "stream",
     "text": [
      "loss = 0.00983008, loss validation = 0.00947762 \n",
      "\n",
      "Epoch 134/300, Current learning rate: 4.05e-05, Time remaining: 33.62 min\n"
     ]
    },
    {
     "name": "stderr",
     "output_type": "stream",
     "text": [
      "100%|██████████| 3906/3906 [00:11<00:00, 354.79it/s]\n"
     ]
    },
    {
     "name": "stdout",
     "output_type": "stream",
     "text": [
      "loss = 0.00944458, loss validation = 0.01023396 \n",
      "\n",
      "Epoch 135/300, Current learning rate: 4.05e-05, Time remaining: 34.37 min\n"
     ]
    },
    {
     "name": "stderr",
     "output_type": "stream",
     "text": [
      "100%|██████████| 3906/3906 [00:11<00:00, 350.66it/s]\n"
     ]
    },
    {
     "name": "stdout",
     "output_type": "stream",
     "text": [
      "loss = 0.00960370, loss validation = 0.01133969 \n",
      "\n",
      "Epoch 136/300, Current learning rate: 4.05e-05, Time remaining: 34.61 min\n"
     ]
    },
    {
     "name": "stderr",
     "output_type": "stream",
     "text": [
      "100%|██████████| 3906/3906 [00:10<00:00, 356.52it/s]\n"
     ]
    },
    {
     "name": "stdout",
     "output_type": "stream",
     "text": [
      "Epoch 00136: reducing learning rate of group 0 to 3.6450e-05.\n",
      "loss = 0.01021122, loss validation = 0.01120481 \n",
      "\n",
      "Epoch 137/300, Current learning rate: 3.6450000000000005e-05, Time remaining: 33.79 min\n"
     ]
    },
    {
     "name": "stderr",
     "output_type": "stream",
     "text": [
      "100%|██████████| 3906/3906 [00:10<00:00, 356.16it/s]\n"
     ]
    },
    {
     "name": "stdout",
     "output_type": "stream",
     "text": [
      "loss = 0.01435466, loss validation = 0.01308909 \n",
      "\n",
      "Epoch 138/300, Current learning rate: 3.6450000000000005e-05, Time remaining: 33.7 min\n"
     ]
    },
    {
     "name": "stderr",
     "output_type": "stream",
     "text": [
      "100%|██████████| 3906/3906 [00:10<00:00, 360.21it/s]\n"
     ]
    },
    {
     "name": "stdout",
     "output_type": "stream",
     "text": [
      "loss = 0.00831551, loss validation = 0.01018525 \n",
      "\n",
      "Epoch 139/300, Current learning rate: 3.6450000000000005e-05, Time remaining: 33.18 min\n"
     ]
    },
    {
     "name": "stderr",
     "output_type": "stream",
     "text": [
      "100%|██████████| 3906/3906 [00:10<00:00, 380.11it/s]\n"
     ]
    },
    {
     "name": "stdout",
     "output_type": "stream",
     "text": [
      "loss = 0.01080658, loss validation = 0.01063061 \n",
      "\n",
      "Epoch 140/300, Current learning rate: 3.6450000000000005e-05, Time remaining: 31.43 min\n"
     ]
    },
    {
     "name": "stderr",
     "output_type": "stream",
     "text": [
      "100%|██████████| 3906/3906 [00:10<00:00, 360.92it/s]\n"
     ]
    },
    {
     "name": "stdout",
     "output_type": "stream",
     "text": [
      "loss = 0.01146029, loss validation = 0.01072356 \n",
      "\n",
      "Epoch 141/300, Current learning rate: 3.6450000000000005e-05, Time remaining: 32.63 min\n"
     ]
    },
    {
     "name": "stderr",
     "output_type": "stream",
     "text": [
      "100%|██████████| 3906/3906 [00:10<00:00, 370.86it/s]\n"
     ]
    },
    {
     "name": "stdout",
     "output_type": "stream",
     "text": [
      "loss = 0.01040261, loss validation = 0.01401768 \n",
      "\n",
      "Epoch 142/300, Current learning rate: 3.6450000000000005e-05, Time remaining: 31.71 min\n"
     ]
    },
    {
     "name": "stderr",
     "output_type": "stream",
     "text": [
      "100%|██████████| 3906/3906 [00:10<00:00, 358.80it/s]\n"
     ]
    },
    {
     "name": "stdout",
     "output_type": "stream",
     "text": [
      "loss = 0.00912528, loss validation = 0.00996000 \n",
      "\n",
      "Epoch 143/300, Current learning rate: 3.6450000000000005e-05, Time remaining: 32.48 min\n"
     ]
    },
    {
     "name": "stderr",
     "output_type": "stream",
     "text": [
      "100%|██████████| 3906/3906 [00:10<00:00, 368.53it/s]\n"
     ]
    },
    {
     "name": "stdout",
     "output_type": "stream",
     "text": [
      "loss = 0.00784078, loss validation = 0.00957047 \n",
      "\n",
      "Epoch 144/300, Current learning rate: 3.6450000000000005e-05, Time remaining: 31.63 min\n"
     ]
    },
    {
     "name": "stderr",
     "output_type": "stream",
     "text": [
      "100%|██████████| 3906/3906 [00:10<00:00, 360.46it/s]\n"
     ]
    },
    {
     "name": "stdout",
     "output_type": "stream",
     "text": [
      "loss = 0.00981572, loss validation = 0.00948859 \n",
      "\n",
      "Epoch 145/300, Current learning rate: 3.6450000000000005e-05, Time remaining: 32.09 min\n"
     ]
    },
    {
     "name": "stderr",
     "output_type": "stream",
     "text": [
      "100%|██████████| 3906/3906 [00:11<00:00, 349.52it/s]\n"
     ]
    },
    {
     "name": "stdout",
     "output_type": "stream",
     "text": [
      "loss = 0.01117726, loss validation = 0.01066863 \n",
      "\n",
      "Epoch 146/300, Current learning rate: 3.6450000000000005e-05, Time remaining: 32.69 min\n"
     ]
    },
    {
     "name": "stderr",
     "output_type": "stream",
     "text": [
      "100%|██████████| 3906/3906 [00:11<00:00, 348.58it/s]\n"
     ]
    },
    {
     "name": "stdout",
     "output_type": "stream",
     "text": [
      "loss = 0.01424913, loss validation = 0.01893314 \n",
      "\n",
      "Epoch 147/300, Current learning rate: 3.6450000000000005e-05, Time remaining: 32.53 min\n"
     ]
    },
    {
     "name": "stderr",
     "output_type": "stream",
     "text": [
      "100%|██████████| 3906/3906 [00:10<00:00, 359.67it/s]\n"
     ]
    },
    {
     "name": "stdout",
     "output_type": "stream",
     "text": [
      "Epoch 00147: reducing learning rate of group 0 to 3.2805e-05.\n",
      "loss = 0.00795469, loss validation = 0.00959019 \n",
      "\n",
      "Epoch 148/300, Current learning rate: 3.280500000000001e-05, Time remaining: 31.59 min\n"
     ]
    },
    {
     "name": "stderr",
     "output_type": "stream",
     "text": [
      "100%|██████████| 3906/3906 [00:10<00:00, 366.39it/s]\n"
     ]
    },
    {
     "name": "stdout",
     "output_type": "stream",
     "text": [
      "Updating best model!\n",
      "loss = 0.01143821, loss validation = 0.00764245 \n",
      "\n",
      "Epoch 149/300, Current learning rate: 3.280500000000001e-05, Time remaining: 30.71 min\n"
     ]
    },
    {
     "name": "stderr",
     "output_type": "stream",
     "text": [
      "100%|██████████| 3906/3906 [00:11<00:00, 349.80it/s]\n"
     ]
    },
    {
     "name": "stdout",
     "output_type": "stream",
     "text": [
      "loss = 0.01121256, loss validation = 0.01059597 \n",
      "\n",
      "Epoch 150/300, Current learning rate: 3.280500000000001e-05, Time remaining: 31.82 min\n"
     ]
    },
    {
     "name": "stderr",
     "output_type": "stream",
     "text": [
      "100%|██████████| 3906/3906 [00:11<00:00, 332.06it/s]\n"
     ]
    },
    {
     "name": "stdout",
     "output_type": "stream",
     "text": [
      "loss = 0.00895061, loss validation = 0.00951717 \n",
      "\n",
      "Epoch 151/300, Current learning rate: 3.280500000000001e-05, Time remaining: 33.12 min\n"
     ]
    },
    {
     "name": "stderr",
     "output_type": "stream",
     "text": [
      "100%|██████████| 3906/3906 [00:11<00:00, 336.02it/s]\n"
     ]
    },
    {
     "name": "stdout",
     "output_type": "stream",
     "text": [
      "Updating best model!\n",
      "loss = 0.00921086, loss validation = 0.00737612 \n",
      "\n",
      "Epoch 152/300, Current learning rate: 3.280500000000001e-05, Time remaining: 32.6 min\n"
     ]
    },
    {
     "name": "stderr",
     "output_type": "stream",
     "text": [
      "100%|██████████| 3906/3906 [00:11<00:00, 344.83it/s]\n"
     ]
    },
    {
     "name": "stdout",
     "output_type": "stream",
     "text": [
      "loss = 0.00991559, loss validation = 0.00860009 \n",
      "\n",
      "Epoch 153/300, Current learning rate: 3.280500000000001e-05, Time remaining: 31.68 min\n"
     ]
    },
    {
     "name": "stderr",
     "output_type": "stream",
     "text": [
      "100%|██████████| 3906/3906 [00:11<00:00, 352.00it/s]\n"
     ]
    },
    {
     "name": "stdout",
     "output_type": "stream",
     "text": [
      "loss = 0.00807496, loss validation = 0.00837417 \n",
      "\n",
      "Epoch 154/300, Current learning rate: 3.280500000000001e-05, Time remaining: 30.87 min\n"
     ]
    },
    {
     "name": "stderr",
     "output_type": "stream",
     "text": [
      "100%|██████████| 3906/3906 [00:11<00:00, 351.87it/s]\n"
     ]
    },
    {
     "name": "stdout",
     "output_type": "stream",
     "text": [
      "loss = 0.00819182, loss validation = 0.00890423 \n",
      "\n",
      "Epoch 155/300, Current learning rate: 3.280500000000001e-05, Time remaining: 30.73 min\n"
     ]
    },
    {
     "name": "stderr",
     "output_type": "stream",
     "text": [
      "100%|██████████| 3906/3906 [00:11<00:00, 338.30it/s]\n"
     ]
    },
    {
     "name": "stdout",
     "output_type": "stream",
     "text": [
      "loss = 0.00772634, loss validation = 0.00885802 \n",
      "\n",
      "Epoch 156/300, Current learning rate: 3.280500000000001e-05, Time remaining: 31.61 min\n"
     ]
    },
    {
     "name": "stderr",
     "output_type": "stream",
     "text": [
      "100%|██████████| 3906/3906 [00:11<00:00, 336.78it/s]\n"
     ]
    },
    {
     "name": "stdout",
     "output_type": "stream",
     "text": [
      "loss = 0.00893295, loss validation = 0.00768029 \n",
      "\n",
      "Epoch 157/300, Current learning rate: 3.280500000000001e-05, Time remaining: 31.43 min\n"
     ]
    },
    {
     "name": "stderr",
     "output_type": "stream",
     "text": [
      "100%|██████████| 3906/3906 [00:10<00:00, 361.63it/s]\n"
     ]
    },
    {
     "name": "stdout",
     "output_type": "stream",
     "text": [
      "loss = 0.00826129, loss validation = 0.01251569 \n",
      "\n",
      "Epoch 158/300, Current learning rate: 3.280500000000001e-05, Time remaining: 29.27 min\n"
     ]
    },
    {
     "name": "stderr",
     "output_type": "stream",
     "text": [
      "100%|██████████| 3906/3906 [00:10<00:00, 360.85it/s]\n"
     ]
    },
    {
     "name": "stdout",
     "output_type": "stream",
     "text": [
      "loss = 0.00781018, loss validation = 0.01004726 \n",
      "\n",
      "Epoch 159/300, Current learning rate: 3.280500000000001e-05, Time remaining: 29.1 min\n"
     ]
    },
    {
     "name": "stderr",
     "output_type": "stream",
     "text": [
      "100%|██████████| 3906/3906 [00:10<00:00, 372.70it/s]\n"
     ]
    },
    {
     "name": "stdout",
     "output_type": "stream",
     "text": [
      "loss = 0.00878418, loss validation = 0.00852006 \n",
      "\n",
      "Epoch 160/300, Current learning rate: 3.280500000000001e-05, Time remaining: 28.04 min\n"
     ]
    },
    {
     "name": "stderr",
     "output_type": "stream",
     "text": [
      "100%|██████████| 3906/3906 [00:10<00:00, 367.45it/s]\n"
     ]
    },
    {
     "name": "stdout",
     "output_type": "stream",
     "text": [
      "loss = 0.00856535, loss validation = 0.00919685 \n",
      "\n",
      "Epoch 161/300, Current learning rate: 3.280500000000001e-05, Time remaining: 28.17 min\n"
     ]
    },
    {
     "name": "stderr",
     "output_type": "stream",
     "text": [
      "100%|██████████| 3906/3906 [00:10<00:00, 356.36it/s]\n"
     ]
    },
    {
     "name": "stdout",
     "output_type": "stream",
     "text": [
      "loss = 0.00952803, loss validation = 0.01078885 \n",
      "\n",
      "Epoch 162/300, Current learning rate: 3.280500000000001e-05, Time remaining: 28.79 min\n"
     ]
    },
    {
     "name": "stderr",
     "output_type": "stream",
     "text": [
      "100%|██████████| 3906/3906 [00:11<00:00, 349.14it/s]\n"
     ]
    },
    {
     "name": "stdout",
     "output_type": "stream",
     "text": [
      "Epoch 00162: reducing learning rate of group 0 to 2.9525e-05.\n",
      "loss = 0.01066623, loss validation = 0.01003351 \n",
      "\n",
      "Epoch 163/300, Current learning rate: 2.952450000000001e-05, Time remaining: 29.1 min\n"
     ]
    },
    {
     "name": "stderr",
     "output_type": "stream",
     "text": [
      "100%|██████████| 3906/3906 [00:10<00:00, 362.35it/s]\n"
     ]
    },
    {
     "name": "stdout",
     "output_type": "stream",
     "text": [
      "loss = 0.00751297, loss validation = 0.00870819 \n",
      "\n",
      "Epoch 164/300, Current learning rate: 2.952450000000001e-05, Time remaining: 27.98 min\n"
     ]
    },
    {
     "name": "stderr",
     "output_type": "stream",
     "text": [
      "100%|██████████| 3906/3906 [00:11<00:00, 345.28it/s]\n"
     ]
    },
    {
     "name": "stdout",
     "output_type": "stream",
     "text": [
      "loss = 0.00910580, loss validation = 0.00816951 \n",
      "\n",
      "Epoch 165/300, Current learning rate: 2.952450000000001e-05, Time remaining: 29.05 min\n"
     ]
    },
    {
     "name": "stderr",
     "output_type": "stream",
     "text": [
      "100%|██████████| 3906/3906 [00:10<00:00, 360.55it/s]\n"
     ]
    },
    {
     "name": "stdout",
     "output_type": "stream",
     "text": [
      "Updating best model!\n",
      "loss = 0.00705748, loss validation = 0.00718665 \n",
      "\n",
      "Epoch 166/300, Current learning rate: 2.952450000000001e-05, Time remaining: 27.75 min\n"
     ]
    },
    {
     "name": "stderr",
     "output_type": "stream",
     "text": [
      "100%|██████████| 3906/3906 [00:10<00:00, 367.50it/s]\n"
     ]
    },
    {
     "name": "stdout",
     "output_type": "stream",
     "text": [
      "loss = 0.00778283, loss validation = 0.00865714 \n",
      "\n",
      "Epoch 167/300, Current learning rate: 2.952450000000001e-05, Time remaining: 26.98 min\n"
     ]
    },
    {
     "name": "stderr",
     "output_type": "stream",
     "text": [
      "100%|██████████| 3906/3906 [00:10<00:00, 369.85it/s]\n"
     ]
    },
    {
     "name": "stdout",
     "output_type": "stream",
     "text": [
      "loss = 0.00976859, loss validation = 0.00732114 \n",
      "\n",
      "Epoch 168/300, Current learning rate: 2.952450000000001e-05, Time remaining: 26.55 min\n"
     ]
    },
    {
     "name": "stderr",
     "output_type": "stream",
     "text": [
      "100%|██████████| 3906/3906 [00:10<00:00, 359.68it/s]\n"
     ]
    },
    {
     "name": "stdout",
     "output_type": "stream",
     "text": [
      "loss = 0.00732505, loss validation = 0.00842046 \n",
      "\n",
      "Epoch 169/300, Current learning rate: 2.952450000000001e-05, Time remaining: 27.16 min\n"
     ]
    },
    {
     "name": "stderr",
     "output_type": "stream",
     "text": [
      "100%|██████████| 3906/3906 [00:10<00:00, 361.46it/s]\n"
     ]
    },
    {
     "name": "stdout",
     "output_type": "stream",
     "text": [
      "loss = 0.00755005, loss validation = 0.00824369 \n",
      "\n",
      "Epoch 170/300, Current learning rate: 2.952450000000001e-05, Time remaining: 26.78 min\n"
     ]
    },
    {
     "name": "stderr",
     "output_type": "stream",
     "text": [
      "100%|██████████| 3906/3906 [00:11<00:00, 336.04it/s]\n"
     ]
    },
    {
     "name": "stdout",
     "output_type": "stream",
     "text": [
      "loss = 0.00699806, loss validation = 0.00867189 \n",
      "\n",
      "Epoch 171/300, Current learning rate: 2.952450000000001e-05, Time remaining: 28.45 min\n"
     ]
    },
    {
     "name": "stderr",
     "output_type": "stream",
     "text": [
      "100%|██████████| 3906/3906 [00:10<00:00, 363.33it/s]\n"
     ]
    },
    {
     "name": "stdout",
     "output_type": "stream",
     "text": [
      "loss = 0.00802862, loss validation = 0.00803719 \n",
      "\n",
      "Epoch 172/300, Current learning rate: 2.952450000000001e-05, Time remaining: 26.37 min\n"
     ]
    },
    {
     "name": "stderr",
     "output_type": "stream",
     "text": [
      "100%|██████████| 3906/3906 [00:10<00:00, 363.77it/s]\n"
     ]
    },
    {
     "name": "stdout",
     "output_type": "stream",
     "text": [
      "loss = 0.00738233, loss validation = 0.00818942 \n",
      "\n",
      "Epoch 173/300, Current learning rate: 2.952450000000001e-05, Time remaining: 26.08 min\n"
     ]
    },
    {
     "name": "stderr",
     "output_type": "stream",
     "text": [
      "100%|██████████| 3906/3906 [00:11<00:00, 352.80it/s]\n"
     ]
    },
    {
     "name": "stdout",
     "output_type": "stream",
     "text": [
      "loss = 0.00806845, loss validation = 0.00810983 \n",
      "\n",
      "Epoch 174/300, Current learning rate: 2.952450000000001e-05, Time remaining: 26.59 min\n"
     ]
    },
    {
     "name": "stderr",
     "output_type": "stream",
     "text": [
      "100%|██████████| 3906/3906 [00:11<00:00, 351.62it/s]\n"
     ]
    },
    {
     "name": "stdout",
     "output_type": "stream",
     "text": [
      "loss = 0.00807913, loss validation = 0.00896076 \n",
      "\n",
      "Epoch 175/300, Current learning rate: 2.952450000000001e-05, Time remaining: 26.45 min\n"
     ]
    },
    {
     "name": "stderr",
     "output_type": "stream",
     "text": [
      "100%|██████████| 3906/3906 [00:10<00:00, 360.97it/s]\n"
     ]
    },
    {
     "name": "stdout",
     "output_type": "stream",
     "text": [
      "Updating best model!\n",
      "loss = 0.00763098, loss validation = 0.00651275 \n",
      "\n",
      "Epoch 176/300, Current learning rate: 2.952450000000001e-05, Time remaining: 25.59 min\n"
     ]
    },
    {
     "name": "stderr",
     "output_type": "stream",
     "text": [
      "100%|██████████| 3906/3906 [00:10<00:00, 373.63it/s]\n"
     ]
    },
    {
     "name": "stdout",
     "output_type": "stream",
     "text": [
      "loss = 0.01056422, loss validation = 0.00822417 \n",
      "\n",
      "Epoch 177/300, Current learning rate: 2.952450000000001e-05, Time remaining: 24.63 min\n"
     ]
    },
    {
     "name": "stderr",
     "output_type": "stream",
     "text": [
      "100%|██████████| 3906/3906 [00:10<00:00, 367.93it/s]\n"
     ]
    },
    {
     "name": "stdout",
     "output_type": "stream",
     "text": [
      "loss = 0.00758183, loss validation = 0.00705885 \n",
      "\n",
      "Epoch 178/300, Current learning rate: 2.952450000000001e-05, Time remaining: 24.88 min\n"
     ]
    },
    {
     "name": "stderr",
     "output_type": "stream",
     "text": [
      "100%|██████████| 3906/3906 [00:10<00:00, 371.18it/s]\n"
     ]
    },
    {
     "name": "stdout",
     "output_type": "stream",
     "text": [
      "loss = 0.00767251, loss validation = 0.00794347 \n",
      "\n",
      "Epoch 179/300, Current learning rate: 2.952450000000001e-05, Time remaining: 24.42 min\n"
     ]
    },
    {
     "name": "stderr",
     "output_type": "stream",
     "text": [
      "100%|██████████| 3906/3906 [00:11<00:00, 349.00it/s]\n"
     ]
    },
    {
     "name": "stdout",
     "output_type": "stream",
     "text": [
      "loss = 0.00753630, loss validation = 0.00734700 \n",
      "\n",
      "Epoch 180/300, Current learning rate: 2.952450000000001e-05, Time remaining: 25.58 min\n"
     ]
    },
    {
     "name": "stderr",
     "output_type": "stream",
     "text": [
      "100%|██████████| 3906/3906 [00:11<00:00, 353.76it/s]\n"
     ]
    },
    {
     "name": "stdout",
     "output_type": "stream",
     "text": [
      "loss = 0.00706142, loss validation = 0.00803126 \n",
      "\n",
      "Epoch 181/300, Current learning rate: 2.952450000000001e-05, Time remaining: 25.25 min\n"
     ]
    },
    {
     "name": "stderr",
     "output_type": "stream",
     "text": [
      "100%|██████████| 3906/3906 [00:11<00:00, 347.45it/s]\n"
     ]
    },
    {
     "name": "stdout",
     "output_type": "stream",
     "text": [
      "loss = 0.00761921, loss validation = 0.00747579 \n",
      "\n",
      "Epoch 182/300, Current learning rate: 2.952450000000001e-05, Time remaining: 25.49 min\n"
     ]
    },
    {
     "name": "stderr",
     "output_type": "stream",
     "text": [
      "100%|██████████| 3906/3906 [00:10<00:00, 359.46it/s]\n"
     ]
    },
    {
     "name": "stdout",
     "output_type": "stream",
     "text": [
      "loss = 0.00798222, loss validation = 0.00854097 \n",
      "\n",
      "Epoch 183/300, Current learning rate: 2.952450000000001e-05, Time remaining: 24.43 min\n"
     ]
    },
    {
     "name": "stderr",
     "output_type": "stream",
     "text": [
      "100%|██████████| 3906/3906 [00:11<00:00, 345.70it/s]\n"
     ]
    },
    {
     "name": "stdout",
     "output_type": "stream",
     "text": [
      "loss = 0.00763757, loss validation = 0.00811445 \n",
      "\n",
      "Epoch 184/300, Current learning rate: 2.952450000000001e-05, Time remaining: 25.01 min\n"
     ]
    },
    {
     "name": "stderr",
     "output_type": "stream",
     "text": [
      "100%|██████████| 3906/3906 [00:11<00:00, 345.25it/s]\n"
     ]
    },
    {
     "name": "stdout",
     "output_type": "stream",
     "text": [
      "loss = 0.00819571, loss validation = 0.00769315 \n",
      "\n",
      "Epoch 185/300, Current learning rate: 2.952450000000001e-05, Time remaining: 24.84 min\n"
     ]
    },
    {
     "name": "stderr",
     "output_type": "stream",
     "text": [
      "100%|██████████| 3906/3906 [00:10<00:00, 358.61it/s]\n"
     ]
    },
    {
     "name": "stdout",
     "output_type": "stream",
     "text": [
      "loss = 0.00681591, loss validation = 0.00686330 \n",
      "\n",
      "Epoch 186/300, Current learning rate: 2.952450000000001e-05, Time remaining: 23.71 min\n"
     ]
    },
    {
     "name": "stderr",
     "output_type": "stream",
     "text": [
      "100%|██████████| 3906/3906 [00:11<00:00, 351.33it/s]\n"
     ]
    },
    {
     "name": "stdout",
     "output_type": "stream",
     "text": [
      "Epoch 00186: reducing learning rate of group 0 to 2.6572e-05.\n",
      "loss = 0.00628647, loss validation = 0.00770925 \n",
      "\n",
      "Epoch 187/300, Current learning rate: 2.657205000000001e-05, Time remaining: 23.97 min\n"
     ]
    },
    {
     "name": "stderr",
     "output_type": "stream",
     "text": [
      "100%|██████████| 3906/3906 [00:11<00:00, 335.82it/s]\n"
     ]
    },
    {
     "name": "stdout",
     "output_type": "stream",
     "text": [
      "loss = 0.00780816, loss validation = 0.00917628 \n",
      "\n",
      "Epoch 188/300, Current learning rate: 2.657205000000001e-05, Time remaining: 24.75 min\n"
     ]
    },
    {
     "name": "stderr",
     "output_type": "stream",
     "text": [
      "100%|██████████| 3906/3906 [00:12<00:00, 319.56it/s]\n"
     ]
    },
    {
     "name": "stdout",
     "output_type": "stream",
     "text": [
      "loss = 0.00713471, loss validation = 0.00774546 \n",
      "\n",
      "Epoch 189/300, Current learning rate: 2.657205000000001e-05, Time remaining: 25.65 min\n"
     ]
    },
    {
     "name": "stderr",
     "output_type": "stream",
     "text": [
      "100%|██████████| 3906/3906 [00:11<00:00, 341.96it/s]\n"
     ]
    },
    {
     "name": "stdout",
     "output_type": "stream",
     "text": [
      "loss = 0.00855369, loss validation = 0.00747504 \n",
      "\n",
      "Epoch 190/300, Current learning rate: 2.657205000000001e-05, Time remaining: 24.06 min\n"
     ]
    },
    {
     "name": "stderr",
     "output_type": "stream",
     "text": [
      "100%|██████████| 3906/3906 [00:11<00:00, 333.20it/s]\n"
     ]
    },
    {
     "name": "stdout",
     "output_type": "stream",
     "text": [
      "loss = 0.00664793, loss validation = 0.00797607 \n",
      "\n",
      "Epoch 191/300, Current learning rate: 2.657205000000001e-05, Time remaining: 24.27 min\n"
     ]
    },
    {
     "name": "stderr",
     "output_type": "stream",
     "text": [
      "100%|██████████| 3906/3906 [00:11<00:00, 349.81it/s]\n"
     ]
    },
    {
     "name": "stdout",
     "output_type": "stream",
     "text": [
      "loss = 0.00640320, loss validation = 0.00719167 \n",
      "\n",
      "Epoch 192/300, Current learning rate: 2.657205000000001e-05, Time remaining: 23.09 min\n"
     ]
    },
    {
     "name": "stderr",
     "output_type": "stream",
     "text": [
      "100%|██████████| 3906/3906 [00:11<00:00, 343.88it/s]\n"
     ]
    },
    {
     "name": "stdout",
     "output_type": "stream",
     "text": [
      "Updating best model!\n",
      "loss = 0.00716083, loss validation = 0.00639545 \n",
      "\n",
      "Epoch 193/300, Current learning rate: 2.657205000000001e-05, Time remaining: 23.22 min\n"
     ]
    },
    {
     "name": "stderr",
     "output_type": "stream",
     "text": [
      "100%|██████████| 3906/3906 [00:11<00:00, 341.37it/s]\n"
     ]
    },
    {
     "name": "stdout",
     "output_type": "stream",
     "text": [
      "loss = 0.00765195, loss validation = 0.00885029 \n",
      "\n",
      "Epoch 194/300, Current learning rate: 2.657205000000001e-05, Time remaining: 23.19 min\n"
     ]
    },
    {
     "name": "stderr",
     "output_type": "stream",
     "text": [
      "100%|██████████| 3906/3906 [00:11<00:00, 349.63it/s]\n"
     ]
    },
    {
     "name": "stdout",
     "output_type": "stream",
     "text": [
      "Updating best model!\n",
      "loss = 0.00672001, loss validation = 0.00619395 \n",
      "\n",
      "Epoch 195/300, Current learning rate: 2.657205000000001e-05, Time remaining: 22.4 min\n"
     ]
    },
    {
     "name": "stderr",
     "output_type": "stream",
     "text": [
      "100%|██████████| 3906/3906 [00:11<00:00, 350.66it/s]\n"
     ]
    },
    {
     "name": "stdout",
     "output_type": "stream",
     "text": [
      "loss = 0.00672019, loss validation = 0.00667090 \n",
      "\n",
      "Epoch 196/300, Current learning rate: 2.657205000000001e-05, Time remaining: 22.2 min\n"
     ]
    },
    {
     "name": "stderr",
     "output_type": "stream",
     "text": [
      "100%|██████████| 3906/3906 [00:10<00:00, 355.73it/s]\n"
     ]
    },
    {
     "name": "stdout",
     "output_type": "stream",
     "text": [
      "loss = 0.00620468, loss validation = 0.00646090 \n",
      "\n",
      "Epoch 197/300, Current learning rate: 2.657205000000001e-05, Time remaining: 21.62 min\n"
     ]
    },
    {
     "name": "stderr",
     "output_type": "stream",
     "text": [
      "100%|██████████| 3906/3906 [00:11<00:00, 353.73it/s]\n"
     ]
    },
    {
     "name": "stdout",
     "output_type": "stream",
     "text": [
      "loss = 0.00626607, loss validation = 0.00768795 \n",
      "\n",
      "Epoch 198/300, Current learning rate: 2.657205000000001e-05, Time remaining: 21.6 min\n"
     ]
    },
    {
     "name": "stderr",
     "output_type": "stream",
     "text": [
      "100%|██████████| 3906/3906 [00:10<00:00, 362.06it/s]\n"
     ]
    },
    {
     "name": "stdout",
     "output_type": "stream",
     "text": [
      "loss = 0.00713117, loss validation = 0.00681758 \n",
      "\n",
      "Epoch 199/300, Current learning rate: 2.657205000000001e-05, Time remaining: 20.92 min\n"
     ]
    },
    {
     "name": "stderr",
     "output_type": "stream",
     "text": [
      "100%|██████████| 3906/3906 [00:11<00:00, 339.86it/s]\n"
     ]
    },
    {
     "name": "stdout",
     "output_type": "stream",
     "text": [
      "loss = 0.00665405, loss validation = 0.00771304 \n",
      "\n",
      "Epoch 200/300, Current learning rate: 2.657205000000001e-05, Time remaining: 21.97 min\n"
     ]
    },
    {
     "name": "stderr",
     "output_type": "stream",
     "text": [
      "100%|██████████| 3906/3906 [00:10<00:00, 357.63it/s]\n"
     ]
    },
    {
     "name": "stdout",
     "output_type": "stream",
     "text": [
      "loss = 0.00724640, loss validation = 0.00658108 \n",
      "\n",
      "Epoch 201/300, Current learning rate: 2.657205000000001e-05, Time remaining: 20.76 min\n"
     ]
    },
    {
     "name": "stderr",
     "output_type": "stream",
     "text": [
      "100%|██████████| 3906/3906 [00:10<00:00, 358.31it/s]\n"
     ]
    },
    {
     "name": "stdout",
     "output_type": "stream",
     "text": [
      "loss = 0.01031842, loss validation = 0.00651646 \n",
      "\n",
      "Epoch 202/300, Current learning rate: 2.657205000000001e-05, Time remaining: 20.62 min\n"
     ]
    },
    {
     "name": "stderr",
     "output_type": "stream",
     "text": [
      "100%|██████████| 3906/3906 [00:11<00:00, 351.58it/s]\n"
     ]
    },
    {
     "name": "stdout",
     "output_type": "stream",
     "text": [
      "loss = 0.00639631, loss validation = 0.00675142 \n",
      "\n",
      "Epoch 203/300, Current learning rate: 2.657205000000001e-05, Time remaining: 20.62 min\n"
     ]
    },
    {
     "name": "stderr",
     "output_type": "stream",
     "text": [
      "100%|██████████| 3906/3906 [00:10<00:00, 363.49it/s]\n"
     ]
    },
    {
     "name": "stdout",
     "output_type": "stream",
     "text": [
      "loss = 0.00609694, loss validation = 0.00695839 \n",
      "\n",
      "Epoch 204/300, Current learning rate: 2.657205000000001e-05, Time remaining: 19.79 min\n"
     ]
    },
    {
     "name": "stderr",
     "output_type": "stream",
     "text": [
      "100%|██████████| 3906/3906 [00:10<00:00, 364.07it/s]\n"
     ]
    },
    {
     "name": "stdout",
     "output_type": "stream",
     "text": [
      "loss = 0.00643390, loss validation = 0.00691021 \n",
      "\n",
      "Epoch 205/300, Current learning rate: 2.657205000000001e-05, Time remaining: 19.6 min\n"
     ]
    },
    {
     "name": "stderr",
     "output_type": "stream",
     "text": [
      "100%|██████████| 3906/3906 [00:11<00:00, 350.18it/s]\n"
     ]
    },
    {
     "name": "stdout",
     "output_type": "stream",
     "text": [
      "Updating best model!\n",
      "loss = 0.00711517, loss validation = 0.00602351 \n",
      "\n",
      "Epoch 206/300, Current learning rate: 2.657205000000001e-05, Time remaining: 20.0 min\n"
     ]
    },
    {
     "name": "stderr",
     "output_type": "stream",
     "text": [
      "100%|██████████| 3906/3906 [00:11<00:00, 350.51it/s]\n"
     ]
    },
    {
     "name": "stdout",
     "output_type": "stream",
     "text": [
      "loss = 0.00665547, loss validation = 0.00631623 \n",
      "\n",
      "Epoch 207/300, Current learning rate: 2.657205000000001e-05, Time remaining: 19.92 min\n"
     ]
    },
    {
     "name": "stderr",
     "output_type": "stream",
     "text": [
      "100%|██████████| 3906/3906 [00:11<00:00, 353.50it/s]\n"
     ]
    },
    {
     "name": "stdout",
     "output_type": "stream",
     "text": [
      "loss = 0.00636529, loss validation = 0.00814483 \n",
      "\n",
      "Epoch 208/300, Current learning rate: 2.657205000000001e-05, Time remaining: 19.48 min\n"
     ]
    },
    {
     "name": "stderr",
     "output_type": "stream",
     "text": [
      "100%|██████████| 3906/3906 [00:11<00:00, 334.04it/s]\n"
     ]
    },
    {
     "name": "stdout",
     "output_type": "stream",
     "text": [
      "loss = 0.00718766, loss validation = 0.00717006 \n",
      "\n",
      "Epoch 209/300, Current learning rate: 2.657205000000001e-05, Time remaining: 20.32 min\n"
     ]
    },
    {
     "name": "stderr",
     "output_type": "stream",
     "text": [
      "100%|██████████| 3906/3906 [00:10<00:00, 358.20it/s]\n"
     ]
    },
    {
     "name": "stdout",
     "output_type": "stream",
     "text": [
      "loss = 0.00693780, loss validation = 0.00673028 \n",
      "\n",
      "Epoch 210/300, Current learning rate: 2.657205000000001e-05, Time remaining: 18.92 min\n"
     ]
    },
    {
     "name": "stderr",
     "output_type": "stream",
     "text": [
      "100%|██████████| 3906/3906 [00:10<00:00, 356.85it/s]\n"
     ]
    },
    {
     "name": "stdout",
     "output_type": "stream",
     "text": [
      "loss = 0.00682258, loss validation = 0.00745403 \n",
      "\n",
      "Epoch 211/300, Current learning rate: 2.657205000000001e-05, Time remaining: 18.7 min\n"
     ]
    },
    {
     "name": "stderr",
     "output_type": "stream",
     "text": [
      "100%|██████████| 3906/3906 [00:10<00:00, 363.11it/s]\n"
     ]
    },
    {
     "name": "stdout",
     "output_type": "stream",
     "text": [
      "loss = 0.00654326, loss validation = 0.00657783 \n",
      "\n",
      "Epoch 212/300, Current learning rate: 2.657205000000001e-05, Time remaining: 18.2 min\n"
     ]
    },
    {
     "name": "stderr",
     "output_type": "stream",
     "text": [
      "100%|██████████| 3906/3906 [00:10<00:00, 363.91it/s]\n"
     ]
    },
    {
     "name": "stdout",
     "output_type": "stream",
     "text": [
      "loss = 0.00624396, loss validation = 0.00630499 \n",
      "\n",
      "Epoch 213/300, Current learning rate: 2.657205000000001e-05, Time remaining: 17.91 min\n"
     ]
    },
    {
     "name": "stderr",
     "output_type": "stream",
     "text": [
      "100%|██████████| 3906/3906 [00:10<00:00, 360.97it/s]\n"
     ]
    },
    {
     "name": "stdout",
     "output_type": "stream",
     "text": [
      "loss = 0.00660964, loss validation = 0.00603123 \n",
      "\n",
      "Epoch 214/300, Current learning rate: 2.657205000000001e-05, Time remaining: 17.81 min\n"
     ]
    },
    {
     "name": "stderr",
     "output_type": "stream",
     "text": [
      "100%|██████████| 3906/3906 [00:10<00:00, 364.68it/s]\n"
     ]
    },
    {
     "name": "stdout",
     "output_type": "stream",
     "text": [
      "loss = 0.00712803, loss validation = 0.00624929 \n",
      "\n",
      "Epoch 215/300, Current learning rate: 2.657205000000001e-05, Time remaining: 17.46 min\n"
     ]
    },
    {
     "name": "stderr",
     "output_type": "stream",
     "text": [
      "100%|██████████| 3906/3906 [00:10<00:00, 372.37it/s]\n"
     ]
    },
    {
     "name": "stdout",
     "output_type": "stream",
     "text": [
      "loss = 0.00610010, loss validation = 0.00747341 \n",
      "\n",
      "Epoch 216/300, Current learning rate: 2.657205000000001e-05, Time remaining: 16.98 min\n"
     ]
    },
    {
     "name": "stderr",
     "output_type": "stream",
     "text": [
      "100%|██████████| 3906/3906 [00:10<00:00, 355.23it/s]\n"
     ]
    },
    {
     "name": "stdout",
     "output_type": "stream",
     "text": [
      "Updating best model!\n",
      "loss = 0.00563467, loss validation = 0.00588770 \n",
      "\n",
      "Epoch 217/300, Current learning rate: 2.657205000000001e-05, Time remaining: 17.49 min\n"
     ]
    },
    {
     "name": "stderr",
     "output_type": "stream",
     "text": [
      "100%|██████████| 3906/3906 [00:10<00:00, 374.46it/s]\n"
     ]
    },
    {
     "name": "stdout",
     "output_type": "stream",
     "text": [
      "loss = 0.00682838, loss validation = 0.00765704 \n",
      "\n",
      "Epoch 218/300, Current learning rate: 2.657205000000001e-05, Time remaining: 16.54 min\n"
     ]
    },
    {
     "name": "stderr",
     "output_type": "stream",
     "text": [
      "100%|██████████| 3906/3906 [00:10<00:00, 366.26it/s]\n"
     ]
    },
    {
     "name": "stdout",
     "output_type": "stream",
     "text": [
      "loss = 0.00765978, loss validation = 0.00663702 \n",
      "\n",
      "Epoch 219/300, Current learning rate: 2.657205000000001e-05, Time remaining: 16.71 min\n"
     ]
    },
    {
     "name": "stderr",
     "output_type": "stream",
     "text": [
      "100%|██████████| 3906/3906 [00:10<00:00, 356.78it/s]\n"
     ]
    },
    {
     "name": "stdout",
     "output_type": "stream",
     "text": [
      "loss = 0.00637203, loss validation = 0.00665978 \n",
      "\n",
      "Epoch 220/300, Current learning rate: 2.657205000000001e-05, Time remaining: 16.91 min\n"
     ]
    },
    {
     "name": "stderr",
     "output_type": "stream",
     "text": [
      "100%|██████████| 3906/3906 [00:10<00:00, 356.67it/s]\n"
     ]
    },
    {
     "name": "stdout",
     "output_type": "stream",
     "text": [
      "loss = 0.00709677, loss validation = 0.00705414 \n",
      "\n",
      "Epoch 221/300, Current learning rate: 2.657205000000001e-05, Time remaining: 16.63 min\n"
     ]
    },
    {
     "name": "stderr",
     "output_type": "stream",
     "text": [
      "100%|██████████| 3906/3906 [00:10<00:00, 361.37it/s]\n"
     ]
    },
    {
     "name": "stdout",
     "output_type": "stream",
     "text": [
      "Updating best model!\n",
      "loss = 0.00641891, loss validation = 0.00566706 \n",
      "\n",
      "Epoch 222/300, Current learning rate: 2.657205000000001e-05, Time remaining: 16.26 min\n"
     ]
    },
    {
     "name": "stderr",
     "output_type": "stream",
     "text": [
      "100%|██████████| 3906/3906 [00:10<00:00, 381.50it/s]\n"
     ]
    },
    {
     "name": "stdout",
     "output_type": "stream",
     "text": [
      "loss = 0.00573764, loss validation = 0.00620379 \n",
      "\n",
      "Epoch 223/300, Current learning rate: 2.657205000000001e-05, Time remaining: 15.28 min\n"
     ]
    },
    {
     "name": "stderr",
     "output_type": "stream",
     "text": [
      "100%|██████████| 3906/3906 [00:10<00:00, 372.79it/s]\n"
     ]
    },
    {
     "name": "stdout",
     "output_type": "stream",
     "text": [
      "loss = 0.00681131, loss validation = 0.00648663 \n",
      "\n",
      "Epoch 224/300, Current learning rate: 2.657205000000001e-05, Time remaining: 15.36 min\n"
     ]
    },
    {
     "name": "stderr",
     "output_type": "stream",
     "text": [
      "100%|██████████| 3906/3906 [00:11<00:00, 343.96it/s]\n"
     ]
    },
    {
     "name": "stdout",
     "output_type": "stream",
     "text": [
      "loss = 0.00671991, loss validation = 0.00640320 \n",
      "\n",
      "Epoch 225/300, Current learning rate: 2.657205000000001e-05, Time remaining: 16.31 min\n"
     ]
    },
    {
     "name": "stderr",
     "output_type": "stream",
     "text": [
      "100%|██████████| 3906/3906 [00:11<00:00, 347.77it/s]\n"
     ]
    },
    {
     "name": "stdout",
     "output_type": "stream",
     "text": [
      "loss = 0.00638472, loss validation = 0.00726475 \n",
      "\n",
      "Epoch 226/300, Current learning rate: 2.657205000000001e-05, Time remaining: 15.92 min\n"
     ]
    },
    {
     "name": "stderr",
     "output_type": "stream",
     "text": [
      "100%|██████████| 3906/3906 [00:10<00:00, 367.43it/s]\n"
     ]
    },
    {
     "name": "stdout",
     "output_type": "stream",
     "text": [
      "loss = 0.00622035, loss validation = 0.00624544 \n",
      "\n",
      "Epoch 227/300, Current learning rate: 2.657205000000001e-05, Time remaining: 14.99 min\n"
     ]
    },
    {
     "name": "stderr",
     "output_type": "stream",
     "text": [
      "100%|██████████| 3906/3906 [00:10<00:00, 373.48it/s]\n"
     ]
    },
    {
     "name": "stdout",
     "output_type": "stream",
     "text": [
      "loss = 0.00704178, loss validation = 0.00712406 \n",
      "\n",
      "Epoch 228/300, Current learning rate: 2.657205000000001e-05, Time remaining: 14.6 min\n"
     ]
    },
    {
     "name": "stderr",
     "output_type": "stream",
     "text": [
      "100%|██████████| 3906/3906 [00:10<00:00, 363.28it/s]\n"
     ]
    },
    {
     "name": "stdout",
     "output_type": "stream",
     "text": [
      "loss = 0.00774752, loss validation = 0.00648802 \n",
      "\n",
      "Epoch 229/300, Current learning rate: 2.657205000000001e-05, Time remaining: 14.73 min\n"
     ]
    },
    {
     "name": "stderr",
     "output_type": "stream",
     "text": [
      "100%|██████████| 3906/3906 [00:10<00:00, 356.86it/s]\n"
     ]
    },
    {
     "name": "stdout",
     "output_type": "stream",
     "text": [
      "loss = 0.00966844, loss validation = 0.00695725 \n",
      "\n",
      "Epoch 230/300, Current learning rate: 2.657205000000001e-05, Time remaining: 14.87 min\n"
     ]
    },
    {
     "name": "stderr",
     "output_type": "stream",
     "text": [
      "100%|██████████| 3906/3906 [00:11<00:00, 343.17it/s]\n"
     ]
    },
    {
     "name": "stdout",
     "output_type": "stream",
     "text": [
      "loss = 0.00603713, loss validation = 0.00704369 \n",
      "\n",
      "Epoch 231/300, Current learning rate: 2.657205000000001e-05, Time remaining: 15.09 min\n"
     ]
    },
    {
     "name": "stderr",
     "output_type": "stream",
     "text": [
      "100%|██████████| 3906/3906 [00:11<00:00, 351.20it/s]\n"
     ]
    },
    {
     "name": "stdout",
     "output_type": "stream",
     "text": [
      "loss = 0.00684880, loss validation = 0.00697201 \n",
      "\n",
      "Epoch 232/300, Current learning rate: 2.657205000000001e-05, Time remaining: 14.61 min\n"
     ]
    },
    {
     "name": "stderr",
     "output_type": "stream",
     "text": [
      "100%|██████████| 3906/3906 [00:10<00:00, 359.33it/s]\n"
     ]
    },
    {
     "name": "stdout",
     "output_type": "stream",
     "text": [
      "Epoch 00232: reducing learning rate of group 0 to 2.3915e-05.\n",
      "loss = 0.00609559, loss validation = 0.00645283 \n",
      "\n",
      "Epoch 233/300, Current learning rate: 2.391484500000001e-05, Time remaining: 14.11 min\n"
     ]
    },
    {
     "name": "stderr",
     "output_type": "stream",
     "text": [
      "100%|██████████| 3906/3906 [00:10<00:00, 357.13it/s]\n"
     ]
    },
    {
     "name": "stdout",
     "output_type": "stream",
     "text": [
      "loss = 0.00628560, loss validation = 0.00665271 \n",
      "\n",
      "Epoch 234/300, Current learning rate: 2.391484500000001e-05, Time remaining: 14.04 min\n"
     ]
    },
    {
     "name": "stderr",
     "output_type": "stream",
     "text": [
      "100%|██████████| 3906/3906 [00:10<00:00, 362.47it/s]\n"
     ]
    },
    {
     "name": "stdout",
     "output_type": "stream",
     "text": [
      "loss = 0.00640820, loss validation = 0.00603366 \n",
      "\n",
      "Epoch 235/300, Current learning rate: 2.391484500000001e-05, Time remaining: 13.63 min\n"
     ]
    },
    {
     "name": "stderr",
     "output_type": "stream",
     "text": [
      "100%|██████████| 3906/3906 [00:10<00:00, 359.71it/s]\n"
     ]
    },
    {
     "name": "stdout",
     "output_type": "stream",
     "text": [
      "loss = 0.00584908, loss validation = 0.00682385 \n",
      "\n",
      "Epoch 236/300, Current learning rate: 2.391484500000001e-05, Time remaining: 13.46 min\n"
     ]
    },
    {
     "name": "stderr",
     "output_type": "stream",
     "text": [
      "100%|██████████| 3906/3906 [00:10<00:00, 368.02it/s]\n"
     ]
    },
    {
     "name": "stdout",
     "output_type": "stream",
     "text": [
      "loss = 0.00619506, loss validation = 0.00630008 \n",
      "\n",
      "Epoch 237/300, Current learning rate: 2.391484500000001e-05, Time remaining: 13.03 min\n"
     ]
    },
    {
     "name": "stderr",
     "output_type": "stream",
     "text": [
      "100%|██████████| 3906/3906 [00:10<00:00, 359.97it/s]\n"
     ]
    },
    {
     "name": "stdout",
     "output_type": "stream",
     "text": [
      "loss = 0.00664575, loss validation = 0.00607769 \n",
      "\n",
      "Epoch 238/300, Current learning rate: 2.391484500000001e-05, Time remaining: 13.06 min\n"
     ]
    },
    {
     "name": "stderr",
     "output_type": "stream",
     "text": [
      "100%|██████████| 3906/3906 [00:10<00:00, 358.37it/s]\n"
     ]
    },
    {
     "name": "stdout",
     "output_type": "stream",
     "text": [
      "loss = 0.00587128, loss validation = 0.00615641 \n",
      "\n",
      "Epoch 239/300, Current learning rate: 2.391484500000001e-05, Time remaining: 12.92 min\n"
     ]
    },
    {
     "name": "stderr",
     "output_type": "stream",
     "text": [
      "100%|██████████| 3906/3906 [00:11<00:00, 351.62it/s]\n"
     ]
    },
    {
     "name": "stdout",
     "output_type": "stream",
     "text": [
      "loss = 0.00578749, loss validation = 0.00652104 \n",
      "\n",
      "Epoch 240/300, Current learning rate: 2.391484500000001e-05, Time remaining: 12.91 min\n"
     ]
    },
    {
     "name": "stderr",
     "output_type": "stream",
     "text": [
      "100%|██████████| 3906/3906 [00:11<00:00, 350.28it/s]\n"
     ]
    },
    {
     "name": "stdout",
     "output_type": "stream",
     "text": [
      "loss = 0.00739661, loss validation = 0.00609825 \n",
      "\n",
      "Epoch 241/300, Current learning rate: 2.391484500000001e-05, Time remaining: 12.76 min\n"
     ]
    },
    {
     "name": "stderr",
     "output_type": "stream",
     "text": [
      "100%|██████████| 3906/3906 [00:10<00:00, 358.69it/s]\n"
     ]
    },
    {
     "name": "stdout",
     "output_type": "stream",
     "text": [
      "loss = 0.00628195, loss validation = 0.00642531 \n",
      "\n",
      "Epoch 242/300, Current learning rate: 2.391484500000001e-05, Time remaining: 12.31 min\n"
     ]
    },
    {
     "name": "stderr",
     "output_type": "stream",
     "text": [
      "100%|██████████| 3906/3906 [00:10<00:00, 360.48it/s]\n"
     ]
    },
    {
     "name": "stdout",
     "output_type": "stream",
     "text": [
      "loss = 0.00633982, loss validation = 0.00598625 \n",
      "\n",
      "Epoch 243/300, Current learning rate: 2.391484500000001e-05, Time remaining: 12.02 min\n"
     ]
    },
    {
     "name": "stderr",
     "output_type": "stream",
     "text": [
      "100%|██████████| 3906/3906 [00:10<00:00, 360.78it/s]\n"
     ]
    },
    {
     "name": "stdout",
     "output_type": "stream",
     "text": [
      "Updating best model!\n",
      "loss = 0.00579890, loss validation = 0.00536343 \n",
      "\n",
      "Epoch 244/300, Current learning rate: 2.391484500000001e-05, Time remaining: 11.85 min\n"
     ]
    },
    {
     "name": "stderr",
     "output_type": "stream",
     "text": [
      "100%|██████████| 3906/3906 [00:11<00:00, 349.96it/s]\n"
     ]
    },
    {
     "name": "stdout",
     "output_type": "stream",
     "text": [
      "loss = 0.00691485, loss validation = 0.00587114 \n",
      "\n",
      "Epoch 245/300, Current learning rate: 2.391484500000001e-05, Time remaining: 11.9 min\n"
     ]
    },
    {
     "name": "stderr",
     "output_type": "stream",
     "text": [
      "100%|██████████| 3906/3906 [00:10<00:00, 355.98it/s]\n"
     ]
    },
    {
     "name": "stdout",
     "output_type": "stream",
     "text": [
      "loss = 0.00692856, loss validation = 0.00683538 \n",
      "\n",
      "Epoch 246/300, Current learning rate: 2.391484500000001e-05, Time remaining: 11.73 min\n"
     ]
    },
    {
     "name": "stderr",
     "output_type": "stream",
     "text": [
      "100%|██████████| 3906/3906 [00:11<00:00, 352.64it/s]\n"
     ]
    },
    {
     "name": "stdout",
     "output_type": "stream",
     "text": [
      "loss = 0.00642942, loss validation = 0.00582185 \n",
      "\n",
      "Epoch 247/300, Current learning rate: 2.391484500000001e-05, Time remaining: 11.47 min\n"
     ]
    },
    {
     "name": "stderr",
     "output_type": "stream",
     "text": [
      "100%|██████████| 3906/3906 [00:11<00:00, 351.03it/s]\n"
     ]
    },
    {
     "name": "stdout",
     "output_type": "stream",
     "text": [
      "loss = 0.00599637, loss validation = 0.00577940 \n",
      "\n",
      "Epoch 248/300, Current learning rate: 2.391484500000001e-05, Time remaining: 11.27 min\n"
     ]
    },
    {
     "name": "stderr",
     "output_type": "stream",
     "text": [
      "100%|██████████| 3906/3906 [00:11<00:00, 354.12it/s]\n"
     ]
    },
    {
     "name": "stdout",
     "output_type": "stream",
     "text": [
      "loss = 0.00750154, loss validation = 0.00591238 \n",
      "\n",
      "Epoch 249/300, Current learning rate: 2.391484500000001e-05, Time remaining: 11.01 min\n"
     ]
    },
    {
     "name": "stderr",
     "output_type": "stream",
     "text": [
      "100%|██████████| 3906/3906 [00:11<00:00, 353.23it/s]\n"
     ]
    },
    {
     "name": "stdout",
     "output_type": "stream",
     "text": [
      "loss = 0.00703187, loss validation = 0.00624334 \n",
      "\n",
      "Epoch 250/300, Current learning rate: 2.391484500000001e-05, Time remaining: 10.78 min\n"
     ]
    },
    {
     "name": "stderr",
     "output_type": "stream",
     "text": [
      "100%|██████████| 3906/3906 [00:10<00:00, 357.11it/s]\n"
     ]
    },
    {
     "name": "stdout",
     "output_type": "stream",
     "text": [
      "loss = 0.00504632, loss validation = 0.00776170 \n",
      "\n",
      "Epoch 251/300, Current learning rate: 2.391484500000001e-05, Time remaining: 10.48 min\n"
     ]
    },
    {
     "name": "stderr",
     "output_type": "stream",
     "text": [
      "100%|██████████| 3906/3906 [00:10<00:00, 366.83it/s]\n"
     ]
    },
    {
     "name": "stdout",
     "output_type": "stream",
     "text": [
      "loss = 0.00563435, loss validation = 0.00614461 \n",
      "\n",
      "Epoch 252/300, Current learning rate: 2.391484500000001e-05, Time remaining: 10.01 min\n"
     ]
    },
    {
     "name": "stderr",
     "output_type": "stream",
     "text": [
      "100%|██████████| 3906/3906 [00:10<00:00, 369.86it/s]\n"
     ]
    },
    {
     "name": "stdout",
     "output_type": "stream",
     "text": [
      "loss = 0.00617233, loss validation = 0.00555445 \n",
      "\n",
      "Epoch 253/300, Current learning rate: 2.391484500000001e-05, Time remaining: 9.71 min\n"
     ]
    },
    {
     "name": "stderr",
     "output_type": "stream",
     "text": [
      "100%|██████████| 3906/3906 [00:10<00:00, 367.76it/s]\n"
     ]
    },
    {
     "name": "stdout",
     "output_type": "stream",
     "text": [
      "loss = 0.00610156, loss validation = 0.00591891 \n",
      "\n",
      "Epoch 254/300, Current learning rate: 2.391484500000001e-05, Time remaining: 9.58 min\n"
     ]
    },
    {
     "name": "stderr",
     "output_type": "stream",
     "text": [
      "100%|██████████| 3906/3906 [00:10<00:00, 383.10it/s]\n"
     ]
    },
    {
     "name": "stdout",
     "output_type": "stream",
     "text": [
      "Epoch 00254: reducing learning rate of group 0 to 2.1523e-05.\n",
      "loss = 0.00586050, loss validation = 0.00580454 \n",
      "\n",
      "Epoch 255/300, Current learning rate: 2.152336050000001e-05, Time remaining: 9.08 min\n"
     ]
    },
    {
     "name": "stderr",
     "output_type": "stream",
     "text": [
      "100%|██████████| 3906/3906 [00:10<00:00, 367.15it/s]\n"
     ]
    },
    {
     "name": "stdout",
     "output_type": "stream",
     "text": [
      "loss = 0.00587939, loss validation = 0.00682766 \n",
      "\n",
      "Epoch 256/300, Current learning rate: 2.152336050000001e-05, Time remaining: 9.21 min\n"
     ]
    },
    {
     "name": "stderr",
     "output_type": "stream",
     "text": [
      "100%|██████████| 3906/3906 [00:10<00:00, 356.15it/s]\n"
     ]
    },
    {
     "name": "stdout",
     "output_type": "stream",
     "text": [
      "loss = 0.00618543, loss validation = 0.00587790 \n",
      "\n",
      "Epoch 257/300, Current learning rate: 2.152336050000001e-05, Time remaining: 9.24 min\n"
     ]
    },
    {
     "name": "stderr",
     "output_type": "stream",
     "text": [
      "100%|██████████| 3906/3906 [00:10<00:00, 359.57it/s]\n"
     ]
    },
    {
     "name": "stdout",
     "output_type": "stream",
     "text": [
      "loss = 0.00578213, loss validation = 0.00589671 \n",
      "\n",
      "Epoch 258/300, Current learning rate: 2.152336050000001e-05, Time remaining: 8.98 min\n"
     ]
    },
    {
     "name": "stderr",
     "output_type": "stream",
     "text": [
      "100%|██████████| 3906/3906 [00:10<00:00, 362.04it/s]\n"
     ]
    },
    {
     "name": "stdout",
     "output_type": "stream",
     "text": [
      "loss = 0.00535949, loss validation = 0.00621817 \n",
      "\n",
      "Epoch 259/300, Current learning rate: 2.152336050000001e-05, Time remaining: 8.74 min\n"
     ]
    },
    {
     "name": "stderr",
     "output_type": "stream",
     "text": [
      "100%|██████████| 3906/3906 [00:10<00:00, 356.80it/s]\n"
     ]
    },
    {
     "name": "stdout",
     "output_type": "stream",
     "text": [
      "loss = 0.00574520, loss validation = 0.00603892 \n",
      "\n",
      "Epoch 260/300, Current learning rate: 2.152336050000001e-05, Time remaining: 8.65 min\n"
     ]
    },
    {
     "name": "stderr",
     "output_type": "stream",
     "text": [
      "100%|██████████| 3906/3906 [00:10<00:00, 358.26it/s]\n"
     ]
    },
    {
     "name": "stdout",
     "output_type": "stream",
     "text": [
      "loss = 0.00595206, loss validation = 0.00595940 \n",
      "\n",
      "Epoch 261/300, Current learning rate: 2.152336050000001e-05, Time remaining: 8.4 min\n"
     ]
    },
    {
     "name": "stderr",
     "output_type": "stream",
     "text": [
      "100%|██████████| 3906/3906 [00:11<00:00, 350.68it/s]\n"
     ]
    },
    {
     "name": "stdout",
     "output_type": "stream",
     "text": [
      "loss = 0.00548914, loss validation = 0.00606434 \n",
      "\n",
      "Epoch 262/300, Current learning rate: 2.152336050000001e-05, Time remaining: 8.35 min\n"
     ]
    },
    {
     "name": "stderr",
     "output_type": "stream",
     "text": [
      "100%|██████████| 3906/3906 [00:11<00:00, 353.48it/s]\n"
     ]
    },
    {
     "name": "stdout",
     "output_type": "stream",
     "text": [
      "Updating best model!\n",
      "loss = 0.00534278, loss validation = 0.00520406 \n",
      "\n",
      "Epoch 263/300, Current learning rate: 2.152336050000001e-05, Time remaining: 8.06 min\n"
     ]
    },
    {
     "name": "stderr",
     "output_type": "stream",
     "text": [
      "100%|██████████| 3906/3906 [00:10<00:00, 368.78it/s]\n"
     ]
    },
    {
     "name": "stdout",
     "output_type": "stream",
     "text": [
      "loss = 0.00566066, loss validation = 0.00585860 \n",
      "\n",
      "Epoch 264/300, Current learning rate: 2.152336050000001e-05, Time remaining: 7.55 min\n"
     ]
    },
    {
     "name": "stderr",
     "output_type": "stream",
     "text": [
      "100%|██████████| 3906/3906 [00:10<00:00, 364.28it/s]\n"
     ]
    },
    {
     "name": "stdout",
     "output_type": "stream",
     "text": [
      "loss = 0.00572507, loss validation = 0.00637390 \n",
      "\n",
      "Epoch 265/300, Current learning rate: 2.152336050000001e-05, Time remaining: 7.45 min\n"
     ]
    },
    {
     "name": "stderr",
     "output_type": "stream",
     "text": [
      "100%|██████████| 3906/3906 [00:11<00:00, 354.86it/s]\n"
     ]
    },
    {
     "name": "stdout",
     "output_type": "stream",
     "text": [
      "loss = 0.00553601, loss validation = 0.00623588 \n",
      "\n",
      "Epoch 266/300, Current learning rate: 2.152336050000001e-05, Time remaining: 7.44 min\n"
     ]
    },
    {
     "name": "stderr",
     "output_type": "stream",
     "text": [
      "100%|██████████| 3906/3906 [00:11<00:00, 354.25it/s]\n"
     ]
    },
    {
     "name": "stdout",
     "output_type": "stream",
     "text": [
      "loss = 0.00592156, loss validation = 0.00582565 \n",
      "\n",
      "Epoch 267/300, Current learning rate: 2.152336050000001e-05, Time remaining: 7.26 min\n"
     ]
    },
    {
     "name": "stderr",
     "output_type": "stream",
     "text": [
      "100%|██████████| 3906/3906 [00:11<00:00, 339.83it/s]\n"
     ]
    },
    {
     "name": "stdout",
     "output_type": "stream",
     "text": [
      "loss = 0.00604926, loss validation = 0.00615737 \n",
      "\n",
      "Epoch 268/300, Current learning rate: 2.152336050000001e-05, Time remaining: 7.31 min\n"
     ]
    },
    {
     "name": "stderr",
     "output_type": "stream",
     "text": [
      "100%|██████████| 3906/3906 [00:10<00:00, 370.15it/s]\n"
     ]
    },
    {
     "name": "stdout",
     "output_type": "stream",
     "text": [
      "Updating best model!\n",
      "loss = 0.00569821, loss validation = 0.00463159 \n",
      "\n",
      "Epoch 269/300, Current learning rate: 2.152336050000001e-05, Time remaining: 6.58 min\n"
     ]
    },
    {
     "name": "stderr",
     "output_type": "stream",
     "text": [
      "100%|██████████| 3906/3906 [00:11<00:00, 347.97it/s]\n"
     ]
    },
    {
     "name": "stdout",
     "output_type": "stream",
     "text": [
      "loss = 0.00518700, loss validation = 0.00595738 \n",
      "\n",
      "Epoch 270/300, Current learning rate: 2.152336050000001e-05, Time remaining: 6.79 min\n"
     ]
    },
    {
     "name": "stderr",
     "output_type": "stream",
     "text": [
      "100%|██████████| 3906/3906 [00:10<00:00, 373.07it/s]\n"
     ]
    },
    {
     "name": "stdout",
     "output_type": "stream",
     "text": [
      "loss = 0.00594100, loss validation = 0.00640920 \n",
      "\n",
      "Epoch 271/300, Current learning rate: 2.152336050000001e-05, Time remaining: 6.12 min\n"
     ]
    },
    {
     "name": "stderr",
     "output_type": "stream",
     "text": [
      "100%|██████████| 3906/3906 [00:11<00:00, 350.11it/s]\n"
     ]
    },
    {
     "name": "stdout",
     "output_type": "stream",
     "text": [
      "loss = 0.00672312, loss validation = 0.00514081 \n",
      "\n",
      "Epoch 272/300, Current learning rate: 2.152336050000001e-05, Time remaining: 6.28 min\n"
     ]
    },
    {
     "name": "stderr",
     "output_type": "stream",
     "text": [
      "100%|██████████| 3906/3906 [00:10<00:00, 357.05it/s]\n"
     ]
    },
    {
     "name": "stdout",
     "output_type": "stream",
     "text": [
      "loss = 0.00601344, loss validation = 0.00552568 \n",
      "\n",
      "Epoch 273/300, Current learning rate: 2.152336050000001e-05, Time remaining: 5.97 min\n"
     ]
    },
    {
     "name": "stderr",
     "output_type": "stream",
     "text": [
      "100%|██████████| 3906/3906 [00:10<00:00, 361.94it/s]\n"
     ]
    },
    {
     "name": "stdout",
     "output_type": "stream",
     "text": [
      "loss = 0.00599306, loss validation = 0.00581925 \n",
      "\n",
      "Epoch 274/300, Current learning rate: 2.152336050000001e-05, Time remaining: 5.75 min\n"
     ]
    },
    {
     "name": "stderr",
     "output_type": "stream",
     "text": [
      "100%|██████████| 3906/3906 [00:11<00:00, 342.65it/s]\n"
     ]
    },
    {
     "name": "stdout",
     "output_type": "stream",
     "text": [
      "loss = 0.00540846, loss validation = 0.00599461 \n",
      "\n",
      "Epoch 275/300, Current learning rate: 2.152336050000001e-05, Time remaining: 5.79 min\n"
     ]
    },
    {
     "name": "stderr",
     "output_type": "stream",
     "text": [
      "100%|██████████| 3906/3906 [00:11<00:00, 337.52it/s]\n"
     ]
    },
    {
     "name": "stdout",
     "output_type": "stream",
     "text": [
      "loss = 0.00536081, loss validation = 0.00654503 \n",
      "\n",
      "Epoch 276/300, Current learning rate: 2.152336050000001e-05, Time remaining: 5.61 min\n"
     ]
    },
    {
     "name": "stderr",
     "output_type": "stream",
     "text": [
      "100%|██████████| 3906/3906 [00:11<00:00, 337.66it/s]\n"
     ]
    },
    {
     "name": "stdout",
     "output_type": "stream",
     "text": [
      "loss = 0.00527346, loss validation = 0.00513920 \n",
      "\n",
      "Epoch 277/300, Current learning rate: 2.152336050000001e-05, Time remaining: 5.4 min\n"
     ]
    },
    {
     "name": "stderr",
     "output_type": "stream",
     "text": [
      "100%|██████████| 3906/3906 [00:11<00:00, 355.08it/s]\n"
     ]
    },
    {
     "name": "stdout",
     "output_type": "stream",
     "text": [
      "loss = 0.00650003, loss validation = 0.00570784 \n",
      "\n",
      "Epoch 278/300, Current learning rate: 2.152336050000001e-05, Time remaining: 4.96 min\n"
     ]
    },
    {
     "name": "stderr",
     "output_type": "stream",
     "text": [
      "100%|██████████| 3906/3906 [00:11<00:00, 354.95it/s]\n"
     ]
    },
    {
     "name": "stdout",
     "output_type": "stream",
     "text": [
      "loss = 0.00620001, loss validation = 0.00601058 \n",
      "\n",
      "Epoch 279/300, Current learning rate: 2.152336050000001e-05, Time remaining: 4.76 min\n"
     ]
    },
    {
     "name": "stderr",
     "output_type": "stream",
     "text": [
      "100%|██████████| 3906/3906 [00:11<00:00, 348.36it/s]\n"
     ]
    },
    {
     "name": "stdout",
     "output_type": "stream",
     "text": [
      "Epoch 00279: reducing learning rate of group 0 to 1.9371e-05.\n",
      "loss = 0.00573267, loss validation = 0.00558361 \n",
      "\n",
      "Epoch 280/300, Current learning rate: 1.937102445000001e-05, Time remaining: 4.64 min\n"
     ]
    },
    {
     "name": "stderr",
     "output_type": "stream",
     "text": [
      "100%|██████████| 3906/3906 [00:11<00:00, 351.99it/s]\n"
     ]
    },
    {
     "name": "stdout",
     "output_type": "stream",
     "text": [
      "loss = 0.00540237, loss validation = 0.00589584 \n",
      "\n",
      "Epoch 281/300, Current learning rate: 1.937102445000001e-05, Time remaining: 4.39 min\n"
     ]
    },
    {
     "name": "stderr",
     "output_type": "stream",
     "text": [
      "100%|██████████| 3906/3906 [00:11<00:00, 354.52it/s]\n"
     ]
    },
    {
     "name": "stdout",
     "output_type": "stream",
     "text": [
      "loss = 0.00495806, loss validation = 0.00600510 \n",
      "\n",
      "Epoch 282/300, Current learning rate: 1.937102445000001e-05, Time remaining: 4.15 min\n"
     ]
    },
    {
     "name": "stderr",
     "output_type": "stream",
     "text": [
      "100%|██████████| 3906/3906 [00:10<00:00, 361.88it/s]\n"
     ]
    },
    {
     "name": "stdout",
     "output_type": "stream",
     "text": [
      "loss = 0.00552853, loss validation = 0.00584865 \n",
      "\n",
      "Epoch 283/300, Current learning rate: 1.937102445000001e-05, Time remaining: 3.87 min\n"
     ]
    },
    {
     "name": "stderr",
     "output_type": "stream",
     "text": [
      "100%|██████████| 3906/3906 [00:10<00:00, 356.01it/s]\n"
     ]
    },
    {
     "name": "stdout",
     "output_type": "stream",
     "text": [
      "loss = 0.00552838, loss validation = 0.00570770 \n",
      "\n",
      "Epoch 284/300, Current learning rate: 1.937102445000001e-05, Time remaining: 3.72 min\n"
     ]
    },
    {
     "name": "stderr",
     "output_type": "stream",
     "text": [
      "100%|██████████| 3906/3906 [00:11<00:00, 339.41it/s]\n"
     ]
    },
    {
     "name": "stdout",
     "output_type": "stream",
     "text": [
      "loss = 0.00608651, loss validation = 0.00556502 \n",
      "\n",
      "Epoch 285/300, Current learning rate: 1.937102445000001e-05, Time remaining: 3.66 min\n"
     ]
    },
    {
     "name": "stderr",
     "output_type": "stream",
     "text": [
      "100%|██████████| 3906/3906 [00:10<00:00, 356.72it/s]\n"
     ]
    },
    {
     "name": "stdout",
     "output_type": "stream",
     "text": [
      "loss = 0.00544532, loss validation = 0.00595225 \n",
      "\n",
      "Epoch 286/300, Current learning rate: 1.937102445000001e-05, Time remaining: 3.3 min\n"
     ]
    },
    {
     "name": "stderr",
     "output_type": "stream",
     "text": [
      "100%|██████████| 3906/3906 [00:11<00:00, 348.85it/s]\n"
     ]
    },
    {
     "name": "stdout",
     "output_type": "stream",
     "text": [
      "loss = 0.00511585, loss validation = 0.00474662 \n",
      "\n",
      "Epoch 287/300, Current learning rate: 1.937102445000001e-05, Time remaining: 3.15 min\n"
     ]
    },
    {
     "name": "stderr",
     "output_type": "stream",
     "text": [
      "100%|██████████| 3906/3906 [00:11<00:00, 349.06it/s]\n"
     ]
    },
    {
     "name": "stdout",
     "output_type": "stream",
     "text": [
      "loss = 0.00622032, loss validation = 0.00573263 \n",
      "\n",
      "Epoch 288/300, Current learning rate: 1.937102445000001e-05, Time remaining: 2.94 min\n"
     ]
    },
    {
     "name": "stderr",
     "output_type": "stream",
     "text": [
      "100%|██████████| 3906/3906 [00:11<00:00, 341.98it/s]\n"
     ]
    },
    {
     "name": "stdout",
     "output_type": "stream",
     "text": [
      "loss = 0.00540140, loss validation = 0.00556423 \n",
      "\n",
      "Epoch 289/300, Current learning rate: 1.937102445000001e-05, Time remaining: 2.78 min\n"
     ]
    },
    {
     "name": "stderr",
     "output_type": "stream",
     "text": [
      "100%|██████████| 3906/3906 [00:11<00:00, 346.60it/s]\n"
     ]
    },
    {
     "name": "stdout",
     "output_type": "stream",
     "text": [
      "loss = 0.00624126, loss validation = 0.00621088 \n",
      "\n",
      "Epoch 290/300, Current learning rate: 1.937102445000001e-05, Time remaining: 2.54 min\n"
     ]
    },
    {
     "name": "stderr",
     "output_type": "stream",
     "text": [
      "100%|██████████| 3906/3906 [00:11<00:00, 349.14it/s]\n"
     ]
    },
    {
     "name": "stdout",
     "output_type": "stream",
     "text": [
      "Epoch 00290: reducing learning rate of group 0 to 1.7434e-05.\n",
      "loss = 0.00558869, loss validation = 0.00501382 \n",
      "\n",
      "Epoch 291/300, Current learning rate: 1.7433922005000008e-05, Time remaining: 2.31 min\n"
     ]
    },
    {
     "name": "stderr",
     "output_type": "stream",
     "text": [
      "100%|██████████| 3906/3906 [00:10<00:00, 355.12it/s]\n"
     ]
    },
    {
     "name": "stdout",
     "output_type": "stream",
     "text": [
      "loss = 0.00587109, loss validation = 0.00605512 \n",
      "\n",
      "Epoch 292/300, Current learning rate: 1.7433922005000008e-05, Time remaining: 2.07 min\n"
     ]
    },
    {
     "name": "stderr",
     "output_type": "stream",
     "text": [
      "100%|██████████| 3906/3906 [00:11<00:00, 343.83it/s]\n"
     ]
    },
    {
     "name": "stdout",
     "output_type": "stream",
     "text": [
      "loss = 0.00624436, loss validation = 0.00486425 \n",
      "\n",
      "Epoch 293/300, Current learning rate: 1.7433922005000008e-05, Time remaining: 1.92 min\n"
     ]
    },
    {
     "name": "stderr",
     "output_type": "stream",
     "text": [
      "100%|██████████| 3906/3906 [00:11<00:00, 338.95it/s]\n"
     ]
    },
    {
     "name": "stdout",
     "output_type": "stream",
     "text": [
      "loss = 0.00515375, loss validation = 0.00517259 \n",
      "\n",
      "Epoch 294/300, Current learning rate: 1.7433922005000008e-05, Time remaining: 1.72 min\n"
     ]
    },
    {
     "name": "stderr",
     "output_type": "stream",
     "text": [
      "100%|██████████| 3906/3906 [00:11<00:00, 349.50it/s]\n"
     ]
    },
    {
     "name": "stdout",
     "output_type": "stream",
     "text": [
      "loss = 0.00623192, loss validation = 0.00563314 \n",
      "\n",
      "Epoch 295/300, Current learning rate: 1.7433922005000008e-05, Time remaining: 1.47 min\n"
     ]
    },
    {
     "name": "stderr",
     "output_type": "stream",
     "text": [
      "100%|██████████| 3906/3906 [00:10<00:00, 356.51it/s]\n"
     ]
    },
    {
     "name": "stdout",
     "output_type": "stream",
     "text": [
      "loss = 0.00576044, loss validation = 0.00701442 \n",
      "\n",
      "Epoch 296/300, Current learning rate: 1.7433922005000008e-05, Time remaining: 1.24 min\n"
     ]
    },
    {
     "name": "stderr",
     "output_type": "stream",
     "text": [
      "100%|██████████| 3906/3906 [00:11<00:00, 355.05it/s]\n"
     ]
    },
    {
     "name": "stdout",
     "output_type": "stream",
     "text": [
      "loss = 0.00552827, loss validation = 0.00560148 \n",
      "\n",
      "Epoch 297/300, Current learning rate: 1.7433922005000008e-05, Time remaining: 1.03 min\n"
     ]
    },
    {
     "name": "stderr",
     "output_type": "stream",
     "text": [
      "100%|██████████| 3906/3906 [00:11<00:00, 348.56it/s]\n"
     ]
    },
    {
     "name": "stdout",
     "output_type": "stream",
     "text": [
      "loss = 0.00564409, loss validation = 0.00626009 \n",
      "\n",
      "Epoch 298/300, Current learning rate: 1.7433922005000008e-05, Time remaining: 50.0 s\n"
     ]
    },
    {
     "name": "stderr",
     "output_type": "stream",
     "text": [
      "100%|██████████| 3906/3906 [00:11<00:00, 342.14it/s]\n"
     ]
    },
    {
     "name": "stdout",
     "output_type": "stream",
     "text": [
      "loss = 0.00582655, loss validation = 0.00492344 \n",
      "\n",
      "Epoch 299/300, Current learning rate: 1.7433922005000008e-05, Time remaining: 39.0 s\n"
     ]
    },
    {
     "name": "stderr",
     "output_type": "stream",
     "text": [
      "100%|██████████| 3906/3906 [00:11<00:00, 354.11it/s]\n"
     ]
    },
    {
     "name": "stdout",
     "output_type": "stream",
     "text": [
      "loss = 0.00529427, loss validation = 0.00630562 \n",
      "\n",
      "Epoch 300/300, Current learning rate: 1.7433922005000008e-05, Time remaining: 25.0 s\n"
     ]
    },
    {
     "name": "stderr",
     "output_type": "stream",
     "text": [
      "100%|██████████| 3906/3906 [00:10<00:00, 355.92it/s]\n"
     ]
    },
    {
     "name": "stdout",
     "output_type": "stream",
     "text": [
      "loss = 0.00525136, loss validation = 0.00497512 \n",
      "\n",
      "Total Training Time time: 3736.09s seconds\n"
     ]
    }
   ],
   "source": [
    "n_epochs = 300\n",
    "batch_size_train = 4096\n",
    "batch_size_val = 4096\n",
    "\n",
    "first = True\n",
    "start_time = time.time()\n",
    "\n",
    "# We store the model that suring training obtains the best score on validation\n",
    "best_model = copy.deepcopy(model)\n",
    "best_loss = 1e4\n",
    "\n",
    "print(f'Training batchsize = {batch_size_train}') # Can also be accessed with batchsize = states.shape[0]\n",
    "\n",
    "for epoch in range(n_epochs):\n",
    "    if first:\n",
    "        time_remaining = '-'\n",
    "    else:\n",
    "        time_estimate = epoch_time*(n_epochs-epoch+1)\n",
    "        if time_estimate > 60:\n",
    "            if time_estimate > 3600:\n",
    "                time_remaining = str(round(time_estimate/3600,2))+' h'\n",
    "            else:\n",
    "                time_remaining = str(round(time_estimate/60,2))+' min'\n",
    "        else:\n",
    "            time_remaining = str(round(time_estimate,0))+' s'\n",
    "        \n",
    "    first = False\n",
    "    print(f\"Epoch {epoch+1}/{n_epochs}, Current learning rate: {optimizer.state_dict()['param_groups'][0]['lr']}, Time remaining: {'-' if first else time_remaining}\")\n",
    "\n",
    "    start_time_epoch = time.time()\n",
    "    X_TRAIN, Y_TRAIN = shuffle(X_TRAIN, Y_TRAIN)\n",
    "    \n",
    "    # We loop over the entire dataset (ignoring the last incomplete batch)\n",
    "    for i in tqdm(range(X_TRAIN.shape[0]//batch_size_train)):\n",
    "        states = X_TRAIN[i*batch_size_train: (i+1)*batch_size_train, :]\n",
    "        labels = Y_TRAIN[i*batch_size_train: (i+1)*batch_size_train, :]\n",
    "\n",
    "        # Reset gradients (backward() is cumulative)\n",
    "        optimizer.zero_grad()\n",
    "        # Forward pass = prediction\n",
    "        predictions = model(states.float())\n",
    "\n",
    "        # Loss\n",
    "        l = loss(labels, predictions)\n",
    "\n",
    "        # Backward pass = Gradients (dl/dw)\n",
    "        l.backward() # Automatically compute the gradient of the loss wrt the weights\n",
    "\n",
    "        # Update weights\n",
    "        optimizer.step()\n",
    "        \n",
    "    with torch.no_grad():\n",
    "        # Load random validation batch\n",
    "        X_VALIDATION, Y_VALIDATION = shuffle(X_TRAIN, Y_TRAIN)\n",
    "        states_val = X_VALIDATION[:batch_size_val, :]\n",
    "        labels_val = Y_VALIDATION[:batch_size_val, :]\n",
    "    \n",
    "        # Forward pass = prediction\n",
    "        predictions_val = model(states_val.float())\n",
    "        \n",
    "        # Loss\n",
    "        l_val = loss(labels_val, predictions_val)\n",
    "        \n",
    "        if l_val < best_loss:\n",
    "            best_model = copy.deepcopy(model)\n",
    "            best_loss = l_val\n",
    "            print(\"Updating best model!\")\n",
    "        # Scheduler (reduce learning rate if loss stagnates)\n",
    "        scheduler.step(l_val)       \n",
    "    \n",
    "    # Save values for plots\n",
    "    loss_list.append(l.item())\n",
    "    loss_val_list.append(l_val.item())\n",
    "\n",
    "    print(f'loss = {l:.8f}, loss validation = {l_val:.8f} \\n')\n",
    "    \n",
    "    epoch_time = (time.time() - start_time_epoch)\n",
    "    \n",
    "# Compute excecution time\n",
    "execution_time = (time.time() - start_time)    \n",
    "print(f\"Total Training Time time: {round(execution_time,2)}s seconds\")"
   ]
  },
  {
   "cell_type": "code",
   "execution_count": 31,
   "id": "da708029",
   "metadata": {},
   "outputs": [
    {
     "data": {
      "image/png": "[encoded data removed]",
      "text/plain": [
       "<Figure size 1000x500 with 1 Axes>"
      ]
     },
     "metadata": {},
     "output_type": "display_data"
    }
   ],
   "source": [
    "fig, ((ax1)) = plt.subplots(1, 1)\n",
    "fig.set_figheight(5)\n",
    "fig.set_figwidth(10)\n",
    "#ax1.set_title('Loss over epochs')\n",
    "ax1.grid()\n",
    "ax1.semilogy(loss_list, 'orange', marker='.',label='Training loss')\n",
    "ax1.semilogy(loss_val_list, 'red', marker='.', label='Validation loss')\n",
    "ax1.legend()\n",
    "plt.show()"
   ]
  },
  {
   "cell_type": "code",
   "execution_count": 32,
   "id": "e78f4b94",
   "metadata": {},
   "outputs": [],
   "source": [
    "# Save model\n",
    "model_path = f\"{dataset_name}_{n_epochs}_epochs_4_layers_{neurons}_neurons_{batch_size_train}_batch_size_loss2.mdl\"\n",
    "torch.save(best_model.state_dict(), model_path)"
   ]
  },
  {
   "cell_type": "code",
   "execution_count": 33,
   "id": "465063b0",
   "metadata": {},
   "outputs": [],
   "source": [
    "# Save the loss trend\n",
    "with open(\"figures/loss_data.pk\",\"wb\") as file:\n",
    "    pkl.dump((loss_list, loss_val_list), file)"
   ]
  }
 ],
 "metadata": {
  "kernelspec": {
   "display_name": "Python 3 (ipykernel)",
   "language": "python",
   "name": "python3"
  },
  "language_info": {
   "codemirror_mode": {
    "name": "ipython",
    "version": 3
   },
   "file_extension": ".py",
   "mimetype": "text/x-python",
   "name": "python",
   "nbconvert_exporter": "python",
   "pygments_lexer": "ipython3",
   "version": "3.11.7"
  }
 },
 "nbformat": 4,
 "nbformat_minor": 5
}
