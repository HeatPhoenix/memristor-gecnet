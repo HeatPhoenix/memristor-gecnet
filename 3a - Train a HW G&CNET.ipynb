{
 "cells": [
  {
   "cell_type": "code",
   "execution_count": 94,
   "id": "3dbcf443",
   "metadata": {},
   "outputs": [
    {
     "name": "stdout",
     "output_type": "stream",
     "text": [
      "The autoreload extension is already loaded. To reload it, use:\n",
      "  %reload_ext autoreload\n"
     ]
    }
   ],
   "source": [
    "!export PYTHONPATH=$PYTHONPATH:./aihwkit/src/  \n",
    "\n",
    "# Core imports\n",
    "from mycore import ast2station_rotating, ast2station_rotating2\n",
    "\n",
    "# PyTorch and ML\n",
    "import torch\n",
    "import torch.nn as nn\n",
    "from torch.utils.data import DataLoader, Dataset\n",
    "from sklearn.model_selection import train_test_split\n",
    "from sklearn.utils import shuffle\n",
    "from sklearn.preprocessing import StandardScaler\n",
    "\n",
    "# Main imports\n",
    "import heyoka as hy\n",
    "import pykep as pk\n",
    "import pandas as pd\n",
    "\n",
    "# Usual imports\n",
    "import time\n",
    "import numpy as np\n",
    "import pickle as pkl\n",
    "import matplotlib as mpl\n",
    "import matplotlib.pyplot as plt\n",
    "from tqdm import tqdm\n",
    "from mpl_toolkits.mplot3d import Axes3D\n",
    "import copy\n",
    "\n",
    "# Jupyter setup\n",
    "%matplotlib notebook\n",
    "%matplotlib inline\n",
    "%load_ext autoreload\n",
    "%autoreload 2"
   ]
  },
  {
   "cell_type": "markdown",
   "id": "b5eb8ea6",
   "metadata": {},
   "source": [
    "# Setting up IBM AI HW Kit"
   ]
  },
  {
   "cell_type": "code",
   "execution_count": 95,
   "id": "1a53f295",
   "metadata": {},
   "outputs": [],
   "source": [
    "# Imports from PyTorch.\n",
    "from torch import nn\n",
    "from torch.optim.lr_scheduler import StepLR\n",
    "from torchvision import datasets, transforms\n",
    "import torch.nn.functional as F\n",
    "import MultiplyLayer as custom_nn\n",
    "\n",
    "# Imports from aihwkit.\n",
    "from aihwkit.nn import AnalogConv1d, AnalogConv2d, AnalogLinear, AnalogSequential\n",
    "from aihwkit.optim import AnalogSGD\n",
    "from aihwkit.simulator.configs import SingleRPUConfig, ConstantStepDevice\n",
    "from aihwkit.simulator.rpu_base import cuda\n",
    "from aihwkit.simulator.parameters import WeightNoiseType\n",
    "from aihwkit.simulator.configs import InferenceRPUConfig, WeightModifierType\n",
    "from aihwkit.simulator.presets import ReRamESPreset\n",
    "from aihwkit.simulator.presets.devices import ReRamArrayHfO2PresetDevice\n",
    "from aihwkit.inference import ReRamWan2022NoiseModel, PCMLikeNoiseModel\n",
    "from aihwkit.nn.conversion import convert_to_analog\n",
    "from aihwkit.simulator.tiles.base import AnalogTileStateNames, BaseTile, TileModuleBase\n",
    "from aihwkit.exceptions import TileModuleError"
   ]
  },
  {
   "cell_type": "markdown",
   "id": "186747f0",
   "metadata": {},
   "source": [
    "Create hardware profile to simulate on"
   ]
  },
  {
   "cell_type": "code",
   "execution_count": 96,
   "id": "34aba87c",
   "metadata": {},
   "outputs": [],
   "source": [
    "rram_inference_config = InferenceRPUConfig()\n",
    "#rram_inference_config.mapping.learn_out_scaling = True\n",
    "#rram_inference_config.mapping.\n",
    "    # noise_model=PCMLikeNoiseModel())\n",
    "#rram_inference_config.modifier.pcm_prob_at_random = 0.20\n",
    "# rram_inference_config.modifier.type = WeightModifierType.PCM_NOISE\n",
    "# rram_inference_config.modifier.pcm_prob_at_gmax = 0.00 #0.05 \n",
    "# rram_inference_config.modifier.pcm_prob_at_reset = 0.00\n",
    "\n",
    "# rram_inference_config.forward.w_noise_type = WeightNoiseType.ADDITIVE_CONSTANT\n",
    "# rram_inference_config.forward.w_noise = 0.00 #0.01\n",
    "\n",
    "# rram_inference_config.forward.inp_res = 1/(2^32)\n",
    "rram_inference_config.forward.out_res\n",
    "rram_inference_config.forward.out_bound \n",
    "\n",
    "from aihwkit.inference.compensation.drift import GlobalDriftCompensation\n",
    "# from aihwkit.simulator.configs import WeightModifierType\n",
    "# rram_inference_config.modifier.type = WeightModifierType.ADD_NORMAL\n",
    "# #rram_inference_config.modifier.std_dev = 0.1\n",
    "# rram_inference_config.modifier.pdrop = 0.05\n",
    "rram_inference_config.drift_compensation = GlobalDriftCompensation()\n",
    "\n"
   ]
  },
  {
   "cell_type": "code",
   "execution_count": 105,
   "id": "45e59eee",
   "metadata": {},
   "outputs": [],
   "source": [
    "\n",
    "from aihwkit.inference.compensation.drift import GlobalDriftCompensation\n",
    "from aihwkit.simulator.parameters.enums import BoundManagementType, NoiseManagementType, WeightClipType, WeightRemapType\n",
    "from aihwkit.simulator.parameters.io import IOParameters\n",
    "\n",
    "\n",
    "\n",
    "# Define a single-layer network, using inference/hardware-aware training tile\n",
    "rpu_config = InferenceRPUConfig()\n",
    "\n",
    "# rpu_config.pre_post.input_range.learn_input_range = True\n",
    "# rpu_config.pre_post.input_range.init_from_data = 50\n",
    "# rpu_config.pre_post.input_range.enable = True\n",
    "# rpu_config.modifier.pdrop = 0.03  # Drop connect.\n",
    "# rpu_config.modifier.type = WeightModifierType.ADD_NORMAL  # Fwd/bwd weight noise.\n",
    "# rpu_config.modifier.std_dev = 0.1\n",
    "# rpu_config.modifier.rel_to_actual_wmax = True\n",
    "\n",
    "# Inference noise model.\n",
    "rpu_config.noise_model = PCMLikeNoiseModel(g_max=25.0)\n",
    "\n",
    "# drift compensation\n",
    "rpu_config.drift_compensation = GlobalDriftCompensation()\n",
    "\n",
    "rpu_config.backward.is_perfect = True"
   ]
  },
  {
   "cell_type": "markdown",
   "id": "6fd0041b",
   "metadata": {},
   "source": [
    "# Load the dataset\n",
    "The file nominal_bundle....pk is created in the previous notebook\n"
   ]
  },
  {
   "cell_type": "code",
   "execution_count": 106,
   "id": "72d5a168",
   "metadata": {
    "scrolled": true
   },
   "outputs": [],
   "source": [
    "datset_name=\"data/training_50000_100_[0.001, 0.001, 0.08, 0.08]_[1.0, 1.0, 1.0, 1.0].pk\"\n",
    "with open(datset_name, \"rb\") as file:\n",
    "    data = pkl.load(file)\n",
    "np.random.shuffle(data)"
   ]
  },
  {
   "cell_type": "code",
   "execution_count": 107,
   "id": "00ce12dd",
   "metadata": {},
   "outputs": [
    {
     "name": "stdout",
     "output_type": "stream",
     "text": [
      "PyTorch detected CUDA\n",
      "Training on : cuda:0\n"
     ]
    }
   ],
   "source": [
    "if torch.cuda.is_available():\n",
    "    print(\"PyTorch detected CUDA\")\n",
    "    device = torch.device(\"cuda:0\")\n",
    "else: \n",
    "    print(\"PyTorch DID NOT detect CUDA\")\n",
    "    device = torch.device(\"cpu\")\n",
    "print(\"Training on :\", device)"
   ]
  },
  {
   "cell_type": "markdown",
   "id": "82952aa7",
   "metadata": {},
   "source": [
    "# Model definition"
   ]
  },
  {
   "cell_type": "code",
   "execution_count": 108,
   "id": "cd0238b8",
   "metadata": {},
   "outputs": [
    {
     "data": {
      "text/plain": [
       "Sequential(\n",
       "  (0): Linear(in_features=6, out_features=256, bias=True)\n",
       "  (1): Softplus(beta=1, threshold=20)\n",
       "  (2): Linear(in_features=256, out_features=256, bias=True)\n",
       "  (3): Softplus(beta=1, threshold=20)\n",
       "  (4): Linear(in_features=256, out_features=256, bias=True)\n",
       "  (5): Softplus(beta=1, threshold=20)\n",
       "  (6): Linear(in_features=256, out_features=3, bias=True)\n",
       ")"
      ]
     },
     "metadata": {},
     "output_type": "display_data"
    },
    {
     "name": "stdout",
     "output_type": "stream",
     "text": [
      "Amount of weights/parameters: 134147\n"
     ]
    }
   ],
   "source": [
    "# A FFNN with continuous activation functions (softplus)\n",
    "#128 neurons, one less hidden layer in this version\n",
    "neurons = 256\n",
    "model = nn.Sequential(\n",
    "          #custom_nn.Multiply(1),,\n",
    "          nn.Linear(6,neurons),\n",
    "          nn.Softplus(),\n",
    "          nn.Linear(neurons,neurons),\n",
    "          nn.Softplus(),  \n",
    "          nn.Linear(neurons,neurons),\n",
    "          nn.Softplus(),  \n",
    "          nn.Linear(neurons,3),\n",
    "        )\n",
    "model = model.cuda(device)\n",
    "\n",
    "\n",
    "# Kaiming_normal initialization method\n",
    "def initial_weights(m):\n",
    "    \"\"\"\n",
    "    - Initializes weights in each layer according to 'He initialization'.\n",
    "    Args:\n",
    "        m   (torch.nn.Linear):         - Neural network layers\n",
    "    Returns:\n",
    "        None\n",
    "    \"\"\"\n",
    "    if type(m) == torch.nn.Linear:\n",
    "        torch.nn.init.kaiming_normal_(m.weight)\n",
    "\n",
    "# Initialize the weights\n",
    "_ = model.apply(initial_weights)\n",
    "\n",
    "\n",
    "\n",
    "display(model)\n",
    "print(\"Amount of weights/parameters:\", sum([w.numel() for w in model.parameters() if w.requires_grad]))"
   ]
  },
  {
   "cell_type": "markdown",
   "id": "945fcb1c",
   "metadata": {},
   "source": [
    "# Convert model to Analog"
   ]
  },
  {
   "cell_type": "code",
   "execution_count": 109,
   "id": "324ee03e",
   "metadata": {},
   "outputs": [
    {
     "name": "stdout",
     "output_type": "stream",
     "text": [
      "Forward:\n",
      "\t mv_type:\t\tOnePass\n",
      "\t inp/out_bound:\t\t1 / 12\n",
      "\t DAC/ADC:\t\t126 / inf\n",
      "\t out_noise:\t\t0.06\n",
      "\t w_noise:\t\t0.02\n",
      "\t w_noise_type:\t\t1 (AdditiveConstant) \n",
      "\t noise_management:\t1\n",
      "\t bound_management [+/-]:Iterative\n",
      "Backward:\n",
      "\t using ideal floating point.\n",
      "Update:\n",
      "\t using ideal floating point.\n",
      "RPUCudaPulsed<float>[SimpleRPUDevice](256,6)\n",
      "\n"
     ]
    }
   ],
   "source": [
    "model = convert_to_analog(model, rpu_config)\n",
    "model = model.cuda(device)\n",
    "print(next(model[0].analog_tiles()).tile)\n"
   ]
  },
  {
   "cell_type": "markdown",
   "id": "4eb269c9",
   "metadata": {},
   "source": [
    "# Dataset split and preparation"
   ]
  },
  {
   "cell_type": "code",
   "execution_count": 110,
   "id": "69a0e71f",
   "metadata": {},
   "outputs": [],
   "source": [
    "# We split the whole dataset into training and testing\n",
    "X_TRAIN, X_VALIDATION, Y_TRAIN, Y_VALIDATION = train_test_split(data.reshape(-1,10)[:,:6], data.reshape(-1,10)[:,6:9], train_size=0.8)\n",
    "X_TRAIN = torch.tensor(X_TRAIN, device = device)\n",
    "X_VALIDATION = torch.tensor(X_VALIDATION, device = device)\n",
    "Y_TRAIN = torch.tensor(Y_TRAIN, device = device)\n",
    "Y_VALIDATION = torch.tensor(Y_VALIDATION, device = device)"
   ]
  },
  {
   "cell_type": "markdown",
   "id": "6271244b",
   "metadata": {},
   "source": [
    "# Optimizer and Loss"
   ]
  },
  {
   "cell_type": "code",
   "execution_count": 111,
   "id": "d0d44df4",
   "metadata": {},
   "outputs": [],
   "source": [
    "# The loss is the cosine of the angle between the predicted and the actual thrust vector\n",
    "from aihwkit.optim.analog_optimizer import AnalogAdam\n",
    "\n",
    "\n",
    "cosine_similarity = torch.nn.CosineSimilarity(dim=1, eps=1e-8)\n",
    "# This first loss is directly in degrees\n",
    "def loss1(ground_truth, prediction):    \n",
    "    return torch.mean(torch.arccos(cosine_similarity(ground_truth, prediction))) / np.pi * 180\n",
    "# This is the loss used in the paper with Ekin\n",
    "def loss2(ground_truth, prediction):    \n",
    "    return 1 - torch.mean(cosine_similarity(ground_truth, prediction))\n",
    "loss = loss2\n",
    "\n",
    "# Setup for the optimizer\n",
    "learning_rate = 0.5e-4*0.5\n",
    "optimizer = AnalogSGD(model.parameters(), lr=learning_rate)#weight decay for  \n",
    "optimizer.regroup_param_groups(model)\n",
    "scheduler = torch.optim.lr_scheduler.ReduceLROnPlateau(optimizer, mode='min', factor=0.9, patience=10, verbose=True, threshold=0.005, threshold_mode='rel', cooldown=0, min_lr=0, eps=1e-08)\n",
    "\n",
    "# Lists used to plot loss over epochs\n",
    "loss_list = []\n",
    "loss_val_list = []"
   ]
  },
  {
   "cell_type": "markdown",
   "id": "1d5b5b78",
   "metadata": {},
   "source": [
    "# Training loop"
   ]
  },
  {
   "cell_type": "code",
   "execution_count": 112,
   "id": "a64c4ced",
   "metadata": {
    "scrolled": true
   },
   "outputs": [
    {
     "name": "stdout",
     "output_type": "stream",
     "text": [
      "Training batchsize = 4096\n",
      "Epoch 1/100, Current learning rate: 2.5e-05, Time remaining: -\n"
     ]
    },
    {
     "name": "stderr",
     "output_type": "stream",
     "text": [
      "100%|██████████| 3906/3906 [00:26<00:00, 149.97it/s]\n"
     ]
    },
    {
     "name": "stdout",
     "output_type": "stream",
     "text": [
      "Updating best model!\n",
      "loss = 0.76863905, loss validation = 0.75129350 \n",
      "\n",
      "Epoch 2/100, Current learning rate: 2.5e-05, Time remaining: 45.74 min\n"
     ]
    },
    {
     "name": "stderr",
     "output_type": "stream",
     "text": [
      "100%|██████████| 3906/3906 [00:25<00:00, 155.59it/s]\n"
     ]
    },
    {
     "name": "stdout",
     "output_type": "stream",
     "text": [
      "Updating best model!\n",
      "loss = 0.72479267, loss validation = 0.70327921 \n",
      "\n",
      "Epoch 3/100, Current learning rate: 2.5e-05, Time remaining: 43.68 min\n"
     ]
    },
    {
     "name": "stderr",
     "output_type": "stream",
     "text": [
      "100%|██████████| 3906/3906 [00:25<00:00, 154.52it/s]\n"
     ]
    },
    {
     "name": "stdout",
     "output_type": "stream",
     "text": [
      "Updating best model!\n",
      "loss = 0.68368044, loss validation = 0.68144500 \n",
      "\n",
      "Epoch 4/100, Current learning rate: 2.5e-05, Time remaining: 43.65 min\n"
     ]
    },
    {
     "name": "stderr",
     "output_type": "stream",
     "text": [
      "100%|██████████| 3906/3906 [00:24<00:00, 157.10it/s]\n"
     ]
    },
    {
     "name": "stdout",
     "output_type": "stream",
     "text": [
      "Updating best model!\n",
      "loss = 0.61579435, loss validation = 0.63107271 \n",
      "\n",
      "Epoch 5/100, Current learning rate: 2.5e-05, Time remaining: 42.48 min\n"
     ]
    },
    {
     "name": "stderr",
     "output_type": "stream",
     "text": [
      "100%|██████████| 3906/3906 [00:26<00:00, 146.52it/s]\n"
     ]
    },
    {
     "name": "stdout",
     "output_type": "stream",
     "text": [
      "Updating best model!\n",
      "loss = 0.46734219, loss validation = 0.48146941 \n",
      "\n",
      "Epoch 6/100, Current learning rate: 2.5e-05, Time remaining: 45.05 min\n"
     ]
    },
    {
     "name": "stderr",
     "output_type": "stream",
     "text": [
      "100%|██████████| 3906/3906 [00:26<00:00, 148.51it/s]\n"
     ]
    },
    {
     "name": "stdout",
     "output_type": "stream",
     "text": [
      "Updating best model!\n",
      "loss = 0.39410337, loss validation = 0.38689395 \n",
      "\n",
      "Epoch 7/100, Current learning rate: 2.5e-05, Time remaining: 44.07 min\n"
     ]
    },
    {
     "name": "stderr",
     "output_type": "stream",
     "text": [
      "100%|██████████| 3906/3906 [00:25<00:00, 153.86it/s]\n"
     ]
    },
    {
     "name": "stdout",
     "output_type": "stream",
     "text": [
      "Updating best model!\n",
      "loss = 0.36109893, loss validation = 0.37140352 \n",
      "\n",
      "Epoch 8/100, Current learning rate: 2.5e-05, Time remaining: 42.01 min\n"
     ]
    },
    {
     "name": "stderr",
     "output_type": "stream",
     "text": [
      "100%|██████████| 3906/3906 [00:25<00:00, 154.27it/s]\n"
     ]
    },
    {
     "name": "stdout",
     "output_type": "stream",
     "text": [
      "Updating best model!\n",
      "loss = 0.34559899, loss validation = 0.35470458 \n",
      "\n",
      "Epoch 9/100, Current learning rate: 2.5e-05, Time remaining: 41.34 min\n"
     ]
    },
    {
     "name": "stderr",
     "output_type": "stream",
     "text": [
      "100%|██████████| 3906/3906 [00:25<00:00, 154.71it/s]\n"
     ]
    },
    {
     "name": "stdout",
     "output_type": "stream",
     "text": [
      "Updating best model!\n",
      "loss = 0.32897370, loss validation = 0.32415976 \n",
      "\n",
      "Epoch 10/100, Current learning rate: 2.5e-05, Time remaining: 41.01 min\n"
     ]
    },
    {
     "name": "stderr",
     "output_type": "stream",
     "text": [
      "100%|██████████| 3906/3906 [00:25<00:00, 152.97it/s]\n"
     ]
    },
    {
     "name": "stdout",
     "output_type": "stream",
     "text": [
      "loss = 0.32584321, loss validation = 0.33287880 \n",
      "\n",
      "Epoch 11/100, Current learning rate: 2.5e-05, Time remaining: 40.83 min\n"
     ]
    },
    {
     "name": "stderr",
     "output_type": "stream",
     "text": [
      "100%|██████████| 3906/3906 [00:25<00:00, 156.19it/s]\n"
     ]
    },
    {
     "name": "stdout",
     "output_type": "stream",
     "text": [
      "Updating best model!\n",
      "loss = 0.32498699, loss validation = 0.31373251 \n",
      "\n",
      "Epoch 12/100, Current learning rate: 2.5e-05, Time remaining: 39.74 min\n"
     ]
    },
    {
     "name": "stderr",
     "output_type": "stream",
     "text": [
      "100%|██████████| 3906/3906 [00:25<00:00, 154.72it/s]\n"
     ]
    },
    {
     "name": "stdout",
     "output_type": "stream",
     "text": [
      "loss = 0.31875914, loss validation = 0.32119672 \n",
      "\n",
      "Epoch 13/100, Current learning rate: 2.5e-05, Time remaining: 39.67 min\n"
     ]
    },
    {
     "name": "stderr",
     "output_type": "stream",
     "text": [
      "100%|██████████| 3906/3906 [00:24<00:00, 156.81it/s]\n"
     ]
    },
    {
     "name": "stdout",
     "output_type": "stream",
     "text": [
      "loss = 0.30159897, loss validation = 0.32895612 \n",
      "\n",
      "Epoch 14/100, Current learning rate: 2.5e-05, Time remaining: 38.64 min\n"
     ]
    },
    {
     "name": "stderr",
     "output_type": "stream",
     "text": [
      "100%|██████████| 3906/3906 [00:26<00:00, 149.41it/s]\n"
     ]
    },
    {
     "name": "stdout",
     "output_type": "stream",
     "text": [
      "loss = 0.30548060, loss validation = 0.31589230 \n",
      "\n",
      "Epoch 15/100, Current learning rate: 2.5e-05, Time remaining: 39.83 min\n"
     ]
    },
    {
     "name": "stderr",
     "output_type": "stream",
     "text": [
      "100%|██████████| 3906/3906 [00:25<00:00, 151.59it/s]\n"
     ]
    },
    {
     "name": "stdout",
     "output_type": "stream",
     "text": [
      "Updating best model!\n",
      "loss = 0.30205926, loss validation = 0.31297323 \n",
      "\n",
      "Epoch 16/100, Current learning rate: 2.5e-05, Time remaining: 39.01 min\n"
     ]
    },
    {
     "name": "stderr",
     "output_type": "stream",
     "text": [
      "100%|██████████| 3906/3906 [00:24<00:00, 157.72it/s]\n"
     ]
    },
    {
     "name": "stdout",
     "output_type": "stream",
     "text": [
      "Updating best model!\n",
      "loss = 0.30900605, loss validation = 0.30007593 \n",
      "\n",
      "Epoch 17/100, Current learning rate: 2.5e-05, Time remaining: 37.16 min\n"
     ]
    },
    {
     "name": "stderr",
     "output_type": "stream",
     "text": [
      "100%|██████████| 3906/3906 [00:24<00:00, 159.85it/s]\n"
     ]
    },
    {
     "name": "stdout",
     "output_type": "stream",
     "text": [
      "loss = 0.30522981, loss validation = 0.30144453 \n",
      "\n",
      "Epoch 18/100, Current learning rate: 2.5e-05, Time remaining: 36.25 min\n"
     ]
    },
    {
     "name": "stderr",
     "output_type": "stream",
     "text": [
      "100%|██████████| 3906/3906 [00:24<00:00, 159.44it/s]\n"
     ]
    },
    {
     "name": "stdout",
     "output_type": "stream",
     "text": [
      "loss = 0.30379611, loss validation = 0.30672272 \n",
      "\n",
      "Epoch 19/100, Current learning rate: 2.5e-05, Time remaining: 35.96 min\n"
     ]
    },
    {
     "name": "stderr",
     "output_type": "stream",
     "text": [
      "100%|██████████| 3906/3906 [00:25<00:00, 151.75it/s]\n"
     ]
    },
    {
     "name": "stdout",
     "output_type": "stream",
     "text": [
      "Updating best model!\n",
      "loss = 0.30323227, loss validation = 0.29684070 \n",
      "\n",
      "Epoch 20/100, Current learning rate: 2.5e-05, Time remaining: 37.58 min\n"
     ]
    },
    {
     "name": "stderr",
     "output_type": "stream",
     "text": [
      "100%|██████████| 3906/3906 [00:24<00:00, 156.35it/s]\n"
     ]
    },
    {
     "name": "stdout",
     "output_type": "stream",
     "text": [
      "loss = 0.29964704, loss validation = 0.29848284 \n",
      "\n",
      "Epoch 21/100, Current learning rate: 2.5e-05, Time remaining: 35.76 min\n"
     ]
    },
    {
     "name": "stderr",
     "output_type": "stream",
     "text": [
      "100%|██████████| 3906/3906 [00:24<00:00, 157.21it/s]\n"
     ]
    },
    {
     "name": "stdout",
     "output_type": "stream",
     "text": [
      "Updating best model!\n",
      "loss = 0.29491154, loss validation = 0.29026889 \n",
      "\n",
      "Epoch 22/100, Current learning rate: 2.5e-05, Time remaining: 35.15 min\n"
     ]
    },
    {
     "name": "stderr",
     "output_type": "stream",
     "text": [
      "100%|██████████| 3906/3906 [00:24<00:00, 158.21it/s]\n"
     ]
    },
    {
     "name": "stdout",
     "output_type": "stream",
     "text": [
      "Updating best model!\n",
      "loss = 0.29195089, loss validation = 0.28546804 \n",
      "\n",
      "Epoch 23/100, Current learning rate: 2.5e-05, Time remaining: 34.48 min\n"
     ]
    },
    {
     "name": "stderr",
     "output_type": "stream",
     "text": [
      "100%|██████████| 3906/3906 [00:26<00:00, 147.37it/s]\n"
     ]
    },
    {
     "name": "stdout",
     "output_type": "stream",
     "text": [
      "loss = 0.29738966, loss validation = 0.29521871 \n",
      "\n",
      "Epoch 24/100, Current learning rate: 2.5e-05, Time remaining: 36.61 min\n"
     ]
    },
    {
     "name": "stderr",
     "output_type": "stream",
     "text": [
      "100%|██████████| 3906/3906 [00:25<00:00, 156.20it/s]\n"
     ]
    },
    {
     "name": "stdout",
     "output_type": "stream",
     "text": [
      "Updating best model!\n",
      "loss = 0.28759780, loss validation = 0.27985287 \n",
      "\n",
      "Epoch 25/100, Current learning rate: 2.5e-05, Time remaining: 34.2 min\n"
     ]
    },
    {
     "name": "stderr",
     "output_type": "stream",
     "text": [
      "100%|██████████| 3906/3906 [00:24<00:00, 156.55it/s]\n"
     ]
    },
    {
     "name": "stdout",
     "output_type": "stream",
     "text": [
      "loss = 0.28860885, loss validation = 0.29385268 \n",
      "\n",
      "Epoch 26/100, Current learning rate: 2.5e-05, Time remaining: 33.31 min\n"
     ]
    },
    {
     "name": "stderr",
     "output_type": "stream",
     "text": [
      "100%|██████████| 3906/3906 [00:25<00:00, 156.21it/s]\n"
     ]
    },
    {
     "name": "stdout",
     "output_type": "stream",
     "text": [
      "loss = 0.28142695, loss validation = 0.28764498 \n",
      "\n",
      "Epoch 27/100, Current learning rate: 2.5e-05, Time remaining: 33.05 min\n"
     ]
    },
    {
     "name": "stderr",
     "output_type": "stream",
     "text": [
      "100%|██████████| 3906/3906 [00:24<00:00, 158.94it/s]\n"
     ]
    },
    {
     "name": "stdout",
     "output_type": "stream",
     "text": [
      "loss = 0.29178422, loss validation = 0.29093794 \n",
      "\n",
      "Epoch 28/100, Current learning rate: 2.5e-05, Time remaining: 32.04 min\n"
     ]
    },
    {
     "name": "stderr",
     "output_type": "stream",
     "text": [
      "100%|██████████| 3906/3906 [00:24<00:00, 158.95it/s]\n"
     ]
    },
    {
     "name": "stdout",
     "output_type": "stream",
     "text": [
      "loss = 0.27843590, loss validation = 0.28441832 \n",
      "\n",
      "Epoch 29/100, Current learning rate: 2.5e-05, Time remaining: 31.6 min\n"
     ]
    },
    {
     "name": "stderr",
     "output_type": "stream",
     "text": [
      "100%|██████████| 3906/3906 [00:24<00:00, 158.00it/s]\n"
     ]
    },
    {
     "name": "stdout",
     "output_type": "stream",
     "text": [
      "Updating best model!\n",
      "loss = 0.26717193, loss validation = 0.27111356 \n",
      "\n",
      "Epoch 30/100, Current learning rate: 2.5e-05, Time remaining: 31.43 min\n"
     ]
    },
    {
     "name": "stderr",
     "output_type": "stream",
     "text": [
      "100%|██████████| 3906/3906 [00:25<00:00, 153.34it/s]\n"
     ]
    },
    {
     "name": "stdout",
     "output_type": "stream",
     "text": [
      "loss = 0.27059860, loss validation = 0.27871724 \n",
      "\n",
      "Epoch 31/100, Current learning rate: 2.5e-05, Time remaining: 31.83 min\n"
     ]
    },
    {
     "name": "stderr",
     "output_type": "stream",
     "text": [
      "100%|██████████| 3906/3906 [00:24<00:00, 156.65it/s]\n"
     ]
    },
    {
     "name": "stdout",
     "output_type": "stream",
     "text": [
      "loss = 0.27314274, loss validation = 0.28132204 \n",
      "\n",
      "Epoch 32/100, Current learning rate: 2.5e-05, Time remaining: 30.72 min\n"
     ]
    },
    {
     "name": "stderr",
     "output_type": "stream",
     "text": [
      "100%|██████████| 3906/3906 [00:24<00:00, 160.30it/s]\n"
     ]
    },
    {
     "name": "stdout",
     "output_type": "stream",
     "text": [
      "loss = 0.27921932, loss validation = 0.27178796 \n",
      "\n",
      "Epoch 33/100, Current learning rate: 2.5e-05, Time remaining: 29.6 min\n"
     ]
    },
    {
     "name": "stderr",
     "output_type": "stream",
     "text": [
      "100%|██████████| 3906/3906 [00:23<00:00, 163.58it/s]\n"
     ]
    },
    {
     "name": "stdout",
     "output_type": "stream",
     "text": [
      "Updating best model!\n",
      "loss = 0.27170972, loss validation = 0.26532464 \n",
      "\n",
      "Epoch 34/100, Current learning rate: 2.5e-05, Time remaining: 28.68 min\n"
     ]
    },
    {
     "name": "stderr",
     "output_type": "stream",
     "text": [
      "100%|██████████| 3906/3906 [00:24<00:00, 156.46it/s]\n"
     ]
    },
    {
     "name": "stdout",
     "output_type": "stream",
     "text": [
      "Updating best model!\n",
      "loss = 0.27897608, loss validation = 0.26392377 \n",
      "\n",
      "Epoch 35/100, Current learning rate: 2.5e-05, Time remaining: 29.83 min\n"
     ]
    },
    {
     "name": "stderr",
     "output_type": "stream",
     "text": [
      "100%|██████████| 3906/3906 [00:24<00:00, 160.12it/s]\n"
     ]
    },
    {
     "name": "stdout",
     "output_type": "stream",
     "text": [
      "Updating best model!\n",
      "loss = 0.26904576, loss validation = 0.26317893 \n",
      "\n",
      "Epoch 36/100, Current learning rate: 2.5e-05, Time remaining: 28.59 min\n"
     ]
    },
    {
     "name": "stderr",
     "output_type": "stream",
     "text": [
      "100%|██████████| 3906/3906 [00:24<00:00, 156.58it/s]\n"
     ]
    },
    {
     "name": "stdout",
     "output_type": "stream",
     "text": [
      "loss = 0.26776896, loss validation = 0.27306529 \n",
      "\n",
      "Epoch 37/100, Current learning rate: 2.5e-05, Time remaining: 28.53 min\n"
     ]
    },
    {
     "name": "stderr",
     "output_type": "stream",
     "text": [
      "100%|██████████| 3906/3906 [00:25<00:00, 153.61it/s]\n"
     ]
    },
    {
     "name": "stdout",
     "output_type": "stream",
     "text": [
      "loss = 0.26499391, loss validation = 0.26506461 \n",
      "\n",
      "Epoch 38/100, Current learning rate: 2.5e-05, Time remaining: 28.6 min\n"
     ]
    },
    {
     "name": "stderr",
     "output_type": "stream",
     "text": [
      "100%|██████████| 3906/3906 [00:24<00:00, 159.70it/s]\n"
     ]
    },
    {
     "name": "stdout",
     "output_type": "stream",
     "text": [
      "loss = 0.26554312, loss validation = 0.26373469 \n",
      "\n",
      "Epoch 39/100, Current learning rate: 2.5e-05, Time remaining: 27.12 min\n"
     ]
    },
    {
     "name": "stderr",
     "output_type": "stream",
     "text": [
      "100%|██████████| 3906/3906 [00:25<00:00, 153.25it/s]\n"
     ]
    },
    {
     "name": "stdout",
     "output_type": "stream",
     "text": [
      "loss = 0.26219215, loss validation = 0.26650680 \n",
      "\n",
      "Epoch 40/100, Current learning rate: 2.5e-05, Time remaining: 27.97 min\n"
     ]
    },
    {
     "name": "stderr",
     "output_type": "stream",
     "text": [
      "100%|██████████| 3906/3906 [00:24<00:00, 158.21it/s]\n"
     ]
    },
    {
     "name": "stdout",
     "output_type": "stream",
     "text": [
      "loss = 0.26309639, loss validation = 0.26666486 \n",
      "\n",
      "Epoch 41/100, Current learning rate: 2.5e-05, Time remaining: 26.47 min\n"
     ]
    },
    {
     "name": "stderr",
     "output_type": "stream",
     "text": [
      "100%|██████████| 3906/3906 [00:24<00:00, 156.54it/s]\n"
     ]
    },
    {
     "name": "stdout",
     "output_type": "stream",
     "text": [
      "Updating best model!\n",
      "loss = 0.26443901, loss validation = 0.26203208 \n",
      "\n",
      "Epoch 42/100, Current learning rate: 2.5e-05, Time remaining: 26.37 min\n"
     ]
    },
    {
     "name": "stderr",
     "output_type": "stream",
     "text": [
      "100%|██████████| 3906/3906 [00:25<00:00, 152.67it/s]\n"
     ]
    },
    {
     "name": "stdout",
     "output_type": "stream",
     "text": [
      "loss = 0.26397944, loss validation = 0.26279059 \n",
      "\n",
      "Epoch 43/100, Current learning rate: 2.5e-05, Time remaining: 26.63 min\n"
     ]
    },
    {
     "name": "stderr",
     "output_type": "stream",
     "text": [
      "100%|██████████| 3906/3906 [00:25<00:00, 154.99it/s]\n"
     ]
    },
    {
     "name": "stdout",
     "output_type": "stream",
     "text": [
      "loss = 0.26200290, loss validation = 0.26239001 \n",
      "\n",
      "Epoch 44/100, Current learning rate: 2.5e-05, Time remaining: 25.71 min\n"
     ]
    },
    {
     "name": "stderr",
     "output_type": "stream",
     "text": [
      "100%|██████████| 3906/3906 [00:25<00:00, 154.14it/s]\n"
     ]
    },
    {
     "name": "stdout",
     "output_type": "stream",
     "text": [
      "Updating best model!\n",
      "loss = 0.26120497, loss validation = 0.26001157 \n",
      "\n",
      "Epoch 45/100, Current learning rate: 2.5e-05, Time remaining: 25.55 min\n"
     ]
    },
    {
     "name": "stderr",
     "output_type": "stream",
     "text": [
      "100%|██████████| 3906/3906 [00:25<00:00, 152.87it/s]\n"
     ]
    },
    {
     "name": "stdout",
     "output_type": "stream",
     "text": [
      "loss = 0.25470841, loss validation = 0.26670574 \n",
      "\n",
      "Epoch 46/100, Current learning rate: 2.5e-05, Time remaining: 25.21 min\n"
     ]
    },
    {
     "name": "stderr",
     "output_type": "stream",
     "text": [
      "100%|██████████| 3906/3906 [00:25<00:00, 154.30it/s]\n"
     ]
    },
    {
     "name": "stdout",
     "output_type": "stream",
     "text": [
      "loss = 0.25526336, loss validation = 0.26183589 \n",
      "\n",
      "Epoch 47/100, Current learning rate: 2.5e-05, Time remaining: 24.51 min\n"
     ]
    },
    {
     "name": "stderr",
     "output_type": "stream",
     "text": [
      "100%|██████████| 3906/3906 [00:24<00:00, 156.96it/s]\n"
     ]
    },
    {
     "name": "stdout",
     "output_type": "stream",
     "text": [
      "loss = 0.25998161, loss validation = 0.26527426 \n",
      "\n",
      "Epoch 48/100, Current learning rate: 2.5e-05, Time remaining: 23.69 min\n"
     ]
    },
    {
     "name": "stderr",
     "output_type": "stream",
     "text": [
      "100%|██████████| 3906/3906 [00:25<00:00, 156.11it/s]\n"
     ]
    },
    {
     "name": "stdout",
     "output_type": "stream",
     "text": [
      "Updating best model!\n",
      "loss = 0.25620057, loss validation = 0.25722309 \n",
      "\n",
      "Epoch 49/100, Current learning rate: 2.5e-05, Time remaining: 23.4 min\n"
     ]
    },
    {
     "name": "stderr",
     "output_type": "stream",
     "text": [
      "100%|██████████| 3906/3906 [00:25<00:00, 152.59it/s]\n"
     ]
    },
    {
     "name": "stdout",
     "output_type": "stream",
     "text": [
      "Updating best model!\n",
      "loss = 0.26070287, loss validation = 0.25357914 \n",
      "\n",
      "Epoch 50/100, Current learning rate: 2.5e-05, Time remaining: 23.56 min\n"
     ]
    },
    {
     "name": "stderr",
     "output_type": "stream",
     "text": [
      "100%|██████████| 3906/3906 [00:25<00:00, 150.88it/s]\n"
     ]
    },
    {
     "name": "stdout",
     "output_type": "stream",
     "text": [
      "loss = 0.26202361, loss validation = 0.26622257 \n",
      "\n",
      "Epoch 51/100, Current learning rate: 2.5e-05, Time remaining: 23.22 min\n"
     ]
    },
    {
     "name": "stderr",
     "output_type": "stream",
     "text": [
      "100%|██████████| 3906/3906 [00:25<00:00, 155.43it/s]\n"
     ]
    },
    {
     "name": "stdout",
     "output_type": "stream",
     "text": [
      "loss = 0.24871033, loss validation = 0.25486670 \n",
      "\n",
      "Epoch 52/100, Current learning rate: 2.5e-05, Time remaining: 22.12 min\n"
     ]
    },
    {
     "name": "stderr",
     "output_type": "stream",
     "text": [
      "100%|██████████| 3906/3906 [00:24<00:00, 156.28it/s]\n"
     ]
    },
    {
     "name": "stdout",
     "output_type": "stream",
     "text": [
      "Updating best model!\n",
      "loss = 0.25600377, loss validation = 0.25241391 \n",
      "\n",
      "Epoch 53/100, Current learning rate: 2.5e-05, Time remaining: 21.63 min\n"
     ]
    },
    {
     "name": "stderr",
     "output_type": "stream",
     "text": [
      "100%|██████████| 3906/3906 [00:24<00:00, 156.26it/s]\n"
     ]
    },
    {
     "name": "stdout",
     "output_type": "stream",
     "text": [
      "Updating best model!\n",
      "loss = 0.25441865, loss validation = 0.25237963 \n",
      "\n",
      "Epoch 54/100, Current learning rate: 2.5e-05, Time remaining: 21.23 min\n"
     ]
    },
    {
     "name": "stderr",
     "output_type": "stream",
     "text": [
      "100%|██████████| 3906/3906 [00:25<00:00, 151.95it/s]\n"
     ]
    },
    {
     "name": "stdout",
     "output_type": "stream",
     "text": [
      "loss = 0.25361703, loss validation = 0.25569556 \n",
      "\n",
      "Epoch 55/100, Current learning rate: 2.5e-05, Time remaining: 21.25 min\n"
     ]
    },
    {
     "name": "stderr",
     "output_type": "stream",
     "text": [
      "100%|██████████| 3906/3906 [00:25<00:00, 155.49it/s]\n"
     ]
    },
    {
     "name": "stdout",
     "output_type": "stream",
     "text": [
      "Updating best model!\n",
      "loss = 0.24589382, loss validation = 0.24241073 \n",
      "\n",
      "Epoch 56/100, Current learning rate: 2.5e-05, Time remaining: 20.37 min\n"
     ]
    },
    {
     "name": "stderr",
     "output_type": "stream",
     "text": [
      "100%|██████████| 3906/3906 [00:25<00:00, 153.92it/s]\n"
     ]
    },
    {
     "name": "stdout",
     "output_type": "stream",
     "text": [
      "loss = 0.24578659, loss validation = 0.25456229 \n",
      "\n",
      "Epoch 57/100, Current learning rate: 2.5e-05, Time remaining: 20.04 min\n"
     ]
    },
    {
     "name": "stderr",
     "output_type": "stream",
     "text": [
      "100%|██████████| 3906/3906 [00:25<00:00, 153.32it/s]\n"
     ]
    },
    {
     "name": "stdout",
     "output_type": "stream",
     "text": [
      "loss = 0.25172607, loss validation = 0.25251496 \n",
      "\n",
      "Epoch 58/100, Current learning rate: 2.5e-05, Time remaining: 19.67 min\n"
     ]
    },
    {
     "name": "stderr",
     "output_type": "stream",
     "text": [
      "100%|██████████| 3906/3906 [00:25<00:00, 152.14it/s]\n"
     ]
    },
    {
     "name": "stdout",
     "output_type": "stream",
     "text": [
      "loss = 0.25277146, loss validation = 0.25559403 \n",
      "\n",
      "Epoch 59/100, Current learning rate: 2.5e-05, Time remaining: 19.44 min\n"
     ]
    },
    {
     "name": "stderr",
     "output_type": "stream",
     "text": [
      "100%|██████████| 3906/3906 [00:24<00:00, 157.69it/s]\n"
     ]
    },
    {
     "name": "stdout",
     "output_type": "stream",
     "text": [
      "loss = 0.25029707, loss validation = 0.24930277 \n",
      "\n",
      "Epoch 60/100, Current learning rate: 2.5e-05, Time remaining: 18.31 min\n"
     ]
    },
    {
     "name": "stderr",
     "output_type": "stream",
     "text": [
      "100%|██████████| 3906/3906 [00:24<00:00, 156.48it/s]\n"
     ]
    },
    {
     "name": "stdout",
     "output_type": "stream",
     "text": [
      "loss = 0.24751744, loss validation = 0.24442796 \n",
      "\n",
      "Epoch 61/100, Current learning rate: 2.5e-05, Time remaining: 17.98 min\n"
     ]
    },
    {
     "name": "stderr",
     "output_type": "stream",
     "text": [
      "100%|██████████| 3906/3906 [00:24<00:00, 159.16it/s]\n"
     ]
    },
    {
     "name": "stdout",
     "output_type": "stream",
     "text": [
      "loss = 0.24297317, loss validation = 0.25350089 \n",
      "\n",
      "Epoch 62/100, Current learning rate: 2.5e-05, Time remaining: 17.29 min\n"
     ]
    },
    {
     "name": "stderr",
     "output_type": "stream",
     "text": [
      "100%|██████████| 3906/3906 [00:26<00:00, 148.36it/s]\n"
     ]
    },
    {
     "name": "stdout",
     "output_type": "stream",
     "text": [
      "loss = 0.24322297, loss validation = 0.24707990 \n",
      "\n",
      "Epoch 63/100, Current learning rate: 2.5e-05, Time remaining: 18.01 min\n"
     ]
    },
    {
     "name": "stderr",
     "output_type": "stream",
     "text": [
      "100%|██████████| 3906/3906 [00:25<00:00, 151.85it/s]\n"
     ]
    },
    {
     "name": "stdout",
     "output_type": "stream",
     "text": [
      "loss = 0.25657778, loss validation = 0.24955650 \n",
      "\n",
      "Epoch 64/100, Current learning rate: 2.5e-05, Time remaining: 17.14 min\n"
     ]
    },
    {
     "name": "stderr",
     "output_type": "stream",
     "text": [
      "100%|██████████| 3906/3906 [00:24<00:00, 157.31it/s]\n"
     ]
    },
    {
     "name": "stdout",
     "output_type": "stream",
     "text": [
      "loss = 0.25821650, loss validation = 0.24917520 \n",
      "\n",
      "Epoch 65/100, Current learning rate: 2.5e-05, Time remaining: 16.18 min\n"
     ]
    },
    {
     "name": "stderr",
     "output_type": "stream",
     "text": [
      "100%|██████████| 3906/3906 [00:25<00:00, 155.28it/s]\n"
     ]
    },
    {
     "name": "stdout",
     "output_type": "stream",
     "text": [
      "loss = 0.24761470, loss validation = 0.24872069 \n",
      "\n",
      "Epoch 66/100, Current learning rate: 2.5e-05, Time remaining: 15.94 min\n"
     ]
    },
    {
     "name": "stderr",
     "output_type": "stream",
     "text": [
      "100%|██████████| 3906/3906 [00:25<00:00, 153.28it/s]\n"
     ]
    },
    {
     "name": "stdout",
     "output_type": "stream",
     "text": [
      "Epoch 00066: reducing learning rate of group 0 to 2.2500e-05.\n",
      "Epoch 00066: reducing learning rate of group 1 to 2.2500e-05.\n",
      "Epoch 00066: reducing learning rate of group 2 to 2.2500e-05.\n",
      "Epoch 00066: reducing learning rate of group 3 to 2.2500e-05.\n",
      "Epoch 00066: reducing learning rate of group 4 to 2.2500e-05.\n",
      "loss = 0.24930212, loss validation = 0.24284852 \n",
      "\n",
      "Epoch 67/100, Current learning rate: 2.25e-05, Time remaining: 15.71 min\n"
     ]
    },
    {
     "name": "stderr",
     "output_type": "stream",
     "text": [
      "100%|██████████| 3906/3906 [00:25<00:00, 151.46it/s]\n"
     ]
    },
    {
     "name": "stdout",
     "output_type": "stream",
     "text": [
      "loss = 0.24594023, loss validation = 0.25797669 \n",
      "\n",
      "Epoch 68/100, Current learning rate: 2.25e-05, Time remaining: 15.43 min\n"
     ]
    },
    {
     "name": "stderr",
     "output_type": "stream",
     "text": [
      "100%|██████████| 3906/3906 [00:24<00:00, 158.20it/s]\n"
     ]
    },
    {
     "name": "stdout",
     "output_type": "stream",
     "text": [
      "loss = 0.24584644, loss validation = 0.24600372 \n",
      "\n",
      "Epoch 69/100, Current learning rate: 2.25e-05, Time remaining: 14.33 min\n"
     ]
    },
    {
     "name": "stderr",
     "output_type": "stream",
     "text": [
      "100%|██████████| 3906/3906 [00:25<00:00, 154.50it/s]\n"
     ]
    },
    {
     "name": "stdout",
     "output_type": "stream",
     "text": [
      "loss = 0.24112658, loss validation = 0.24726122 \n",
      "\n",
      "Epoch 70/100, Current learning rate: 2.25e-05, Time remaining: 14.23 min\n"
     ]
    },
    {
     "name": "stderr",
     "output_type": "stream",
     "text": [
      "100%|██████████| 3906/3906 [00:24<00:00, 157.34it/s]\n"
     ]
    },
    {
     "name": "stdout",
     "output_type": "stream",
     "text": [
      "loss = 0.24754332, loss validation = 0.24943258 \n",
      "\n",
      "Epoch 71/100, Current learning rate: 2.25e-05, Time remaining: 13.53 min\n"
     ]
    },
    {
     "name": "stderr",
     "output_type": "stream",
     "text": [
      "100%|██████████| 3906/3906 [00:25<00:00, 156.10it/s]\n"
     ]
    },
    {
     "name": "stdout",
     "output_type": "stream",
     "text": [
      "Updating best model!\n",
      "loss = 0.24326673, loss validation = 0.22672308 \n",
      "\n",
      "Epoch 72/100, Current learning rate: 2.25e-05, Time remaining: 13.25 min\n"
     ]
    },
    {
     "name": "stderr",
     "output_type": "stream",
     "text": [
      "100%|██████████| 3906/3906 [00:25<00:00, 155.53it/s]\n"
     ]
    },
    {
     "name": "stdout",
     "output_type": "stream",
     "text": [
      "loss = 0.24229918, loss validation = 0.24850439 \n",
      "\n",
      "Epoch 73/100, Current learning rate: 2.25e-05, Time remaining: 12.84 min\n"
     ]
    },
    {
     "name": "stderr",
     "output_type": "stream",
     "text": [
      "100%|██████████| 3906/3906 [00:25<00:00, 155.64it/s]\n"
     ]
    },
    {
     "name": "stdout",
     "output_type": "stream",
     "text": [
      "loss = 0.23671781, loss validation = 0.24184485 \n",
      "\n",
      "Epoch 74/100, Current learning rate: 2.25e-05, Time remaining: 12.34 min\n"
     ]
    },
    {
     "name": "stderr",
     "output_type": "stream",
     "text": [
      "100%|██████████| 3906/3906 [00:26<00:00, 150.02it/s]\n"
     ]
    },
    {
     "name": "stdout",
     "output_type": "stream",
     "text": [
      "loss = 0.23716336, loss validation = 0.23688175 \n",
      "\n",
      "Epoch 75/100, Current learning rate: 2.25e-05, Time remaining: 12.32 min\n"
     ]
    },
    {
     "name": "stderr",
     "output_type": "stream",
     "text": [
      "100%|██████████| 3906/3906 [00:24<00:00, 157.39it/s]\n"
     ]
    },
    {
     "name": "stdout",
     "output_type": "stream",
     "text": [
      "loss = 0.23671761, loss validation = 0.23366159 \n",
      "\n",
      "Epoch 76/100, Current learning rate: 2.25e-05, Time remaining: 11.33 min\n"
     ]
    },
    {
     "name": "stderr",
     "output_type": "stream",
     "text": [
      "100%|██████████| 3906/3906 [00:25<00:00, 151.26it/s]\n"
     ]
    },
    {
     "name": "stdout",
     "output_type": "stream",
     "text": [
      "loss = 0.23492015, loss validation = 0.24456029 \n",
      "\n",
      "Epoch 77/100, Current learning rate: 2.25e-05, Time remaining: 11.32 min\n"
     ]
    },
    {
     "name": "stderr",
     "output_type": "stream",
     "text": [
      "100%|██████████| 3906/3906 [00:25<00:00, 151.04it/s]\n"
     ]
    },
    {
     "name": "stdout",
     "output_type": "stream",
     "text": [
      "loss = 0.24650010, loss validation = 0.23839873 \n",
      "\n",
      "Epoch 78/100, Current learning rate: 2.25e-05, Time remaining: 10.88 min\n"
     ]
    },
    {
     "name": "stderr",
     "output_type": "stream",
     "text": [
      "100%|██████████| 3906/3906 [00:24<00:00, 158.79it/s]\n"
     ]
    },
    {
     "name": "stdout",
     "output_type": "stream",
     "text": [
      "loss = 0.24094505, loss validation = 0.23790168 \n",
      "\n",
      "Epoch 79/100, Current learning rate: 2.25e-05, Time remaining: 9.94 min\n"
     ]
    },
    {
     "name": "stderr",
     "output_type": "stream",
     "text": [
      "100%|██████████| 3906/3906 [00:25<00:00, 154.45it/s]\n"
     ]
    },
    {
     "name": "stdout",
     "output_type": "stream",
     "text": [
      "loss = 0.24051264, loss validation = 0.22838292 \n",
      "\n",
      "Epoch 80/100, Current learning rate: 2.25e-05, Time remaining: 9.79 min\n"
     ]
    },
    {
     "name": "stderr",
     "output_type": "stream",
     "text": [
      "100%|██████████| 3906/3906 [00:25<00:00, 151.86it/s]\n"
     ]
    },
    {
     "name": "stdout",
     "output_type": "stream",
     "text": [
      "loss = 0.24796006, loss validation = 0.23502903 \n",
      "\n",
      "Epoch 81/100, Current learning rate: 2.25e-05, Time remaining: 9.47 min\n"
     ]
    },
    {
     "name": "stderr",
     "output_type": "stream",
     "text": [
      "100%|██████████| 3906/3906 [00:25<00:00, 154.18it/s]\n"
     ]
    },
    {
     "name": "stdout",
     "output_type": "stream",
     "text": [
      "loss = 0.24872397, loss validation = 0.24062272 \n",
      "\n",
      "Epoch 82/100, Current learning rate: 2.25e-05, Time remaining: 8.92 min\n"
     ]
    },
    {
     "name": "stderr",
     "output_type": "stream",
     "text": [
      "100%|██████████| 3906/3906 [00:25<00:00, 153.65it/s]\n"
     ]
    },
    {
     "name": "stdout",
     "output_type": "stream",
     "text": [
      "Epoch 00082: reducing learning rate of group 0 to 2.0250e-05.\n",
      "Epoch 00082: reducing learning rate of group 1 to 2.0250e-05.\n",
      "Epoch 00082: reducing learning rate of group 2 to 2.0250e-05.\n",
      "Epoch 00082: reducing learning rate of group 3 to 2.0250e-05.\n",
      "Epoch 00082: reducing learning rate of group 4 to 2.0250e-05.\n",
      "loss = 0.24710799, loss validation = 0.24097502 \n",
      "\n",
      "Epoch 83/100, Current learning rate: 2.025e-05, Time remaining: 8.52 min\n"
     ]
    },
    {
     "name": "stderr",
     "output_type": "stream",
     "text": [
      "100%|██████████| 3906/3906 [00:25<00:00, 152.20it/s]\n"
     ]
    },
    {
     "name": "stdout",
     "output_type": "stream",
     "text": [
      "loss = 0.22975965, loss validation = 0.23759435 \n",
      "\n",
      "Epoch 84/100, Current learning rate: 2.025e-05, Time remaining: 8.14 min\n"
     ]
    },
    {
     "name": "stderr",
     "output_type": "stream",
     "text": [
      "100%|██████████| 3906/3906 [00:25<00:00, 150.58it/s]\n"
     ]
    },
    {
     "name": "stdout",
     "output_type": "stream",
     "text": [
      "loss = 0.24135126, loss validation = 0.23557821 \n",
      "\n",
      "Epoch 85/100, Current learning rate: 2.025e-05, Time remaining: 7.76 min\n"
     ]
    },
    {
     "name": "stderr",
     "output_type": "stream",
     "text": [
      "100%|██████████| 3906/3906 [00:25<00:00, 151.26it/s]\n"
     ]
    },
    {
     "name": "stdout",
     "output_type": "stream",
     "text": [
      "loss = 0.24014288, loss validation = 0.23095808 \n",
      "\n",
      "Epoch 86/100, Current learning rate: 2.025e-05, Time remaining: 7.27 min\n"
     ]
    },
    {
     "name": "stderr",
     "output_type": "stream",
     "text": [
      "100%|██████████| 3906/3906 [00:25<00:00, 153.17it/s]\n"
     ]
    },
    {
     "name": "stdout",
     "output_type": "stream",
     "text": [
      "loss = 0.23378533, loss validation = 0.24386363 \n",
      "\n",
      "Epoch 87/100, Current learning rate: 2.025e-05, Time remaining: 6.72 min\n"
     ]
    },
    {
     "name": "stderr",
     "output_type": "stream",
     "text": [
      "100%|██████████| 3906/3906 [00:25<00:00, 152.78it/s]\n"
     ]
    },
    {
     "name": "stdout",
     "output_type": "stream",
     "text": [
      "loss = 0.23721164, loss validation = 0.24181126 \n",
      "\n",
      "Epoch 88/100, Current learning rate: 2.025e-05, Time remaining: 6.31 min\n"
     ]
    },
    {
     "name": "stderr",
     "output_type": "stream",
     "text": [
      "100%|██████████| 3906/3906 [00:24<00:00, 156.71it/s]\n"
     ]
    },
    {
     "name": "stdout",
     "output_type": "stream",
     "text": [
      "loss = 0.24366237, loss validation = 0.25056728 \n",
      "\n",
      "Epoch 89/100, Current learning rate: 2.025e-05, Time remaining: 5.71 min\n"
     ]
    },
    {
     "name": "stderr",
     "output_type": "stream",
     "text": [
      "100%|██████████| 3906/3906 [00:25<00:00, 153.94it/s]\n"
     ]
    },
    {
     "name": "stdout",
     "output_type": "stream",
     "text": [
      "loss = 0.24625775, loss validation = 0.23600914 \n",
      "\n",
      "Epoch 90/100, Current learning rate: 2.025e-05, Time remaining: 5.37 min\n"
     ]
    },
    {
     "name": "stderr",
     "output_type": "stream",
     "text": [
      "100%|██████████| 3906/3906 [00:24<00:00, 158.46it/s]\n"
     ]
    },
    {
     "name": "stdout",
     "output_type": "stream",
     "text": [
      "loss = 0.24377559, loss validation = 0.24300963 \n",
      "\n",
      "Epoch 91/100, Current learning rate: 2.025e-05, Time remaining: 4.77 min\n"
     ]
    },
    {
     "name": "stderr",
     "output_type": "stream",
     "text": [
      "100%|██████████| 3906/3906 [00:25<00:00, 154.65it/s]\n"
     ]
    },
    {
     "name": "stdout",
     "output_type": "stream",
     "text": [
      "loss = 0.23725617, loss validation = 0.22997505 \n",
      "\n",
      "Epoch 92/100, Current learning rate: 2.025e-05, Time remaining: 4.45 min\n"
     ]
    },
    {
     "name": "stderr",
     "output_type": "stream",
     "text": [
      "100%|██████████| 3906/3906 [00:26<00:00, 149.56it/s]\n"
     ]
    },
    {
     "name": "stdout",
     "output_type": "stream",
     "text": [
      "loss = 0.23747410, loss validation = 0.24030475 \n",
      "\n",
      "Epoch 93/100, Current learning rate: 2.025e-05, Time remaining: 4.13 min\n"
     ]
    },
    {
     "name": "stderr",
     "output_type": "stream",
     "text": [
      "100%|██████████| 3906/3906 [00:26<00:00, 147.57it/s]\n"
     ]
    },
    {
     "name": "stdout",
     "output_type": "stream",
     "text": [
      "Epoch 00093: reducing learning rate of group 0 to 1.8225e-05.\n",
      "Epoch 00093: reducing learning rate of group 1 to 1.8225e-05.\n",
      "Epoch 00093: reducing learning rate of group 2 to 1.8225e-05.\n",
      "Epoch 00093: reducing learning rate of group 3 to 1.8225e-05.\n",
      "Epoch 00093: reducing learning rate of group 4 to 1.8225e-05.\n",
      "loss = 0.22687169, loss validation = 0.24062755 \n",
      "\n",
      "Epoch 94/100, Current learning rate: 1.8225000000000003e-05, Time remaining: 3.71 min\n"
     ]
    },
    {
     "name": "stderr",
     "output_type": "stream",
     "text": [
      "100%|██████████| 3906/3906 [00:26<00:00, 149.68it/s]\n"
     ]
    },
    {
     "name": "stdout",
     "output_type": "stream",
     "text": [
      "loss = 0.22833657, loss validation = 0.24772315 \n",
      "\n",
      "Epoch 95/100, Current learning rate: 1.8225000000000003e-05, Time remaining: 3.21 min\n"
     ]
    },
    {
     "name": "stderr",
     "output_type": "stream",
     "text": [
      "100%|██████████| 3906/3906 [00:25<00:00, 151.13it/s]\n"
     ]
    },
    {
     "name": "stdout",
     "output_type": "stream",
     "text": [
      "loss = 0.23129785, loss validation = 0.23539134 \n",
      "\n",
      "Epoch 96/100, Current learning rate: 1.8225000000000003e-05, Time remaining: 2.73 min\n"
     ]
    },
    {
     "name": "stderr",
     "output_type": "stream",
     "text": [
      "100%|██████████| 3906/3906 [00:24<00:00, 157.05it/s]\n"
     ]
    },
    {
     "name": "stdout",
     "output_type": "stream",
     "text": [
      "loss = 0.22711314, loss validation = 0.23873453 \n",
      "\n",
      "Epoch 97/100, Current learning rate: 1.8225000000000003e-05, Time remaining: 2.19 min\n"
     ]
    },
    {
     "name": "stderr",
     "output_type": "stream",
     "text": [
      "100%|██████████| 3906/3906 [00:25<00:00, 152.26it/s]\n"
     ]
    },
    {
     "name": "stdout",
     "output_type": "stream",
     "text": [
      "Updating best model!\n",
      "loss = 0.23897087, loss validation = 0.22270340 \n",
      "\n",
      "Epoch 98/100, Current learning rate: 1.8225000000000003e-05, Time remaining: 1.8 min\n"
     ]
    },
    {
     "name": "stderr",
     "output_type": "stream",
     "text": [
      "100%|██████████| 3906/3906 [00:25<00:00, 155.20it/s]\n"
     ]
    },
    {
     "name": "stdout",
     "output_type": "stream",
     "text": [
      "loss = 0.24270788, loss validation = 0.24129413 \n",
      "\n",
      "Epoch 99/100, Current learning rate: 1.8225000000000003e-05, Time remaining: 1.33 min\n"
     ]
    },
    {
     "name": "stderr",
     "output_type": "stream",
     "text": [
      "100%|██████████| 3906/3906 [00:25<00:00, 153.12it/s]\n"
     ]
    },
    {
     "name": "stdout",
     "output_type": "stream",
     "text": [
      "loss = 0.23946485, loss validation = 0.24278187 \n",
      "\n",
      "Epoch 100/100, Current learning rate: 1.8225000000000003e-05, Time remaining: 54.0 s\n"
     ]
    },
    {
     "name": "stderr",
     "output_type": "stream",
     "text": [
      "100%|██████████| 3906/3906 [00:24<00:00, 157.39it/s]\n"
     ]
    },
    {
     "name": "stdout",
     "output_type": "stream",
     "text": [
      "loss = 0.24297106, loss validation = 0.23058540 \n",
      "\n",
      "Total Training Time time: 2670.39s seconds\n"
     ]
    }
   ],
   "source": [
    "n_epochs = 100 #300 minimum\n",
    "batch_size_train = 4096\n",
    "batch_size_val = 4096\n",
    "\n",
    "first = True\n",
    "start_time = time.time()\n",
    "\n",
    "# We store the model that suring training obtains the best score on validation\n",
    "best_model = copy.deepcopy(model)\n",
    "best_loss = 1e4\n",
    "\n",
    "print(f'Training batchsize = {batch_size_train}') # Can also be accessed with batchsize = states.shape[0]\n",
    "\n",
    "for epoch in range(n_epochs):\n",
    "    if first:\n",
    "        time_remaining = '-'\n",
    "    else:\n",
    "        time_estimate = epoch_time*(n_epochs-epoch+1)\n",
    "        if time_estimate > 60:\n",
    "            if time_estimate > 3600:\n",
    "                time_remaining = str(round(time_estimate/3600,2))+' h'\n",
    "            else:\n",
    "                time_remaining = str(round(time_estimate/60,2))+' min'\n",
    "        else:\n",
    "            time_remaining = str(round(time_estimate,0))+' s'\n",
    "        \n",
    "    first = False\n",
    "    print(f\"Epoch {epoch+1}/{n_epochs}, Current learning rate: {optimizer.state_dict()['param_groups'][0]['lr']}, Time remaining: {'-' if first else time_remaining}\")\n",
    "\n",
    "    start_time_epoch = time.time()\n",
    "    X_TRAIN, Y_TRAIN = shuffle(X_TRAIN, Y_TRAIN)\n",
    "    \n",
    "    # We loop over the entire dataset (ignoring the last incomplete batch)\n",
    "    for i in tqdm(range(X_TRAIN.shape[0]//batch_size_train)):\n",
    "        states = X_TRAIN[i*batch_size_train: (i+1)*batch_size_train, :]\n",
    "        labels = Y_TRAIN[i*batch_size_train: (i+1)*batch_size_train, :]\n",
    "\n",
    "        # Reset gradients (backward() is cumulative)\n",
    "        optimizer.zero_grad()\n",
    "        # Forward pass = prediction\n",
    "        predictions = model(states.float())\n",
    "\n",
    "        # Loss\n",
    "        l = loss(labels, predictions)\n",
    "\n",
    "        # Backward pass = Gradients (dl/dw)\n",
    "        l.backward() # Automatically compute the gradient of the loss wrt the weights\n",
    "\n",
    "        # Update weights\n",
    "        optimizer.step()\n",
    "        \n",
    "    with torch.no_grad():\n",
    "        # Load random validation batch\n",
    "        X_VALIDATION, Y_VALIDATION = shuffle(X_TRAIN, Y_TRAIN)\n",
    "        states_val = X_VALIDATION[:batch_size_val, :]\n",
    "        labels_val = Y_VALIDATION[:batch_size_val, :]\n",
    "    \n",
    "        # Forward pass = prediction\n",
    "        predictions_val = model(states_val.float())\n",
    "        \n",
    "        # Loss\n",
    "        l_val = loss(labels_val, predictions_val)\n",
    "        \n",
    "        if l_val < best_loss:\n",
    "            best_model = copy.deepcopy(model)\n",
    "            best_loss = l_val\n",
    "            print(\"Updating best model!\")\n",
    "        # Scheduler (reduce learning rate if loss stagnates)\n",
    "        scheduler.step(l_val)       \n",
    "    \n",
    "    # Save values for plots\n",
    "    loss_list.append(l.item())\n",
    "    loss_val_list.append(l_val.item())\n",
    "\n",
    "    print(f'loss = {l:.8f}, loss validation = {l_val:.8f} \\n')\n",
    "    \n",
    "    epoch_time = (time.time() - start_time_epoch)\n",
    "    \n",
    "# Compute excecution time\n",
    "execution_time = (time.time() - start_time)    \n",
    "print(f\"Total Training Time time: {round(execution_time,2)}s seconds\")"
   ]
  },
  {
   "cell_type": "code",
   "execution_count": 113,
   "id": "da708029",
   "metadata": {},
   "outputs": [
    {
     "data": {
      "image/png": "[encoded data removed]",
      "text/plain": [
       "<Figure size 1000x500 with 1 Axes>"
      ]
     },
     "metadata": {},
     "output_type": "display_data"
    }
   ],
   "source": [
    "fig, ((ax1)) = plt.subplots(1, 1)\n",
    "fig.set_figheight(5)\n",
    "fig.set_figwidth(10)\n",
    "#ax1.set_title('Loss over epochs')\n",
    "ax1.grid()\n",
    "ax1.semilogy(loss_list, 'orange', marker='.',label='Training loss')\n",
    "ax1.semilogy(loss_val_list, 'red', marker='.', label='Validation loss')\n",
    "ax1.legend()\n",
    "plt.show()"
   ]
  },
  {
   "cell_type": "code",
   "execution_count": 114,
   "id": "e78f4b94",
   "metadata": {},
   "outputs": [],
   "source": [
    "# Save model\n",
    "model_path = f\"{datset_name}_{n_epochs}_epochs_4_layers_{neurons}_neurons_{batch_size_train}_batch_size_loss2_analog.mdl\"\n",
    "torch.save(best_model.state_dict(), model_path)"
   ]
  },
  {
   "cell_type": "code",
   "execution_count": 115,
   "id": "465063b0",
   "metadata": {},
   "outputs": [],
   "source": [
    "# Save the loss trend\n",
    "with open(\"figures/loss_data.pk\",\"wb\") as file:\n",
    "    pkl.dump((loss_list, loss_val_list), file)"
   ]
  }
 ],
 "metadata": {
  "kernelspec": {
   "display_name": "Python 3 (ipykernel)",
   "language": "python",
   "name": "python3"
  },
  "language_info": {
   "codemirror_mode": {
    "name": "ipython",
    "version": 3
   },
   "file_extension": ".py",
   "mimetype": "text/x-python",
   "name": "python",
   "nbconvert_exporter": "python",
   "pygments_lexer": "ipython3",
   "version": "3.11.7"
  }
 },
 "nbformat": 4,
 "nbformat_minor": 5
}
